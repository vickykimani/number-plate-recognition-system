{
 "cells": [
  {
   "cell_type": "code",
   "execution_count": 7,
   "metadata": {},
   "outputs": [
    {
     "name": "stdout",
     "output_type": "stream",
     "text": [
      "Collecting opencv-python\n",
      "  Downloading opencv_python-4.6.0.66-cp37-abi3-macosx_11_0_arm64.whl (30.0 MB)\n",
      "\u001b[2K     \u001b[90m━━━━━━━━━━━━━━━━━━━━━━━━━━━━━━━━━━━━━━━\u001b[0m \u001b[32m30.0/30.0 MB\u001b[0m \u001b[31m445.1 kB/s\u001b[0m eta \u001b[36m0:00:00\u001b[0m00:01\u001b[0m00:02\u001b[0m\n",
      "\u001b[?25hRequirement already satisfied: numpy>=1.14.5 in /Library/Frameworks/Python.framework/Versions/3.10/lib/python3.10/site-packages (from opencv-python) (1.22.4)\n",
      "Installing collected packages: opencv-python\n",
      "Successfully installed opencv-python-4.6.0.66\n",
      "Note: you may need to restart the kernel to use updated packages.\n"
     ]
    }
   ],
   "source": [
    "pip install opencv-python"
   ]
  },
  {
   "cell_type": "code",
   "execution_count": 5,
   "metadata": {},
   "outputs": [
    {
     "name": "stdout",
     "output_type": "stream",
     "text": [
      "/Users/vickykimani/Desktop/school work/1st semester/informatics 2/anpr_system/archive/deep_sort\n"
     ]
    },
    {
     "ename": "ModuleNotFoundError",
     "evalue": "No module named 'cv2'",
     "output_type": "error",
     "traceback": [
      "\u001b[0;31m---------------------------------------------------------------------------\u001b[0m",
      "\u001b[0;31mModuleNotFoundError\u001b[0m                       Traceback (most recent call last)",
      "Cell \u001b[0;32mIn [5], line 2\u001b[0m\n\u001b[1;32m      1\u001b[0m get_ipython()\u001b[38;5;241m.\u001b[39mrun_line_magic(\u001b[38;5;124m'\u001b[39m\u001b[38;5;124mcd\u001b[39m\u001b[38;5;124m'\u001b[39m, \u001b[38;5;124m\"\u001b[39m\u001b[38;5;124m'\u001b[39m\u001b[38;5;124m/Users/vickykimani/Desktop/school work/1st semester/informatics 2/anpr_system/archive/deep_sort\u001b[39m\u001b[38;5;124m'\u001b[39m\u001b[38;5;124m\"\u001b[39m)\n\u001b[0;32m----> 2\u001b[0m \u001b[38;5;28;01mfrom\u001b[39;00m \u001b[38;5;21;01mapplication_util\u001b[39;00m \u001b[38;5;28;01mimport\u001b[39;00m preprocessing\n\u001b[1;32m      3\u001b[0m \u001b[38;5;28;01mfrom\u001b[39;00m \u001b[38;5;21;01mdeep_sort\u001b[39;00m \u001b[38;5;28;01mimport\u001b[39;00m nn_matching\n\u001b[1;32m      4\u001b[0m \u001b[38;5;28;01mfrom\u001b[39;00m \u001b[38;5;21;01mdeep_sort\u001b[39;00m\u001b[38;5;21;01m.\u001b[39;00m\u001b[38;5;21;01mdetection\u001b[39;00m \u001b[38;5;28;01mimport\u001b[39;00m Detection\n",
      "File \u001b[0;32m~/Desktop/school work/1st semester/informatics 2/anpr_system/archive/deep_sort/application_util/preprocessing.py:3\u001b[0m\n\u001b[1;32m      <a href='file:///Users/vickykimani/Desktop/school%20work/1st%20semester/informatics%202/anpr_system/archive/deep_sort/application_util/preprocessing.py?line=0'>1</a>\u001b[0m \u001b[39m# vim: expandtab:ts=4:sw=4\u001b[39;00m\n\u001b[1;32m      <a href='file:///Users/vickykimani/Desktop/school%20work/1st%20semester/informatics%202/anpr_system/archive/deep_sort/application_util/preprocessing.py?line=1'>2</a>\u001b[0m \u001b[39mimport\u001b[39;00m \u001b[39mnumpy\u001b[39;00m \u001b[39mas\u001b[39;00m \u001b[39mnp\u001b[39;00m\n\u001b[0;32m----> <a href='file:///Users/vickykimani/Desktop/school%20work/1st%20semester/informatics%202/anpr_system/archive/deep_sort/application_util/preprocessing.py?line=2'>3</a>\u001b[0m \u001b[39mimport\u001b[39;00m \u001b[39mcv2\u001b[39;00m\n\u001b[1;32m      <a href='file:///Users/vickykimani/Desktop/school%20work/1st%20semester/informatics%202/anpr_system/archive/deep_sort/application_util/preprocessing.py?line=5'>6</a>\u001b[0m \u001b[39mdef\u001b[39;00m \u001b[39mnon_max_suppression\u001b[39m(boxes, max_bbox_overlap, scores\u001b[39m=\u001b[39m\u001b[39mNone\u001b[39;00m):\n\u001b[1;32m      <a href='file:///Users/vickykimani/Desktop/school%20work/1st%20semester/informatics%202/anpr_system/archive/deep_sort/application_util/preprocessing.py?line=6'>7</a>\u001b[0m     \u001b[39m\"\"\"Suppress overlapping detections.\u001b[39;00m\n\u001b[1;32m      <a href='file:///Users/vickykimani/Desktop/school%20work/1st%20semester/informatics%202/anpr_system/archive/deep_sort/application_util/preprocessing.py?line=7'>8</a>\u001b[0m \n\u001b[1;32m      <a href='file:///Users/vickykimani/Desktop/school%20work/1st%20semester/informatics%202/anpr_system/archive/deep_sort/application_util/preprocessing.py?line=8'>9</a>\u001b[0m \u001b[39m    Original code from [1]_ has been adapted to include confidence score.\u001b[39;00m\n\u001b[0;32m   (...)\u001b[0m\n\u001b[1;32m     <a href='file:///Users/vickykimani/Desktop/school%20work/1st%20semester/informatics%202/anpr_system/archive/deep_sort/application_util/preprocessing.py?line=34'>35</a>\u001b[0m \n\u001b[1;32m     <a href='file:///Users/vickykimani/Desktop/school%20work/1st%20semester/informatics%202/anpr_system/archive/deep_sort/application_util/preprocessing.py?line=35'>36</a>\u001b[0m \u001b[39m    \"\"\"\u001b[39;00m\n",
      "\u001b[0;31mModuleNotFoundError\u001b[0m: No module named 'cv2'"
     ]
    }
   ],
   "source": [
    "%cd '/Users/vickykimani/Desktop/school work/1st semester/informatics 2/anpr_system/archive/deep_sort'\n",
    "from application_util import preprocessing\n",
    "from deep_sort import nn_matching\n",
    "from deep_sort.detection import Detection\n",
    "import uuid"
   ]
  }
 ],
 "metadata": {
  "interpreter": {
   "hash": "aee8b7b246df8f9039afb4144a1f6fd8d2ca17a180786b69acc140d282b71a49"
  },
  "kernelspec": {
   "display_name": "Python 3.10.4 64-bit",
   "language": "python",
   "name": "python3"
  },
  "language_info": {
   "codemirror_mode": {
    "name": "ipython",
    "version": 3
   },
   "file_extension": ".py",
   "mimetype": "text/x-python",
   "name": "python",
   "nbconvert_exporter": "python",
   "pygments_lexer": "ipython3",
   "version": "3.10.4"
  },
  "orig_nbformat": 4
 },
 "nbformat": 4,
 "nbformat_minor": 2
}
