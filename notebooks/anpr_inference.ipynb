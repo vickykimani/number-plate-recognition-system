{
 "cells": [
  {
   "cell_type": "code",
   "execution_count": 1,
   "metadata": {},
   "outputs": [],
   "source": [
    "#this is the main notebook that performs ANPR on an image."
   ]
  },
  {
   "cell_type": "code",
   "execution_count": 2,
   "metadata": {},
   "outputs": [],
   "source": [
    "import tensorflow as tf"
   ]
  },
  {
   "cell_type": "code",
   "execution_count": 3,
   "metadata": {},
   "outputs": [
    {
     "name": "stdout",
     "output_type": "stream",
     "text": [
      "/Users/vickykimani/Desktop/school work/1st semester/informatics 2/anpr_system/deep_sortt\n"
     ]
    }
   ],
   "source": [
    "%cd '/Users/vickykimani/Desktop/school work/1st semester/informatics 2/anpr_system/deep_sortt'"
   ]
  },
  {
   "cell_type": "code",
   "execution_count": 4,
   "metadata": {},
   "outputs": [],
   "source": [
    "from application_util import preprocessing"
   ]
  },
  {
   "cell_type": "code",
   "execution_count": 5,
   "metadata": {},
   "outputs": [],
   "source": [
    "from deep_sort import nn_matching"
   ]
  },
  {
   "cell_type": "code",
   "execution_count": 6,
   "metadata": {},
   "outputs": [],
   "source": [
    "from deep_sort.detection import Detection"
   ]
  },
  {
   "cell_type": "code",
   "execution_count": 7,
   "metadata": {},
   "outputs": [],
   "source": [
    "from deep_sort.tracker import Tracker"
   ]
  },
  {
   "cell_type": "code",
   "execution_count": 8,
   "metadata": {},
   "outputs": [],
   "source": [
    "from tools_deepsort import generate_detections as gdet"
   ]
  },
  {
   "cell_type": "code",
   "execution_count": 9,
   "metadata": {},
   "outputs": [],
   "source": [
    "import uuid"
   ]
  },
  {
   "cell_type": "code",
   "execution_count": 10,
   "metadata": {},
   "outputs": [
    {
     "name": "stdout",
     "output_type": "stream",
     "text": [
      "/Users/vickykimani/Desktop/school work/1st semester/informatics 2/anpr_system\n"
     ]
    }
   ],
   "source": [
    "cd ../"
   ]
  },
  {
   "cell_type": "code",
   "execution_count": 13,
   "metadata": {},
   "outputs": [
    {
     "name": "stdout",
     "output_type": "stream",
     "text": [
      "Requirement already satisfied: paddlepaddle in /opt/anaconda3/envs/tf/lib/python3.10/site-packages (2.4.0)\n",
      "Requirement already satisfied: paddle-bfloat==0.1.7 in /opt/anaconda3/envs/tf/lib/python3.10/site-packages (from paddlepaddle) (0.1.7)\n",
      "Requirement already satisfied: astor in /opt/anaconda3/envs/tf/lib/python3.10/site-packages (from paddlepaddle) (0.8.1)\n",
      "Requirement already satisfied: opt-einsum==3.3.0 in /opt/anaconda3/envs/tf/lib/python3.10/site-packages (from paddlepaddle) (3.3.0)\n",
      "Requirement already satisfied: protobuf<=3.20.0,>=3.1.0 in /opt/anaconda3/envs/tf/lib/python3.10/site-packages (from paddlepaddle) (3.20.0)\n",
      "Requirement already satisfied: requests>=2.20.0 in /opt/anaconda3/envs/tf/lib/python3.10/site-packages (from paddlepaddle) (2.28.1)\n",
      "Requirement already satisfied: numpy>=1.13 in /opt/anaconda3/envs/tf/lib/python3.10/site-packages (from paddlepaddle) (1.22.4)\n",
      "Requirement already satisfied: decorator in /opt/anaconda3/envs/tf/lib/python3.10/site-packages (from paddlepaddle) (5.1.1)\n",
      "Requirement already satisfied: six in /opt/anaconda3/envs/tf/lib/python3.10/site-packages (from paddlepaddle) (1.16.0)\n",
      "Requirement already satisfied: Pillow in /opt/anaconda3/envs/tf/lib/python3.10/site-packages (from paddlepaddle) (9.3.0)\n",
      "Requirement already satisfied: urllib3<1.27,>=1.21.1 in /opt/anaconda3/envs/tf/lib/python3.10/site-packages (from requests>=2.20.0->paddlepaddle) (1.26.12)\n",
      "Requirement already satisfied: idna<4,>=2.5 in /opt/anaconda3/envs/tf/lib/python3.10/site-packages (from requests>=2.20.0->paddlepaddle) (3.4)\n",
      "Requirement already satisfied: charset-normalizer<3,>=2 in /opt/anaconda3/envs/tf/lib/python3.10/site-packages (from requests>=2.20.0->paddlepaddle) (2.0.4)\n",
      "Requirement already satisfied: certifi>=2017.4.17 in /opt/anaconda3/envs/tf/lib/python3.10/site-packages (from requests>=2.20.0->paddlepaddle) (2022.9.24)\n",
      "Note: you may need to restart the kernel to use updated packages.\n"
     ]
    }
   ],
   "source": [
    "pip install paddlepaddle"
   ]
  },
  {
   "cell_type": "code",
   "execution_count": 15,
   "metadata": {},
   "outputs": [
    {
     "name": "stdout",
     "output_type": "stream",
     "text": [
      "Collecting paddleocr>=2.6.0\n",
      "  Using cached paddleocr-2.6.1.1-py3-none-any.whl (411 kB)\n",
      "Collecting imgaug\n",
      "  Using cached imgaug-0.4.0-py2.py3-none-any.whl (948 kB)\n",
      "Requirement already satisfied: numpy in /opt/anaconda3/envs/tf/lib/python3.10/site-packages (from paddleocr>=2.6.0) (1.22.4)\n",
      "Requirement already satisfied: opencv-python in /opt/anaconda3/envs/tf/lib/python3.10/site-packages (from paddleocr>=2.6.0) (4.6.0.66)\n",
      "Collecting python-docx\n",
      "  Using cached python_docx-0.8.11-py3-none-any.whl\n",
      "Collecting scikit-image\n",
      "  Using cached scikit_image-0.19.3-cp310-cp310-macosx_10_13_x86_64.whl (13.3 MB)\n",
      "Requirement already satisfied: opencv-contrib-python in /opt/anaconda3/envs/tf/lib/python3.10/site-packages (from paddleocr>=2.6.0) (4.6.0.66)\n",
      "Requirement already satisfied: PyMuPDF<1.21.0 in /opt/anaconda3/envs/tf/lib/python3.10/site-packages (from paddleocr>=2.6.0) (1.20.2)\n",
      "Requirement already satisfied: rapidfuzz in /opt/anaconda3/envs/tf/lib/python3.10/site-packages (from paddleocr>=2.6.0) (2.13.2)\n",
      "Collecting premailer\n",
      "  Using cached premailer-3.10.0-py2.py3-none-any.whl (19 kB)\n",
      "Collecting visualdl\n",
      "  Using cached visualdl-2.4.1-py3-none-any.whl (4.9 MB)\n",
      "Requirement already satisfied: tqdm in /opt/anaconda3/envs/tf/lib/python3.10/site-packages (from paddleocr>=2.6.0) (4.64.1)\n",
      "Collecting pdf2docx\n",
      "  Using cached pdf2docx-0.5.6-py3-none-any.whl (148 kB)\n",
      "Requirement already satisfied: pyclipper in /opt/anaconda3/envs/tf/lib/python3.10/site-packages (from paddleocr>=2.6.0) (1.3.0.post4)\n",
      "Requirement already satisfied: beautifulsoup4 in /opt/anaconda3/envs/tf/lib/python3.10/site-packages (from paddleocr>=2.6.0) (4.11.1)\n",
      "Collecting cython\n",
      "  Using cached Cython-0.29.32-py2.py3-none-any.whl (986 kB)\n",
      "Collecting openpyxl\n",
      "  Using cached openpyxl-3.0.10-py2.py3-none-any.whl (242 kB)\n",
      "Requirement already satisfied: lmdb in /opt/anaconda3/envs/tf/lib/python3.10/site-packages (from paddleocr>=2.6.0) (1.3.0)\n",
      "Collecting attrdict\n",
      "  Using cached attrdict-2.0.1-py2.py3-none-any.whl (9.9 kB)\n",
      "Collecting fonttools>=4.24.0\n",
      "  Using cached fonttools-4.38.0-py3-none-any.whl (965 kB)\n",
      "Collecting fire>=0.3.0\n",
      "  Using cached fire-0.4.0-py2.py3-none-any.whl\n",
      "Collecting lxml\n",
      "  Using cached lxml-4.9.1.tar.gz (3.4 MB)\n",
      "  Preparing metadata (setup.py) ... \u001b[?25ldone\n",
      "\u001b[?25hRequirement already satisfied: shapely in /opt/anaconda3/envs/tf/lib/python3.10/site-packages (from paddleocr>=2.6.0) (1.8.5.post1)\n",
      "Requirement already satisfied: six in /opt/anaconda3/envs/tf/lib/python3.10/site-packages (from fire>=0.3.0->paddleocr>=2.6.0) (1.16.0)\n",
      "Requirement already satisfied: termcolor in /opt/anaconda3/envs/tf/lib/python3.10/site-packages (from fire>=0.3.0->paddleocr>=2.6.0) (1.1.0)\n",
      "Requirement already satisfied: soupsieve>1.2 in /opt/anaconda3/envs/tf/lib/python3.10/site-packages (from beautifulsoup4->paddleocr>=2.6.0) (2.3.2.post1)\n",
      "Collecting imageio\n",
      "  Using cached imageio-2.22.4-py3-none-any.whl (3.4 MB)\n",
      "Requirement already satisfied: scipy in /opt/anaconda3/envs/tf/lib/python3.10/site-packages (from imgaug->paddleocr>=2.6.0) (1.7.3)\n",
      "Requirement already satisfied: Pillow in /opt/anaconda3/envs/tf/lib/python3.10/site-packages (from imgaug->paddleocr>=2.6.0) (9.3.0)\n",
      "Collecting matplotlib\n",
      "  Using cached matplotlib-3.6.2-cp310-cp310-macosx_10_12_x86_64.whl (7.3 MB)\n",
      "Requirement already satisfied: packaging>=20.0 in /opt/anaconda3/envs/tf/lib/python3.10/site-packages (from scikit-image->paddleocr>=2.6.0) (21.3)\n",
      "Requirement already satisfied: PyWavelets>=1.1.1 in /opt/anaconda3/envs/tf/lib/python3.10/site-packages (from scikit-image->paddleocr>=2.6.0) (1.4.1)\n",
      "Requirement already satisfied: tifffile>=2019.7.26 in /opt/anaconda3/envs/tf/lib/python3.10/site-packages (from scikit-image->paddleocr>=2.6.0) (2022.10.10)\n",
      "Requirement already satisfied: networkx>=2.2 in /opt/anaconda3/envs/tf/lib/python3.10/site-packages (from scikit-image->paddleocr>=2.6.0) (2.8.8)\n",
      "Collecting et-xmlfile\n",
      "  Using cached et_xmlfile-1.1.0-py3-none-any.whl (4.7 kB)\n",
      "Collecting cssselect\n",
      "  Using cached cssselect-1.2.0-py2.py3-none-any.whl (18 kB)\n",
      "Requirement already satisfied: cachetools in /opt/anaconda3/envs/tf/lib/python3.10/site-packages (from premailer->paddleocr>=2.6.0) (4.2.2)\n",
      "Collecting cssutils\n",
      "  Using cached cssutils-2.6.0-py3-none-any.whl (399 kB)\n",
      "Requirement already satisfied: requests in /opt/anaconda3/envs/tf/lib/python3.10/site-packages (from premailer->paddleocr>=2.6.0) (2.28.1)\n",
      "Collecting flask>=1.1.1\n",
      "  Using cached Flask-2.2.2-py3-none-any.whl (101 kB)\n",
      "Collecting Flask-Babel>=1.0.0\n",
      "  Using cached Flask_Babel-2.0.0-py3-none-any.whl (9.3 kB)\n",
      "Collecting pandas\n",
      "  Using cached pandas-1.5.2-cp310-cp310-macosx_10_9_x86_64.whl (12.0 MB)\n",
      "Collecting multiprocess\n",
      "  Using cached multiprocess-0.70.14-py310-none-any.whl (134 kB)\n",
      "Requirement already satisfied: protobuf>=3.11.0 in /opt/anaconda3/envs/tf/lib/python3.10/site-packages (from visualdl->paddleocr>=2.6.0) (3.20.0)\n",
      "Collecting bce-python-sdk\n",
      "  Using cached bce_python_sdk-0.8.74-py3-none-any.whl (204 kB)\n",
      "Requirement already satisfied: Jinja2>=3.0 in /opt/anaconda3/envs/tf/lib/python3.10/site-packages (from flask>=1.1.1->visualdl->paddleocr>=2.6.0) (3.1.2)\n",
      "Requirement already satisfied: Werkzeug>=2.2.2 in /opt/anaconda3/envs/tf/lib/python3.10/site-packages (from flask>=1.1.1->visualdl->paddleocr>=2.6.0) (2.2.2)\n",
      "Requirement already satisfied: click>=8.0 in /opt/anaconda3/envs/tf/lib/python3.10/site-packages (from flask>=1.1.1->visualdl->paddleocr>=2.6.0) (8.0.4)\n",
      "Collecting itsdangerous>=2.0\n",
      "  Using cached itsdangerous-2.1.2-py3-none-any.whl (15 kB)\n",
      "Requirement already satisfied: Babel>=2.3 in /opt/anaconda3/envs/tf/lib/python3.10/site-packages (from Flask-Babel>=1.0.0->visualdl->paddleocr>=2.6.0) (2.9.1)\n",
      "Requirement already satisfied: pytz in /opt/anaconda3/envs/tf/lib/python3.10/site-packages (from Flask-Babel>=1.0.0->visualdl->paddleocr>=2.6.0) (2022.1)\n",
      "Requirement already satisfied: pyparsing!=3.0.5,>=2.0.2 in /opt/anaconda3/envs/tf/lib/python3.10/site-packages (from packaging>=20.0->scikit-image->paddleocr>=2.6.0) (3.0.9)\n",
      "Collecting future>=0.6.0\n",
      "  Using cached future-0.18.2-py3-none-any.whl\n",
      "Requirement already satisfied: pycryptodome>=3.8.0 in /opt/anaconda3/envs/tf/lib/python3.10/site-packages (from bce-python-sdk->visualdl->paddleocr>=2.6.0) (3.16.0)\n",
      "Collecting kiwisolver>=1.0.1\n",
      "  Using cached kiwisolver-1.4.4-cp310-cp310-macosx_10_9_x86_64.whl (65 kB)\n",
      "Collecting contourpy>=1.0.1\n",
      "  Using cached contourpy-1.0.6-cp310-cp310-macosx_10_9_x86_64.whl (240 kB)\n",
      "Requirement already satisfied: python-dateutil>=2.7 in /opt/anaconda3/envs/tf/lib/python3.10/site-packages (from matplotlib->imgaug->paddleocr>=2.6.0) (2.8.2)\n",
      "Collecting cycler>=0.10\n",
      "  Using cached cycler-0.11.0-py3-none-any.whl (6.4 kB)\n",
      "Collecting dill>=0.3.6\n",
      "  Using cached dill-0.3.6-py3-none-any.whl (110 kB)\n",
      "Requirement already satisfied: certifi>=2017.4.17 in /opt/anaconda3/envs/tf/lib/python3.10/site-packages (from requests->premailer->paddleocr>=2.6.0) (2022.9.24)\n",
      "Requirement already satisfied: urllib3<1.27,>=1.21.1 in /opt/anaconda3/envs/tf/lib/python3.10/site-packages (from requests->premailer->paddleocr>=2.6.0) (1.26.12)\n",
      "Requirement already satisfied: charset-normalizer<3,>=2 in /opt/anaconda3/envs/tf/lib/python3.10/site-packages (from requests->premailer->paddleocr>=2.6.0) (2.0.4)\n",
      "Requirement already satisfied: idna<4,>=2.5 in /opt/anaconda3/envs/tf/lib/python3.10/site-packages (from requests->premailer->paddleocr>=2.6.0) (3.4)\n",
      "Requirement already satisfied: MarkupSafe>=2.0 in /opt/anaconda3/envs/tf/lib/python3.10/site-packages (from Jinja2>=3.0->flask>=1.1.1->visualdl->paddleocr>=2.6.0) (2.1.1)\n",
      "Building wheels for collected packages: lxml\n",
      "  Building wheel for lxml (setup.py) ... \u001b[?25lerror\n",
      "  \u001b[1;31merror\u001b[0m: \u001b[1msubprocess-exited-with-error\u001b[0m\n",
      "  \n",
      "  \u001b[31m×\u001b[0m \u001b[32mpython setup.py bdist_wheel\u001b[0m did not run successfully.\n",
      "  \u001b[31m│\u001b[0m exit code: \u001b[1;36m1\u001b[0m\n",
      "  \u001b[31m╰─>\u001b[0m \u001b[31m[97 lines of output]\u001b[0m\n",
      "  \u001b[31m   \u001b[0m Building lxml version 4.9.1.\n",
      "  \u001b[31m   \u001b[0m Building without Cython.\n",
      "  \u001b[31m   \u001b[0m Building against libxml2 2.9.14 and libxslt 1.1.35\n",
      "  \u001b[31m   \u001b[0m Building against libxml2/libxslt in one of the following directories:\n",
      "  \u001b[31m   \u001b[0m   /opt/anaconda3/envs/tf/lib\n",
      "  \u001b[31m   \u001b[0m   /opt/anaconda3/envs/tf/lib\n",
      "  \u001b[31m   \u001b[0m   /opt/anaconda3/envs/tf/lib\n",
      "  \u001b[31m   \u001b[0m   /opt/anaconda3/envs/tf/lib\n",
      "  \u001b[31m   \u001b[0m   /opt/anaconda3/envs/tf/lib\n",
      "  \u001b[31m   \u001b[0m running bdist_wheel\n",
      "  \u001b[31m   \u001b[0m running build\n",
      "  \u001b[31m   \u001b[0m running build_py\n",
      "  \u001b[31m   \u001b[0m creating build\n",
      "  \u001b[31m   \u001b[0m creating build/lib.macosx-10.9-x86_64-cpython-310\n",
      "  \u001b[31m   \u001b[0m creating build/lib.macosx-10.9-x86_64-cpython-310/lxml\n",
      "  \u001b[31m   \u001b[0m copying src/lxml/_elementpath.py -> build/lib.macosx-10.9-x86_64-cpython-310/lxml\n",
      "  \u001b[31m   \u001b[0m copying src/lxml/sax.py -> build/lib.macosx-10.9-x86_64-cpython-310/lxml\n",
      "  \u001b[31m   \u001b[0m copying src/lxml/pyclasslookup.py -> build/lib.macosx-10.9-x86_64-cpython-310/lxml\n",
      "  \u001b[31m   \u001b[0m copying src/lxml/__init__.py -> build/lib.macosx-10.9-x86_64-cpython-310/lxml\n",
      "  \u001b[31m   \u001b[0m copying src/lxml/builder.py -> build/lib.macosx-10.9-x86_64-cpython-310/lxml\n",
      "  \u001b[31m   \u001b[0m copying src/lxml/doctestcompare.py -> build/lib.macosx-10.9-x86_64-cpython-310/lxml\n",
      "  \u001b[31m   \u001b[0m copying src/lxml/usedoctest.py -> build/lib.macosx-10.9-x86_64-cpython-310/lxml\n",
      "  \u001b[31m   \u001b[0m copying src/lxml/cssselect.py -> build/lib.macosx-10.9-x86_64-cpython-310/lxml\n",
      "  \u001b[31m   \u001b[0m copying src/lxml/ElementInclude.py -> build/lib.macosx-10.9-x86_64-cpython-310/lxml\n",
      "  \u001b[31m   \u001b[0m creating build/lib.macosx-10.9-x86_64-cpython-310/lxml/includes\n",
      "  \u001b[31m   \u001b[0m copying src/lxml/includes/__init__.py -> build/lib.macosx-10.9-x86_64-cpython-310/lxml/includes\n",
      "  \u001b[31m   \u001b[0m creating build/lib.macosx-10.9-x86_64-cpython-310/lxml/html\n",
      "  \u001b[31m   \u001b[0m copying src/lxml/html/soupparser.py -> build/lib.macosx-10.9-x86_64-cpython-310/lxml/html\n",
      "  \u001b[31m   \u001b[0m copying src/lxml/html/defs.py -> build/lib.macosx-10.9-x86_64-cpython-310/lxml/html\n",
      "  \u001b[31m   \u001b[0m copying src/lxml/html/_setmixin.py -> build/lib.macosx-10.9-x86_64-cpython-310/lxml/html\n",
      "  \u001b[31m   \u001b[0m copying src/lxml/html/clean.py -> build/lib.macosx-10.9-x86_64-cpython-310/lxml/html\n",
      "  \u001b[31m   \u001b[0m copying src/lxml/html/_diffcommand.py -> build/lib.macosx-10.9-x86_64-cpython-310/lxml/html\n",
      "  \u001b[31m   \u001b[0m copying src/lxml/html/html5parser.py -> build/lib.macosx-10.9-x86_64-cpython-310/lxml/html\n",
      "  \u001b[31m   \u001b[0m copying src/lxml/html/__init__.py -> build/lib.macosx-10.9-x86_64-cpython-310/lxml/html\n",
      "  \u001b[31m   \u001b[0m copying src/lxml/html/formfill.py -> build/lib.macosx-10.9-x86_64-cpython-310/lxml/html\n",
      "  \u001b[31m   \u001b[0m copying src/lxml/html/builder.py -> build/lib.macosx-10.9-x86_64-cpython-310/lxml/html\n",
      "  \u001b[31m   \u001b[0m copying src/lxml/html/ElementSoup.py -> build/lib.macosx-10.9-x86_64-cpython-310/lxml/html\n",
      "  \u001b[31m   \u001b[0m copying src/lxml/html/_html5builder.py -> build/lib.macosx-10.9-x86_64-cpython-310/lxml/html\n",
      "  \u001b[31m   \u001b[0m copying src/lxml/html/usedoctest.py -> build/lib.macosx-10.9-x86_64-cpython-310/lxml/html\n",
      "  \u001b[31m   \u001b[0m copying src/lxml/html/diff.py -> build/lib.macosx-10.9-x86_64-cpython-310/lxml/html\n",
      "  \u001b[31m   \u001b[0m creating build/lib.macosx-10.9-x86_64-cpython-310/lxml/isoschematron\n",
      "  \u001b[31m   \u001b[0m copying src/lxml/isoschematron/__init__.py -> build/lib.macosx-10.9-x86_64-cpython-310/lxml/isoschematron\n",
      "  \u001b[31m   \u001b[0m copying src/lxml/etree.h -> build/lib.macosx-10.9-x86_64-cpython-310/lxml\n",
      "  \u001b[31m   \u001b[0m copying src/lxml/etree_api.h -> build/lib.macosx-10.9-x86_64-cpython-310/lxml\n",
      "  \u001b[31m   \u001b[0m copying src/lxml/lxml.etree.h -> build/lib.macosx-10.9-x86_64-cpython-310/lxml\n",
      "  \u001b[31m   \u001b[0m copying src/lxml/lxml.etree_api.h -> build/lib.macosx-10.9-x86_64-cpython-310/lxml\n",
      "  \u001b[31m   \u001b[0m copying src/lxml/includes/xmlerror.pxd -> build/lib.macosx-10.9-x86_64-cpython-310/lxml/includes\n",
      "  \u001b[31m   \u001b[0m copying src/lxml/includes/c14n.pxd -> build/lib.macosx-10.9-x86_64-cpython-310/lxml/includes\n",
      "  \u001b[31m   \u001b[0m copying src/lxml/includes/xmlschema.pxd -> build/lib.macosx-10.9-x86_64-cpython-310/lxml/includes\n",
      "  \u001b[31m   \u001b[0m copying src/lxml/includes/__init__.pxd -> build/lib.macosx-10.9-x86_64-cpython-310/lxml/includes\n",
      "  \u001b[31m   \u001b[0m copying src/lxml/includes/schematron.pxd -> build/lib.macosx-10.9-x86_64-cpython-310/lxml/includes\n",
      "  \u001b[31m   \u001b[0m copying src/lxml/includes/tree.pxd -> build/lib.macosx-10.9-x86_64-cpython-310/lxml/includes\n",
      "  \u001b[31m   \u001b[0m copying src/lxml/includes/uri.pxd -> build/lib.macosx-10.9-x86_64-cpython-310/lxml/includes\n",
      "  \u001b[31m   \u001b[0m copying src/lxml/includes/etreepublic.pxd -> build/lib.macosx-10.9-x86_64-cpython-310/lxml/includes\n",
      "  \u001b[31m   \u001b[0m copying src/lxml/includes/xpath.pxd -> build/lib.macosx-10.9-x86_64-cpython-310/lxml/includes\n",
      "  \u001b[31m   \u001b[0m copying src/lxml/includes/htmlparser.pxd -> build/lib.macosx-10.9-x86_64-cpython-310/lxml/includes\n",
      "  \u001b[31m   \u001b[0m copying src/lxml/includes/xslt.pxd -> build/lib.macosx-10.9-x86_64-cpython-310/lxml/includes\n",
      "  \u001b[31m   \u001b[0m copying src/lxml/includes/config.pxd -> build/lib.macosx-10.9-x86_64-cpython-310/lxml/includes\n",
      "  \u001b[31m   \u001b[0m copying src/lxml/includes/xmlparser.pxd -> build/lib.macosx-10.9-x86_64-cpython-310/lxml/includes\n",
      "  \u001b[31m   \u001b[0m copying src/lxml/includes/xinclude.pxd -> build/lib.macosx-10.9-x86_64-cpython-310/lxml/includes\n",
      "  \u001b[31m   \u001b[0m copying src/lxml/includes/dtdvalid.pxd -> build/lib.macosx-10.9-x86_64-cpython-310/lxml/includes\n",
      "  \u001b[31m   \u001b[0m copying src/lxml/includes/relaxng.pxd -> build/lib.macosx-10.9-x86_64-cpython-310/lxml/includes\n",
      "  \u001b[31m   \u001b[0m copying src/lxml/includes/lxml-version.h -> build/lib.macosx-10.9-x86_64-cpython-310/lxml/includes\n",
      "  \u001b[31m   \u001b[0m copying src/lxml/includes/etree_defs.h -> build/lib.macosx-10.9-x86_64-cpython-310/lxml/includes\n",
      "  \u001b[31m   \u001b[0m creating build/lib.macosx-10.9-x86_64-cpython-310/lxml/isoschematron/resources\n",
      "  \u001b[31m   \u001b[0m creating build/lib.macosx-10.9-x86_64-cpython-310/lxml/isoschematron/resources/rng\n",
      "  \u001b[31m   \u001b[0m copying src/lxml/isoschematron/resources/rng/iso-schematron.rng -> build/lib.macosx-10.9-x86_64-cpython-310/lxml/isoschematron/resources/rng\n",
      "  \u001b[31m   \u001b[0m creating build/lib.macosx-10.9-x86_64-cpython-310/lxml/isoschematron/resources/xsl\n",
      "  \u001b[31m   \u001b[0m copying src/lxml/isoschematron/resources/xsl/XSD2Schtrn.xsl -> build/lib.macosx-10.9-x86_64-cpython-310/lxml/isoschematron/resources/xsl\n",
      "  \u001b[31m   \u001b[0m copying src/lxml/isoschematron/resources/xsl/RNG2Schtrn.xsl -> build/lib.macosx-10.9-x86_64-cpython-310/lxml/isoschematron/resources/xsl\n",
      "  \u001b[31m   \u001b[0m creating build/lib.macosx-10.9-x86_64-cpython-310/lxml/isoschematron/resources/xsl/iso-schematron-xslt1\n",
      "  \u001b[31m   \u001b[0m copying src/lxml/isoschematron/resources/xsl/iso-schematron-xslt1/iso_abstract_expand.xsl -> build/lib.macosx-10.9-x86_64-cpython-310/lxml/isoschematron/resources/xsl/iso-schematron-xslt1\n",
      "  \u001b[31m   \u001b[0m copying src/lxml/isoschematron/resources/xsl/iso-schematron-xslt1/iso_dsdl_include.xsl -> build/lib.macosx-10.9-x86_64-cpython-310/lxml/isoschematron/resources/xsl/iso-schematron-xslt1\n",
      "  \u001b[31m   \u001b[0m copying src/lxml/isoschematron/resources/xsl/iso-schematron-xslt1/iso_schematron_skeleton_for_xslt1.xsl -> build/lib.macosx-10.9-x86_64-cpython-310/lxml/isoschematron/resources/xsl/iso-schematron-xslt1\n",
      "  \u001b[31m   \u001b[0m copying src/lxml/isoschematron/resources/xsl/iso-schematron-xslt1/iso_svrl_for_xslt1.xsl -> build/lib.macosx-10.9-x86_64-cpython-310/lxml/isoschematron/resources/xsl/iso-schematron-xslt1\n",
      "  \u001b[31m   \u001b[0m copying src/lxml/isoschematron/resources/xsl/iso-schematron-xslt1/iso_schematron_message.xsl -> build/lib.macosx-10.9-x86_64-cpython-310/lxml/isoschematron/resources/xsl/iso-schematron-xslt1\n",
      "  \u001b[31m   \u001b[0m copying src/lxml/isoschematron/resources/xsl/iso-schematron-xslt1/readme.txt -> build/lib.macosx-10.9-x86_64-cpython-310/lxml/isoschematron/resources/xsl/iso-schematron-xslt1\n",
      "  \u001b[31m   \u001b[0m running build_ext\n",
      "  \u001b[31m   \u001b[0m building 'lxml.etree' extension\n",
      "  \u001b[31m   \u001b[0m creating build/temp.macosx-10.9-x86_64-cpython-310\n",
      "  \u001b[31m   \u001b[0m creating build/temp.macosx-10.9-x86_64-cpython-310/src\n",
      "  \u001b[31m   \u001b[0m creating build/temp.macosx-10.9-x86_64-cpython-310/src/lxml\n",
      "  \u001b[31m   \u001b[0m clang -Wno-unused-result -Wsign-compare -Wunreachable-code -DNDEBUG -fwrapv -O2 -Wall -fPIC -O2 -isystem /opt/anaconda3/envs/tf/include -fPIC -O2 -isystem /opt/anaconda3/envs/tf/include -DCYTHON_CLINE_IN_TRACEBACK=0 -I/opt/anaconda3/envs/tf/include/libxml2 -I/opt/anaconda3/envs/tf/include -Isrc -Isrc/lxml/includes -I/opt/anaconda3/envs/tf/include/python3.10 -c src/lxml/etree.c -o build/temp.macosx-10.9-x86_64-cpython-310/src/lxml/etree.o -w -flat_namespace\n",
      "  \u001b[31m   \u001b[0m xcrun: error: invalid active developer path (/Library/Developer/CommandLineTools), missing xcrun at: /Library/Developer/CommandLineTools/usr/bin/xcrun\n",
      "  \u001b[31m   \u001b[0m Compile failed: command '/usr/bin/clang' failed with exit code 1\n",
      "  \u001b[31m   \u001b[0m creating var\n",
      "  \u001b[31m   \u001b[0m creating var/folders\n",
      "  \u001b[31m   \u001b[0m creating var/folders/mn\n",
      "  \u001b[31m   \u001b[0m creating var/folders/mn/vmf5v0691vn50klx7qxnqrk40000gn\n",
      "  \u001b[31m   \u001b[0m creating var/folders/mn/vmf5v0691vn50klx7qxnqrk40000gn/T\n",
      "  \u001b[31m   \u001b[0m cc -I/opt/anaconda3/envs/tf/include/libxml2 -I/opt/anaconda3/envs/tf/include -I/usr/include/libxml2 -c /var/folders/mn/vmf5v0691vn50klx7qxnqrk40000gn/T/xmlXPathInit8v2tnefc.c -o var/folders/mn/vmf5v0691vn50klx7qxnqrk40000gn/T/xmlXPathInit8v2tnefc.o\n",
      "  \u001b[31m   \u001b[0m xcrun: error: invalid active developer path (/Library/Developer/CommandLineTools), missing xcrun at: /Library/Developer/CommandLineTools/usr/bin/xcrun\n",
      "  \u001b[31m   \u001b[0m *********************************************************************************\n",
      "  \u001b[31m   \u001b[0m Could not find function xmlCheckVersion in library libxml2. Is libxml2 installed?\n",
      "  \u001b[31m   \u001b[0m Perhaps try: xcode-select --install\n",
      "  \u001b[31m   \u001b[0m *********************************************************************************\n",
      "  \u001b[31m   \u001b[0m error: command '/usr/bin/clang' failed with exit code 1\n",
      "  \u001b[31m   \u001b[0m \u001b[31m[end of output]\u001b[0m\n",
      "  \n",
      "  \u001b[1;35mnote\u001b[0m: This error originates from a subprocess, and is likely not a problem with pip.\n",
      "\u001b[31m  ERROR: Failed building wheel for lxml\u001b[0m\u001b[31m\n",
      "\u001b[0m\u001b[?25h  Running setup.py clean for lxml\n"
     ]
    },
    {
     "name": "stdout",
     "output_type": "stream",
     "text": [
      "Failed to build lxml\n",
      "Installing collected packages: lxml, kiwisolver, itsdangerous, imageio, future, fonttools, fire, et-xmlfile, dill, cython, cycler, cssutils, cssselect, contourpy, attrdict, scikit-image, python-docx, premailer, pandas, openpyxl, multiprocess, matplotlib, flask, bce-python-sdk, pdf2docx, imgaug, Flask-Babel, visualdl, paddleocr\n",
      "  Running setup.py install for lxml ... \u001b[?25lerror\n",
      "  \u001b[1;31merror\u001b[0m: \u001b[1msubprocess-exited-with-error\u001b[0m\n",
      "  \n",
      "  \u001b[31m×\u001b[0m \u001b[32mRunning setup.py install for lxml\u001b[0m did not run successfully.\n",
      "  \u001b[31m│\u001b[0m exit code: \u001b[1;36m1\u001b[0m\n",
      "  \u001b[31m╰─>\u001b[0m \u001b[31m[94 lines of output]\u001b[0m\n",
      "  \u001b[31m   \u001b[0m Building lxml version 4.9.1.\n",
      "  \u001b[31m   \u001b[0m Building without Cython.\n",
      "  \u001b[31m   \u001b[0m Building against libxml2 2.9.14 and libxslt 1.1.35\n",
      "  \u001b[31m   \u001b[0m Building against libxml2/libxslt in one of the following directories:\n",
      "  \u001b[31m   \u001b[0m   /opt/anaconda3/envs/tf/lib\n",
      "  \u001b[31m   \u001b[0m   /opt/anaconda3/envs/tf/lib\n",
      "  \u001b[31m   \u001b[0m   /opt/anaconda3/envs/tf/lib\n",
      "  \u001b[31m   \u001b[0m   /opt/anaconda3/envs/tf/lib\n",
      "  \u001b[31m   \u001b[0m   /opt/anaconda3/envs/tf/lib\n",
      "  \u001b[31m   \u001b[0m running install\n",
      "  \u001b[31m   \u001b[0m /opt/anaconda3/envs/tf/lib/python3.10/site-packages/setuptools/command/install.py:34: SetuptoolsDeprecationWarning: setup.py install is deprecated. Use build and pip and other standards-based tools.\n",
      "  \u001b[31m   \u001b[0m   warnings.warn(\n",
      "  \u001b[31m   \u001b[0m running build\n",
      "  \u001b[31m   \u001b[0m running build_py\n",
      "  \u001b[31m   \u001b[0m creating build\n",
      "  \u001b[31m   \u001b[0m creating build/lib.macosx-10.9-x86_64-cpython-310\n",
      "  \u001b[31m   \u001b[0m creating build/lib.macosx-10.9-x86_64-cpython-310/lxml\n",
      "  \u001b[31m   \u001b[0m copying src/lxml/_elementpath.py -> build/lib.macosx-10.9-x86_64-cpython-310/lxml\n",
      "  \u001b[31m   \u001b[0m copying src/lxml/sax.py -> build/lib.macosx-10.9-x86_64-cpython-310/lxml\n",
      "  \u001b[31m   \u001b[0m copying src/lxml/pyclasslookup.py -> build/lib.macosx-10.9-x86_64-cpython-310/lxml\n",
      "  \u001b[31m   \u001b[0m copying src/lxml/__init__.py -> build/lib.macosx-10.9-x86_64-cpython-310/lxml\n",
      "  \u001b[31m   \u001b[0m copying src/lxml/builder.py -> build/lib.macosx-10.9-x86_64-cpython-310/lxml\n",
      "  \u001b[31m   \u001b[0m copying src/lxml/doctestcompare.py -> build/lib.macosx-10.9-x86_64-cpython-310/lxml\n",
      "  \u001b[31m   \u001b[0m copying src/lxml/usedoctest.py -> build/lib.macosx-10.9-x86_64-cpython-310/lxml\n",
      "  \u001b[31m   \u001b[0m copying src/lxml/cssselect.py -> build/lib.macosx-10.9-x86_64-cpython-310/lxml\n",
      "  \u001b[31m   \u001b[0m copying src/lxml/ElementInclude.py -> build/lib.macosx-10.9-x86_64-cpython-310/lxml\n",
      "  \u001b[31m   \u001b[0m creating build/lib.macosx-10.9-x86_64-cpython-310/lxml/includes\n",
      "  \u001b[31m   \u001b[0m copying src/lxml/includes/__init__.py -> build/lib.macosx-10.9-x86_64-cpython-310/lxml/includes\n",
      "  \u001b[31m   \u001b[0m creating build/lib.macosx-10.9-x86_64-cpython-310/lxml/html\n",
      "  \u001b[31m   \u001b[0m copying src/lxml/html/soupparser.py -> build/lib.macosx-10.9-x86_64-cpython-310/lxml/html\n",
      "  \u001b[31m   \u001b[0m copying src/lxml/html/defs.py -> build/lib.macosx-10.9-x86_64-cpython-310/lxml/html\n",
      "  \u001b[31m   \u001b[0m copying src/lxml/html/_setmixin.py -> build/lib.macosx-10.9-x86_64-cpython-310/lxml/html\n",
      "  \u001b[31m   \u001b[0m copying src/lxml/html/clean.py -> build/lib.macosx-10.9-x86_64-cpython-310/lxml/html\n",
      "  \u001b[31m   \u001b[0m copying src/lxml/html/_diffcommand.py -> build/lib.macosx-10.9-x86_64-cpython-310/lxml/html\n",
      "  \u001b[31m   \u001b[0m copying src/lxml/html/html5parser.py -> build/lib.macosx-10.9-x86_64-cpython-310/lxml/html\n",
      "  \u001b[31m   \u001b[0m copying src/lxml/html/__init__.py -> build/lib.macosx-10.9-x86_64-cpython-310/lxml/html\n",
      "  \u001b[31m   \u001b[0m copying src/lxml/html/formfill.py -> build/lib.macosx-10.9-x86_64-cpython-310/lxml/html\n",
      "  \u001b[31m   \u001b[0m copying src/lxml/html/builder.py -> build/lib.macosx-10.9-x86_64-cpython-310/lxml/html\n",
      "  \u001b[31m   \u001b[0m copying src/lxml/html/ElementSoup.py -> build/lib.macosx-10.9-x86_64-cpython-310/lxml/html\n",
      "  \u001b[31m   \u001b[0m copying src/lxml/html/_html5builder.py -> build/lib.macosx-10.9-x86_64-cpython-310/lxml/html\n",
      "  \u001b[31m   \u001b[0m copying src/lxml/html/usedoctest.py -> build/lib.macosx-10.9-x86_64-cpython-310/lxml/html\n",
      "  \u001b[31m   \u001b[0m copying src/lxml/html/diff.py -> build/lib.macosx-10.9-x86_64-cpython-310/lxml/html\n",
      "  \u001b[31m   \u001b[0m creating build/lib.macosx-10.9-x86_64-cpython-310/lxml/isoschematron\n",
      "  \u001b[31m   \u001b[0m copying src/lxml/isoschematron/__init__.py -> build/lib.macosx-10.9-x86_64-cpython-310/lxml/isoschematron\n",
      "  \u001b[31m   \u001b[0m copying src/lxml/etree.h -> build/lib.macosx-10.9-x86_64-cpython-310/lxml\n",
      "  \u001b[31m   \u001b[0m copying src/lxml/etree_api.h -> build/lib.macosx-10.9-x86_64-cpython-310/lxml\n",
      "  \u001b[31m   \u001b[0m copying src/lxml/lxml.etree.h -> build/lib.macosx-10.9-x86_64-cpython-310/lxml\n",
      "  \u001b[31m   \u001b[0m copying src/lxml/lxml.etree_api.h -> build/lib.macosx-10.9-x86_64-cpython-310/lxml\n",
      "  \u001b[31m   \u001b[0m copying src/lxml/includes/xmlerror.pxd -> build/lib.macosx-10.9-x86_64-cpython-310/lxml/includes\n",
      "  \u001b[31m   \u001b[0m copying src/lxml/includes/c14n.pxd -> build/lib.macosx-10.9-x86_64-cpython-310/lxml/includes\n",
      "  \u001b[31m   \u001b[0m copying src/lxml/includes/xmlschema.pxd -> build/lib.macosx-10.9-x86_64-cpython-310/lxml/includes\n",
      "  \u001b[31m   \u001b[0m copying src/lxml/includes/__init__.pxd -> build/lib.macosx-10.9-x86_64-cpython-310/lxml/includes\n",
      "  \u001b[31m   \u001b[0m copying src/lxml/includes/schematron.pxd -> build/lib.macosx-10.9-x86_64-cpython-310/lxml/includes\n",
      "  \u001b[31m   \u001b[0m copying src/lxml/includes/tree.pxd -> build/lib.macosx-10.9-x86_64-cpython-310/lxml/includes\n",
      "  \u001b[31m   \u001b[0m copying src/lxml/includes/uri.pxd -> build/lib.macosx-10.9-x86_64-cpython-310/lxml/includes\n",
      "  \u001b[31m   \u001b[0m copying src/lxml/includes/etreepublic.pxd -> build/lib.macosx-10.9-x86_64-cpython-310/lxml/includes\n",
      "  \u001b[31m   \u001b[0m copying src/lxml/includes/xpath.pxd -> build/lib.macosx-10.9-x86_64-cpython-310/lxml/includes\n",
      "  \u001b[31m   \u001b[0m copying src/lxml/includes/htmlparser.pxd -> build/lib.macosx-10.9-x86_64-cpython-310/lxml/includes\n",
      "  \u001b[31m   \u001b[0m copying src/lxml/includes/xslt.pxd -> build/lib.macosx-10.9-x86_64-cpython-310/lxml/includes\n",
      "  \u001b[31m   \u001b[0m copying src/lxml/includes/config.pxd -> build/lib.macosx-10.9-x86_64-cpython-310/lxml/includes\n",
      "  \u001b[31m   \u001b[0m copying src/lxml/includes/xmlparser.pxd -> build/lib.macosx-10.9-x86_64-cpython-310/lxml/includes\n",
      "  \u001b[31m   \u001b[0m copying src/lxml/includes/xinclude.pxd -> build/lib.macosx-10.9-x86_64-cpython-310/lxml/includes\n",
      "  \u001b[31m   \u001b[0m copying src/lxml/includes/dtdvalid.pxd -> build/lib.macosx-10.9-x86_64-cpython-310/lxml/includes\n",
      "  \u001b[31m   \u001b[0m copying src/lxml/includes/relaxng.pxd -> build/lib.macosx-10.9-x86_64-cpython-310/lxml/includes\n",
      "  \u001b[31m   \u001b[0m copying src/lxml/includes/lxml-version.h -> build/lib.macosx-10.9-x86_64-cpython-310/lxml/includes\n",
      "  \u001b[31m   \u001b[0m copying src/lxml/includes/etree_defs.h -> build/lib.macosx-10.9-x86_64-cpython-310/lxml/includes\n",
      "  \u001b[31m   \u001b[0m creating build/lib.macosx-10.9-x86_64-cpython-310/lxml/isoschematron/resources\n",
      "  \u001b[31m   \u001b[0m creating build/lib.macosx-10.9-x86_64-cpython-310/lxml/isoschematron/resources/rng\n",
      "  \u001b[31m   \u001b[0m copying src/lxml/isoschematron/resources/rng/iso-schematron.rng -> build/lib.macosx-10.9-x86_64-cpython-310/lxml/isoschematron/resources/rng\n",
      "  \u001b[31m   \u001b[0m creating build/lib.macosx-10.9-x86_64-cpython-310/lxml/isoschematron/resources/xsl\n",
      "  \u001b[31m   \u001b[0m copying src/lxml/isoschematron/resources/xsl/XSD2Schtrn.xsl -> build/lib.macosx-10.9-x86_64-cpython-310/lxml/isoschematron/resources/xsl\n",
      "  \u001b[31m   \u001b[0m copying src/lxml/isoschematron/resources/xsl/RNG2Schtrn.xsl -> build/lib.macosx-10.9-x86_64-cpython-310/lxml/isoschematron/resources/xsl\n",
      "  \u001b[31m   \u001b[0m creating build/lib.macosx-10.9-x86_64-cpython-310/lxml/isoschematron/resources/xsl/iso-schematron-xslt1\n",
      "  \u001b[31m   \u001b[0m copying src/lxml/isoschematron/resources/xsl/iso-schematron-xslt1/iso_abstract_expand.xsl -> build/lib.macosx-10.9-x86_64-cpython-310/lxml/isoschematron/resources/xsl/iso-schematron-xslt1\n",
      "  \u001b[31m   \u001b[0m copying src/lxml/isoschematron/resources/xsl/iso-schematron-xslt1/iso_dsdl_include.xsl -> build/lib.macosx-10.9-x86_64-cpython-310/lxml/isoschematron/resources/xsl/iso-schematron-xslt1\n",
      "  \u001b[31m   \u001b[0m copying src/lxml/isoschematron/resources/xsl/iso-schematron-xslt1/iso_schematron_skeleton_for_xslt1.xsl -> build/lib.macosx-10.9-x86_64-cpython-310/lxml/isoschematron/resources/xsl/iso-schematron-xslt1\n",
      "  \u001b[31m   \u001b[0m copying src/lxml/isoschematron/resources/xsl/iso-schematron-xslt1/iso_svrl_for_xslt1.xsl -> build/lib.macosx-10.9-x86_64-cpython-310/lxml/isoschematron/resources/xsl/iso-schematron-xslt1\n"
     ]
    },
    {
     "name": "stdout",
     "output_type": "stream",
     "text": [
      "  \u001b[31m   \u001b[0m copying src/lxml/isoschematron/resources/xsl/iso-schematron-xslt1/iso_schematron_message.xsl -> build/lib.macosx-10.9-x86_64-cpython-310/lxml/isoschematron/resources/xsl/iso-schematron-xslt1\n",
      "  \u001b[31m   \u001b[0m copying src/lxml/isoschematron/resources/xsl/iso-schematron-xslt1/readme.txt -> build/lib.macosx-10.9-x86_64-cpython-310/lxml/isoschematron/resources/xsl/iso-schematron-xslt1\n",
      "  \u001b[31m   \u001b[0m running build_ext\n",
      "  \u001b[31m   \u001b[0m building 'lxml.etree' extension\n",
      "  \u001b[31m   \u001b[0m creating build/temp.macosx-10.9-x86_64-cpython-310\n",
      "  \u001b[31m   \u001b[0m creating build/temp.macosx-10.9-x86_64-cpython-310/src\n",
      "  \u001b[31m   \u001b[0m creating build/temp.macosx-10.9-x86_64-cpython-310/src/lxml\n",
      "  \u001b[31m   \u001b[0m clang -Wno-unused-result -Wsign-compare -Wunreachable-code -DNDEBUG -fwrapv -O2 -Wall -fPIC -O2 -isystem /opt/anaconda3/envs/tf/include -fPIC -O2 -isystem /opt/anaconda3/envs/tf/include -DCYTHON_CLINE_IN_TRACEBACK=0 -I/opt/anaconda3/envs/tf/include/libxml2 -I/opt/anaconda3/envs/tf/include -Isrc -Isrc/lxml/includes -I/opt/anaconda3/envs/tf/include/python3.10 -c src/lxml/etree.c -o build/temp.macosx-10.9-x86_64-cpython-310/src/lxml/etree.o -w -flat_namespace\n",
      "  \u001b[31m   \u001b[0m xcrun: error: invalid active developer path (/Library/Developer/CommandLineTools), missing xcrun at: /Library/Developer/CommandLineTools/usr/bin/xcrun\n",
      "  \u001b[31m   \u001b[0m Compile failed: command '/usr/bin/clang' failed with exit code 1\n",
      "  \u001b[31m   \u001b[0m cc -I/opt/anaconda3/envs/tf/include/libxml2 -I/opt/anaconda3/envs/tf/include -I/usr/include/libxml2 -c /var/folders/mn/vmf5v0691vn50klx7qxnqrk40000gn/T/xmlXPathInit58qanwu_.c -o var/folders/mn/vmf5v0691vn50klx7qxnqrk40000gn/T/xmlXPathInit58qanwu_.o\n",
      "  \u001b[31m   \u001b[0m xcrun: error: invalid active developer path (/Library/Developer/CommandLineTools), missing xcrun at: /Library/Developer/CommandLineTools/usr/bin/xcrun\n",
      "  \u001b[31m   \u001b[0m *********************************************************************************\n",
      "  \u001b[31m   \u001b[0m Could not find function xmlCheckVersion in library libxml2. Is libxml2 installed?\n",
      "  \u001b[31m   \u001b[0m Perhaps try: xcode-select --install\n",
      "  \u001b[31m   \u001b[0m *********************************************************************************\n",
      "  \u001b[31m   \u001b[0m error: command '/usr/bin/clang' failed with exit code 1\n",
      "  \u001b[31m   \u001b[0m \u001b[31m[end of output]\u001b[0m\n",
      "  \n",
      "  \u001b[1;35mnote\u001b[0m: This error originates from a subprocess, and is likely not a problem with pip.\n",
      "\u001b[1;31merror\u001b[0m: \u001b[1mlegacy-install-failure\u001b[0m\n",
      "\n",
      "\u001b[31m×\u001b[0m Encountered error while trying to install package.\n",
      "\u001b[31m╰─>\u001b[0m lxml\n",
      "\n",
      "\u001b[1;35mnote\u001b[0m: This is an issue with the package mentioned above, not pip.\n",
      "\u001b[1;36mhint\u001b[0m: See above for output from the failure.\n",
      "\u001b[?25hNote: you may need to restart the kernel to use updated packages.\n"
     ]
    }
   ],
   "source": [
    "pip install \"paddleocr>=2.6.0\""
   ]
  },
  {
   "cell_type": "code",
   "execution_count": 14,
   "metadata": {},
   "outputs": [
    {
     "ename": "ModuleNotFoundError",
     "evalue": "No module named 'paddleocr'",
     "output_type": "error",
     "traceback": [
      "\u001b[0;31m---------------------------------------------------------------------------\u001b[0m",
      "\u001b[0;31mModuleNotFoundError\u001b[0m                       Traceback (most recent call last)",
      "Input \u001b[0;32mIn [14]\u001b[0m, in \u001b[0;36m<cell line: 1>\u001b[0;34m()\u001b[0m\n\u001b[0;32m----> 1\u001b[0m \u001b[38;5;28;01mfrom\u001b[39;00m \u001b[38;5;21;01mpaddleocr\u001b[39;00m \u001b[38;5;28;01mimport\u001b[39;00m PaddleOCR\n",
      "\u001b[0;31mModuleNotFoundError\u001b[0m: No module named 'paddleocr'"
     ]
    }
   ],
   "source": [
    "from paddleocr import PaddleOCR"
   ]
  },
  {
   "cell_type": "code",
   "execution_count": 9,
   "metadata": {},
   "outputs": [
    {
     "name": "stdout",
     "output_type": "stream",
     "text": [
      "[2022/11/03 12:06:45] ppocr DEBUG: Namespace(help='==SUPPRESS==', use_gpu=False, use_xpu=False, use_npu=False, ir_optim=True, use_tensorrt=False, min_subgraph_size=15, precision='fp32', gpu_mem=500, image_dir=None, page_num=0, det_algorithm='DB', det_model_dir='/Users/vickykimani/.paddleocr/whl/det/en/en_PP-OCRv3_det_infer', det_limit_side_len=960, det_limit_type='max', det_box_type='quad', det_db_thresh=0.3, det_db_box_thresh=0.6, det_db_unclip_ratio=1.5, max_batch_size=10, use_dilation=False, det_db_score_mode='fast', det_east_score_thresh=0.8, det_east_cover_thresh=0.1, det_east_nms_thresh=0.2, det_sast_score_thresh=0.5, det_sast_nms_thresh=0.2, det_pse_thresh=0, det_pse_box_thresh=0.85, det_pse_min_area=16, det_pse_scale=1, scales=[8, 16, 32], alpha=1.0, beta=1.0, fourier_degree=5, rec_algorithm='CRNN', rec_model_dir='/Users/vickykimani/.paddleocr/whl/rec/en/en_PP-OCRv3_rec_infer', rec_image_inverse=True, rec_image_shape='3, 48, 320', rec_batch_num=6, max_text_length=25, rec_char_dict_path='/opt/anaconda3/lib/python3.9/site-packages/paddleocr/ppocr/utils/en_dict.txt', use_space_char=True, vis_font_path='./doc/fonts/simfang.ttf', drop_score=0.5, e2e_algorithm='PGNet', e2e_model_dir=None, e2e_limit_side_len=768, e2e_limit_type='max', e2e_pgnet_score_thresh=0.5, e2e_char_dict_path='./ppocr/utils/ic15_dict.txt', e2e_pgnet_valid_set='totaltext', e2e_pgnet_mode='fast', use_angle_cls=False, cls_model_dir='/Users/vickykimani/.paddleocr/whl/cls/ch_ppocr_mobile_v2.0_cls_infer', cls_image_shape='3, 48, 192', label_list=['0', '180'], cls_batch_num=6, cls_thresh=0.9, enable_mkldnn=False, cpu_threads=10, use_pdserving=False, warmup=False, sr_model_dir=None, sr_image_shape='3, 32, 128', sr_batch_num=1, draw_img_save_dir='./inference_results', save_crop_res=False, crop_res_save_dir='./output', use_mp=False, total_process_num=1, process_id=0, benchmark=False, save_log_path='./log_output/', show_log=True, use_onnx=False, output='./output', table_max_len=488, table_algorithm='TableAttn', table_model_dir=None, merge_no_span_structure=True, table_char_dict_path=None, layout_model_dir=None, layout_dict_path=None, layout_score_threshold=0.5, layout_nms_threshold=0.5, kie_algorithm='LayoutXLM', ser_model_dir=None, re_model_dir=None, use_visual_backbone=True, ser_dict_path='../train_data/XFUND/class_list_xfun.txt', ocr_order_method=None, mode='structure', image_orientation=False, layout=True, table=True, ocr=True, recovery=False, use_pdf2docx_api=False, lang='en', det=True, rec=True, type='ocr', ocr_version='PP-OCRv3', structure_version='PP-Structurev2')\n"
     ]
    }
   ],
   "source": [
    "ocr = PaddleOCR(lang='en',rec_algorithm='CRNN')"
   ]
  },
  {
   "cell_type": "code",
   "execution_count": 1,
   "metadata": {},
   "outputs": [],
   "source": [
    "# DETECTOR"
   ]
  },
  {
   "cell_type": "code",
   "execution_count": 16,
   "metadata": {},
   "outputs": [
    {
     "name": "stdout",
     "output_type": "stream",
     "text": [
      "/Users/vickykimani/Desktop/school work/1st semester/informatics 2/anpr_system/darknet\n"
     ]
    }
   ],
   "source": [
    "%cd ./darknet"
   ]
  },
  {
   "cell_type": "code",
   "execution_count": 17,
   "metadata": {},
   "outputs": [],
   "source": [
    "import os"
   ]
  },
  {
   "cell_type": "code",
   "execution_count": 18,
   "metadata": {},
   "outputs": [],
   "source": [
    "import glob"
   ]
  },
  {
   "cell_type": "code",
   "execution_count": 19,
   "metadata": {},
   "outputs": [],
   "source": [
    "import random"
   ]
  },
  {
   "cell_type": "code",
   "execution_count": 20,
   "metadata": {},
   "outputs": [],
   "source": [
    "import time"
   ]
  },
  {
   "cell_type": "code",
   "execution_count": 21,
   "metadata": {},
   "outputs": [],
   "source": [
    "import cv2"
   ]
  },
  {
   "cell_type": "code",
   "execution_count": 22,
   "metadata": {},
   "outputs": [],
   "source": [
    "import numpy as np"
   ]
  },
  {
   "cell_type": "code",
   "execution_count": 23,
   "metadata": {},
   "outputs": [
    {
     "ename": "OSError",
     "evalue": "dlopen(/Users/vickykimani/Desktop/school work/1st semester/informatics 2/anpr_system/darknet/libdarknet.so, 0x000A): tried: '/Users/vickykimani/Desktop/school work/1st semester/informatics 2/anpr_system/darknet/libdarknet.so' (no such file), '/System/Volumes/Preboot/Cryptexes/OS/Users/vickykimani/Desktop/school work/1st semester/informatics 2/anpr_system/darknet/libdarknet.so' (no such file), '/Users/vickykimani/Desktop/school work/1st semester/informatics 2/anpr_system/darknet/libdarknet.so' (no such file)",
     "output_type": "error",
     "traceback": [
      "\u001b[0;31m---------------------------------------------------------------------------\u001b[0m",
      "\u001b[0;31mOSError\u001b[0m                                   Traceback (most recent call last)",
      "Input \u001b[0;32mIn [23]\u001b[0m, in \u001b[0;36m<cell line: 1>\u001b[0;34m()\u001b[0m\n\u001b[0;32m----> 1\u001b[0m \u001b[38;5;28;01mimport\u001b[39;00m \u001b[38;5;21;01mdarknet\u001b[39;00m\n",
      "File \u001b[0;32m~/Desktop/school work/1st semester/informatics 2/anpr_system/darknet/darknet.py:236\u001b[0m, in \u001b[0;36m<module>\u001b[0;34m\u001b[0m\n\u001b[1;32m    234\u001b[0m \u001b[38;5;28;01mif\u001b[39;00m os\u001b[38;5;241m.\u001b[39mname \u001b[38;5;241m==\u001b[39m \u001b[38;5;124m\"\u001b[39m\u001b[38;5;124mposix\u001b[39m\u001b[38;5;124m\"\u001b[39m:\n\u001b[1;32m    235\u001b[0m     cwd \u001b[38;5;241m=\u001b[39m os\u001b[38;5;241m.\u001b[39mpath\u001b[38;5;241m.\u001b[39mdirname(\u001b[38;5;18m__file__\u001b[39m)\n\u001b[0;32m--> 236\u001b[0m     lib \u001b[38;5;241m=\u001b[39m \u001b[43mCDLL\u001b[49m\u001b[43m(\u001b[49m\u001b[43mcwd\u001b[49m\u001b[43m \u001b[49m\u001b[38;5;241;43m+\u001b[39;49m\u001b[43m \u001b[49m\u001b[38;5;124;43m\"\u001b[39;49m\u001b[38;5;124;43m/libdarknet.so\u001b[39;49m\u001b[38;5;124;43m\"\u001b[39;49m\u001b[43m,\u001b[49m\u001b[43m \u001b[49m\u001b[43mRTLD_GLOBAL\u001b[49m\u001b[43m)\u001b[49m\n\u001b[1;32m    237\u001b[0m \u001b[38;5;28;01melif\u001b[39;00m os\u001b[38;5;241m.\u001b[39mname \u001b[38;5;241m==\u001b[39m \u001b[38;5;124m\"\u001b[39m\u001b[38;5;124mnt\u001b[39m\u001b[38;5;124m\"\u001b[39m:\n\u001b[1;32m    238\u001b[0m     cwd \u001b[38;5;241m=\u001b[39m os\u001b[38;5;241m.\u001b[39mpath\u001b[38;5;241m.\u001b[39mdirname(\u001b[38;5;18m__file__\u001b[39m)\n",
      "File \u001b[0;32m/opt/anaconda3/envs/tf/lib/python3.10/ctypes/__init__.py:374\u001b[0m, in \u001b[0;36mCDLL.__init__\u001b[0;34m(self, name, mode, handle, use_errno, use_last_error, winmode)\u001b[0m\n\u001b[1;32m    371\u001b[0m \u001b[38;5;28mself\u001b[39m\u001b[38;5;241m.\u001b[39m_FuncPtr \u001b[38;5;241m=\u001b[39m _FuncPtr\n\u001b[1;32m    373\u001b[0m \u001b[38;5;28;01mif\u001b[39;00m handle \u001b[38;5;129;01mis\u001b[39;00m \u001b[38;5;28;01mNone\u001b[39;00m:\n\u001b[0;32m--> 374\u001b[0m     \u001b[38;5;28mself\u001b[39m\u001b[38;5;241m.\u001b[39m_handle \u001b[38;5;241m=\u001b[39m \u001b[43m_dlopen\u001b[49m\u001b[43m(\u001b[49m\u001b[38;5;28;43mself\u001b[39;49m\u001b[38;5;241;43m.\u001b[39;49m\u001b[43m_name\u001b[49m\u001b[43m,\u001b[49m\u001b[43m \u001b[49m\u001b[43mmode\u001b[49m\u001b[43m)\u001b[49m\n\u001b[1;32m    375\u001b[0m \u001b[38;5;28;01melse\u001b[39;00m:\n\u001b[1;32m    376\u001b[0m     \u001b[38;5;28mself\u001b[39m\u001b[38;5;241m.\u001b[39m_handle \u001b[38;5;241m=\u001b[39m handle\n",
      "\u001b[0;31mOSError\u001b[0m: dlopen(/Users/vickykimani/Desktop/school work/1st semester/informatics 2/anpr_system/darknet/libdarknet.so, 0x000A): tried: '/Users/vickykimani/Desktop/school work/1st semester/informatics 2/anpr_system/darknet/libdarknet.so' (no such file), '/System/Volumes/Preboot/Cryptexes/OS/Users/vickykimani/Desktop/school work/1st semester/informatics 2/anpr_system/darknet/libdarknet.so' (no such file), '/Users/vickykimani/Desktop/school work/1st semester/informatics 2/anpr_system/darknet/libdarknet.so' (no such file)"
     ]
    }
   ],
   "source": [
    "import darknet"
   ]
  },
  {
   "cell_type": "code",
   "execution_count": 24,
   "metadata": {},
   "outputs": [],
   "source": [
    "import subprocess"
   ]
  },
  {
   "cell_type": "code",
   "execution_count": 25,
   "metadata": {},
   "outputs": [],
   "source": [
    "import uuid"
   ]
  },
  {
   "cell_type": "code",
   "execution_count": 26,
   "metadata": {},
   "outputs": [],
   "source": [
    "import sys"
   ]
  },
  {
   "cell_type": "code",
   "execution_count": 1,
   "metadata": {},
   "outputs": [
    {
     "ename": "ModuleNotFoundError",
     "evalue": "No module named 'Image'",
     "output_type": "error",
     "traceback": [
      "\u001b[0;31m---------------------------------------------------------------------------\u001b[0m",
      "\u001b[0;31mModuleNotFoundError\u001b[0m                       Traceback (most recent call last)",
      "Input \u001b[0;32mIn [1]\u001b[0m, in \u001b[0;36m<cell line: 1>\u001b[0;34m()\u001b[0m\n\u001b[0;32m----> 1\u001b[0m \u001b[38;5;28;01mimport\u001b[39;00m \u001b[38;5;21;01mImage\u001b[39;00m\n",
      "\u001b[0;31mModuleNotFoundError\u001b[0m: No module named 'Image'"
     ]
    }
   ],
   "source": [
    "import Image"
   ]
  },
  {
   "cell_type": "code",
   "execution_count": 27,
   "metadata": {},
   "outputs": [
    {
     "ename": "ModuleNotFoundError",
     "evalue": "No module named 'PIL'",
     "output_type": "error",
     "traceback": [
      "\u001b[0;31m---------------------------------------------------------------------------\u001b[0m",
      "\u001b[0;31mModuleNotFoundError\u001b[0m                       Traceback (most recent call last)",
      "Input \u001b[0;32mIn [27]\u001b[0m, in \u001b[0;36m<cell line: 1>\u001b[0;34m()\u001b[0m\n\u001b[0;32m----> 1\u001b[0m \u001b[38;5;28;01mfrom\u001b[39;00m \u001b[38;5;21;01mPIL\u001b[39;00m \u001b[38;5;28;01mimport\u001b[39;00m Image\n",
      "\u001b[0;31mModuleNotFoundError\u001b[0m: No module named 'PIL'"
     ]
    }
   ],
   "source": [
    "from PIL import Image"
   ]
  },
  {
   "cell_type": "code",
   "execution_count": 28,
   "metadata": {},
   "outputs": [
    {
     "ename": "ModuleNotFoundError",
     "evalue": "No module named 'matplotlib'",
     "output_type": "error",
     "traceback": [
      "\u001b[0;31m---------------------------------------------------------------------------\u001b[0m",
      "\u001b[0;31mModuleNotFoundError\u001b[0m                       Traceback (most recent call last)",
      "Input \u001b[0;32mIn [28]\u001b[0m, in \u001b[0;36m<cell line: 1>\u001b[0;34m()\u001b[0m\n\u001b[0;32m----> 1\u001b[0m \u001b[38;5;28;01mimport\u001b[39;00m \u001b[38;5;21;01mmatplotlib\u001b[39;00m\n",
      "\u001b[0;31mModuleNotFoundError\u001b[0m: No module named 'matplotlib'"
     ]
    }
   ],
   "source": [
    "import matplotlib"
   ]
  },
  {
   "cell_type": "code",
   "execution_count": 29,
   "metadata": {},
   "outputs": [
    {
     "ename": "ModuleNotFoundError",
     "evalue": "No module named 'matplotlib'",
     "output_type": "error",
     "traceback": [
      "\u001b[0;31m---------------------------------------------------------------------------\u001b[0m",
      "\u001b[0;31mModuleNotFoundError\u001b[0m                       Traceback (most recent call last)",
      "Input \u001b[0;32mIn [29]\u001b[0m, in \u001b[0;36m<cell line: 1>\u001b[0;34m()\u001b[0m\n\u001b[0;32m----> 1\u001b[0m \u001b[38;5;28;01mimport\u001b[39;00m \u001b[38;5;21;01mmatplotlib\u001b[39;00m\u001b[38;5;21;01m.\u001b[39;00m\u001b[38;5;21;01mpyplot\u001b[39;00m \u001b[38;5;28;01mas\u001b[39;00m \u001b[38;5;21;01mplt\u001b[39;00m\n",
      "\u001b[0;31mModuleNotFoundError\u001b[0m: No module named 'matplotlib'"
     ]
    }
   ],
   "source": [
    "import matplotlib.pyplot as plt"
   ]
  },
  {
   "cell_type": "code",
   "execution_count": 30,
   "metadata": {},
   "outputs": [
    {
     "ename": "ModuleNotFoundError",
     "evalue": "No module named 'matplotlib'",
     "output_type": "error",
     "traceback": [
      "\u001b[0;31m---------------------------------------------------------------------------\u001b[0m",
      "\u001b[0;31mModuleNotFoundError\u001b[0m                       Traceback (most recent call last)",
      "Input \u001b[0;32mIn [30]\u001b[0m, in \u001b[0;36m<cell line: 1>\u001b[0;34m()\u001b[0m\n\u001b[0;32m----> 1\u001b[0m \u001b[43mget_ipython\u001b[49m\u001b[43m(\u001b[49m\u001b[43m)\u001b[49m\u001b[38;5;241;43m.\u001b[39;49m\u001b[43mrun_line_magic\u001b[49m\u001b[43m(\u001b[49m\u001b[38;5;124;43m'\u001b[39;49m\u001b[38;5;124;43mmatplotlib\u001b[39;49m\u001b[38;5;124;43m'\u001b[39;49m\u001b[43m,\u001b[49m\u001b[43m \u001b[49m\u001b[38;5;124;43m'\u001b[39;49m\u001b[38;5;124;43minline\u001b[39;49m\u001b[38;5;124;43m'\u001b[39;49m\u001b[43m)\u001b[49m\n",
      "File \u001b[0;32m/opt/anaconda3/envs/tf/lib/python3.10/site-packages/IPython/core/interactiveshell.py:2305\u001b[0m, in \u001b[0;36mInteractiveShell.run_line_magic\u001b[0;34m(self, magic_name, line, _stack_depth)\u001b[0m\n\u001b[1;32m   2303\u001b[0m     kwargs[\u001b[38;5;124m'\u001b[39m\u001b[38;5;124mlocal_ns\u001b[39m\u001b[38;5;124m'\u001b[39m] \u001b[38;5;241m=\u001b[39m \u001b[38;5;28mself\u001b[39m\u001b[38;5;241m.\u001b[39mget_local_scope(stack_depth)\n\u001b[1;32m   2304\u001b[0m \u001b[38;5;28;01mwith\u001b[39;00m \u001b[38;5;28mself\u001b[39m\u001b[38;5;241m.\u001b[39mbuiltin_trap:\n\u001b[0;32m-> 2305\u001b[0m     result \u001b[38;5;241m=\u001b[39m \u001b[43mfn\u001b[49m\u001b[43m(\u001b[49m\u001b[38;5;241;43m*\u001b[39;49m\u001b[43margs\u001b[49m\u001b[43m,\u001b[49m\u001b[43m \u001b[49m\u001b[38;5;241;43m*\u001b[39;49m\u001b[38;5;241;43m*\u001b[39;49m\u001b[43mkwargs\u001b[49m\u001b[43m)\u001b[49m\n\u001b[1;32m   2306\u001b[0m \u001b[38;5;28;01mreturn\u001b[39;00m result\n",
      "File \u001b[0;32m/opt/anaconda3/envs/tf/lib/python3.10/site-packages/IPython/core/magics/pylab.py:99\u001b[0m, in \u001b[0;36mPylabMagics.matplotlib\u001b[0;34m(self, line)\u001b[0m\n\u001b[1;32m     97\u001b[0m     \u001b[38;5;28mprint\u001b[39m(\u001b[38;5;124m\"\u001b[39m\u001b[38;5;124mAvailable matplotlib backends: \u001b[39m\u001b[38;5;132;01m%s\u001b[39;00m\u001b[38;5;124m\"\u001b[39m \u001b[38;5;241m%\u001b[39m backends_list)\n\u001b[1;32m     98\u001b[0m \u001b[38;5;28;01melse\u001b[39;00m:\n\u001b[0;32m---> 99\u001b[0m     gui, backend \u001b[38;5;241m=\u001b[39m \u001b[38;5;28;43mself\u001b[39;49m\u001b[38;5;241;43m.\u001b[39;49m\u001b[43mshell\u001b[49m\u001b[38;5;241;43m.\u001b[39;49m\u001b[43menable_matplotlib\u001b[49m\u001b[43m(\u001b[49m\u001b[43margs\u001b[49m\u001b[38;5;241;43m.\u001b[39;49m\u001b[43mgui\u001b[49m\u001b[38;5;241;43m.\u001b[39;49m\u001b[43mlower\u001b[49m\u001b[43m(\u001b[49m\u001b[43m)\u001b[49m\u001b[43m \u001b[49m\u001b[38;5;28;43;01mif\u001b[39;49;00m\u001b[43m \u001b[49m\u001b[38;5;28;43misinstance\u001b[39;49m\u001b[43m(\u001b[49m\u001b[43margs\u001b[49m\u001b[38;5;241;43m.\u001b[39;49m\u001b[43mgui\u001b[49m\u001b[43m,\u001b[49m\u001b[43m \u001b[49m\u001b[38;5;28;43mstr\u001b[39;49m\u001b[43m)\u001b[49m\u001b[43m \u001b[49m\u001b[38;5;28;43;01melse\u001b[39;49;00m\u001b[43m \u001b[49m\u001b[43margs\u001b[49m\u001b[38;5;241;43m.\u001b[39;49m\u001b[43mgui\u001b[49m\u001b[43m)\u001b[49m\n\u001b[1;32m    100\u001b[0m     \u001b[38;5;28mself\u001b[39m\u001b[38;5;241m.\u001b[39m_show_matplotlib_backend(args\u001b[38;5;241m.\u001b[39mgui, backend)\n",
      "File \u001b[0;32m/opt/anaconda3/envs/tf/lib/python3.10/site-packages/IPython/core/interactiveshell.py:3478\u001b[0m, in \u001b[0;36mInteractiveShell.enable_matplotlib\u001b[0;34m(self, gui)\u001b[0m\n\u001b[1;32m   3457\u001b[0m \u001b[38;5;28;01mdef\u001b[39;00m \u001b[38;5;21menable_matplotlib\u001b[39m(\u001b[38;5;28mself\u001b[39m, gui\u001b[38;5;241m=\u001b[39m\u001b[38;5;28;01mNone\u001b[39;00m):\n\u001b[1;32m   3458\u001b[0m     \u001b[38;5;124;03m\"\"\"Enable interactive matplotlib and inline figure support.\u001b[39;00m\n\u001b[1;32m   3459\u001b[0m \n\u001b[1;32m   3460\u001b[0m \u001b[38;5;124;03m    This takes the following steps:\u001b[39;00m\n\u001b[0;32m   (...)\u001b[0m\n\u001b[1;32m   3476\u001b[0m \u001b[38;5;124;03m        display figures inline.\u001b[39;00m\n\u001b[1;32m   3477\u001b[0m \u001b[38;5;124;03m    \"\"\"\u001b[39;00m\n\u001b[0;32m-> 3478\u001b[0m     \u001b[38;5;28;01mfrom\u001b[39;00m \u001b[38;5;21;01mmatplotlib_inline\u001b[39;00m\u001b[38;5;21;01m.\u001b[39;00m\u001b[38;5;21;01mbackend_inline\u001b[39;00m \u001b[38;5;28;01mimport\u001b[39;00m configure_inline_support\n\u001b[1;32m   3480\u001b[0m     \u001b[38;5;28;01mfrom\u001b[39;00m \u001b[38;5;21;01mIPython\u001b[39;00m\u001b[38;5;21;01m.\u001b[39;00m\u001b[38;5;21;01mcore\u001b[39;00m \u001b[38;5;28;01mimport\u001b[39;00m pylabtools \u001b[38;5;28;01mas\u001b[39;00m pt\n\u001b[1;32m   3481\u001b[0m     gui, backend \u001b[38;5;241m=\u001b[39m pt\u001b[38;5;241m.\u001b[39mfind_gui_and_backend(gui, \u001b[38;5;28mself\u001b[39m\u001b[38;5;241m.\u001b[39mpylab_gui_select)\n",
      "File \u001b[0;32m/opt/anaconda3/envs/tf/lib/python3.10/site-packages/matplotlib_inline/__init__.py:1\u001b[0m, in \u001b[0;36m<module>\u001b[0;34m\u001b[0m\n\u001b[0;32m----> 1\u001b[0m \u001b[38;5;28;01mfrom\u001b[39;00m \u001b[38;5;21;01m.\u001b[39;00m \u001b[38;5;28;01mimport\u001b[39;00m backend_inline, config  \u001b[38;5;66;03m# noqa\u001b[39;00m\n\u001b[1;32m      2\u001b[0m __version__ \u001b[38;5;241m=\u001b[39m \u001b[38;5;124m\"\u001b[39m\u001b[38;5;124m0.1.6\u001b[39m\u001b[38;5;124m\"\u001b[39m\n",
      "File \u001b[0;32m/opt/anaconda3/envs/tf/lib/python3.10/site-packages/matplotlib_inline/backend_inline.py:6\u001b[0m, in \u001b[0;36m<module>\u001b[0;34m\u001b[0m\n\u001b[1;32m      1\u001b[0m \u001b[38;5;124;03m\"\"\"A matplotlib backend for publishing figures via display_data\"\"\"\u001b[39;00m\n\u001b[1;32m      3\u001b[0m \u001b[38;5;66;03m# Copyright (c) IPython Development Team.\u001b[39;00m\n\u001b[1;32m      4\u001b[0m \u001b[38;5;66;03m# Distributed under the terms of the BSD 3-Clause License.\u001b[39;00m\n\u001b[0;32m----> 6\u001b[0m \u001b[38;5;28;01mimport\u001b[39;00m \u001b[38;5;21;01mmatplotlib\u001b[39;00m\n\u001b[1;32m      7\u001b[0m \u001b[38;5;28;01mfrom\u001b[39;00m \u001b[38;5;21;01mmatplotlib\u001b[39;00m \u001b[38;5;28;01mimport\u001b[39;00m colors\n\u001b[1;32m      8\u001b[0m \u001b[38;5;28;01mfrom\u001b[39;00m \u001b[38;5;21;01mmatplotlib\u001b[39;00m\u001b[38;5;21;01m.\u001b[39;00m\u001b[38;5;21;01mbackends\u001b[39;00m \u001b[38;5;28;01mimport\u001b[39;00m backend_agg\n",
      "\u001b[0;31mModuleNotFoundError\u001b[0m: No module named 'matplotlib'"
     ]
    }
   ],
   "source": [
    "%matplotlib inline"
   ]
  },
  {
   "cell_type": "code",
   "execution_count": 31,
   "metadata": {},
   "outputs": [],
   "source": [
    "# darknet object detector imports"
   ]
  },
  {
   "cell_type": "code",
   "execution_count": 32,
   "metadata": {},
   "outputs": [
    {
     "ename": "OSError",
     "evalue": "dlopen(/Users/vickykimani/Desktop/school work/1st semester/informatics 2/anpr_system/darknet/libdarknet.so, 0x000A): tried: '/Users/vickykimani/Desktop/school work/1st semester/informatics 2/anpr_system/darknet/libdarknet.so' (no such file), '/System/Volumes/Preboot/Cryptexes/OS/Users/vickykimani/Desktop/school work/1st semester/informatics 2/anpr_system/darknet/libdarknet.so' (no such file), '/Users/vickykimani/Desktop/school work/1st semester/informatics 2/anpr_system/darknet/libdarknet.so' (no such file)",
     "output_type": "error",
     "traceback": [
      "\u001b[0;31m---------------------------------------------------------------------------\u001b[0m",
      "\u001b[0;31mOSError\u001b[0m                                   Traceback (most recent call last)",
      "Input \u001b[0;32mIn [32]\u001b[0m, in \u001b[0;36m<cell line: 1>\u001b[0;34m()\u001b[0m\n\u001b[0;32m----> 1\u001b[0m \u001b[38;5;28;01mfrom\u001b[39;00m \u001b[38;5;21;01mdarknet_images\u001b[39;00m \u001b[38;5;28;01mimport\u001b[39;00m load_images\n",
      "File \u001b[0;32m~/Desktop/school work/1st semester/informatics 2/anpr_system/darknet/darknet_images.py:8\u001b[0m, in \u001b[0;36m<module>\u001b[0;34m\u001b[0m\n\u001b[1;32m      6\u001b[0m \u001b[38;5;28;01mimport\u001b[39;00m \u001b[38;5;21;01mcv2\u001b[39;00m\n\u001b[1;32m      7\u001b[0m \u001b[38;5;28;01mimport\u001b[39;00m \u001b[38;5;21;01mnumpy\u001b[39;00m \u001b[38;5;28;01mas\u001b[39;00m \u001b[38;5;21;01mnp\u001b[39;00m\n\u001b[0;32m----> 8\u001b[0m \u001b[38;5;28;01mimport\u001b[39;00m \u001b[38;5;21;01mdarknet\u001b[39;00m\n\u001b[1;32m     11\u001b[0m \u001b[38;5;28;01mdef\u001b[39;00m \u001b[38;5;21mparser\u001b[39m():\n\u001b[1;32m     12\u001b[0m     parser \u001b[38;5;241m=\u001b[39m argparse\u001b[38;5;241m.\u001b[39mArgumentParser(description\u001b[38;5;241m=\u001b[39m\u001b[38;5;124m\"\u001b[39m\u001b[38;5;124mYOLO Object Detection\u001b[39m\u001b[38;5;124m\"\u001b[39m)\n",
      "File \u001b[0;32m~/Desktop/school work/1st semester/informatics 2/anpr_system/darknet/darknet.py:236\u001b[0m, in \u001b[0;36m<module>\u001b[0;34m\u001b[0m\n\u001b[1;32m    234\u001b[0m \u001b[38;5;28;01mif\u001b[39;00m os\u001b[38;5;241m.\u001b[39mname \u001b[38;5;241m==\u001b[39m \u001b[38;5;124m\"\u001b[39m\u001b[38;5;124mposix\u001b[39m\u001b[38;5;124m\"\u001b[39m:\n\u001b[1;32m    235\u001b[0m     cwd \u001b[38;5;241m=\u001b[39m os\u001b[38;5;241m.\u001b[39mpath\u001b[38;5;241m.\u001b[39mdirname(\u001b[38;5;18m__file__\u001b[39m)\n\u001b[0;32m--> 236\u001b[0m     lib \u001b[38;5;241m=\u001b[39m \u001b[43mCDLL\u001b[49m\u001b[43m(\u001b[49m\u001b[43mcwd\u001b[49m\u001b[43m \u001b[49m\u001b[38;5;241;43m+\u001b[39;49m\u001b[43m \u001b[49m\u001b[38;5;124;43m\"\u001b[39;49m\u001b[38;5;124;43m/libdarknet.so\u001b[39;49m\u001b[38;5;124;43m\"\u001b[39;49m\u001b[43m,\u001b[49m\u001b[43m \u001b[49m\u001b[43mRTLD_GLOBAL\u001b[49m\u001b[43m)\u001b[49m\n\u001b[1;32m    237\u001b[0m \u001b[38;5;28;01melif\u001b[39;00m os\u001b[38;5;241m.\u001b[39mname \u001b[38;5;241m==\u001b[39m \u001b[38;5;124m\"\u001b[39m\u001b[38;5;124mnt\u001b[39m\u001b[38;5;124m\"\u001b[39m:\n\u001b[1;32m    238\u001b[0m     cwd \u001b[38;5;241m=\u001b[39m os\u001b[38;5;241m.\u001b[39mpath\u001b[38;5;241m.\u001b[39mdirname(\u001b[38;5;18m__file__\u001b[39m)\n",
      "File \u001b[0;32m/opt/anaconda3/envs/tf/lib/python3.10/ctypes/__init__.py:374\u001b[0m, in \u001b[0;36mCDLL.__init__\u001b[0;34m(self, name, mode, handle, use_errno, use_last_error, winmode)\u001b[0m\n\u001b[1;32m    371\u001b[0m \u001b[38;5;28mself\u001b[39m\u001b[38;5;241m.\u001b[39m_FuncPtr \u001b[38;5;241m=\u001b[39m _FuncPtr\n\u001b[1;32m    373\u001b[0m \u001b[38;5;28;01mif\u001b[39;00m handle \u001b[38;5;129;01mis\u001b[39;00m \u001b[38;5;28;01mNone\u001b[39;00m:\n\u001b[0;32m--> 374\u001b[0m     \u001b[38;5;28mself\u001b[39m\u001b[38;5;241m.\u001b[39m_handle \u001b[38;5;241m=\u001b[39m \u001b[43m_dlopen\u001b[49m\u001b[43m(\u001b[49m\u001b[38;5;28;43mself\u001b[39;49m\u001b[38;5;241;43m.\u001b[39;49m\u001b[43m_name\u001b[49m\u001b[43m,\u001b[49m\u001b[43m \u001b[49m\u001b[43mmode\u001b[49m\u001b[43m)\u001b[49m\n\u001b[1;32m    375\u001b[0m \u001b[38;5;28;01melse\u001b[39;00m:\n\u001b[1;32m    376\u001b[0m     \u001b[38;5;28mself\u001b[39m\u001b[38;5;241m.\u001b[39m_handle \u001b[38;5;241m=\u001b[39m handle\n",
      "\u001b[0;31mOSError\u001b[0m: dlopen(/Users/vickykimani/Desktop/school work/1st semester/informatics 2/anpr_system/darknet/libdarknet.so, 0x000A): tried: '/Users/vickykimani/Desktop/school work/1st semester/informatics 2/anpr_system/darknet/libdarknet.so' (no such file), '/System/Volumes/Preboot/Cryptexes/OS/Users/vickykimani/Desktop/school work/1st semester/informatics 2/anpr_system/darknet/libdarknet.so' (no such file), '/Users/vickykimani/Desktop/school work/1st semester/informatics 2/anpr_system/darknet/libdarknet.so' (no such file)"
     ]
    }
   ],
   "source": [
    "from darknet_images import load_images"
   ]
  },
  {
   "cell_type": "code",
   "execution_count": 33,
   "metadata": {},
   "outputs": [
    {
     "ename": "OSError",
     "evalue": "dlopen(/Users/vickykimani/Desktop/school work/1st semester/informatics 2/anpr_system/darknet/libdarknet.so, 0x000A): tried: '/Users/vickykimani/Desktop/school work/1st semester/informatics 2/anpr_system/darknet/libdarknet.so' (no such file), '/System/Volumes/Preboot/Cryptexes/OS/Users/vickykimani/Desktop/school work/1st semester/informatics 2/anpr_system/darknet/libdarknet.so' (no such file), '/Users/vickykimani/Desktop/school work/1st semester/informatics 2/anpr_system/darknet/libdarknet.so' (no such file)",
     "output_type": "error",
     "traceback": [
      "\u001b[0;31m---------------------------------------------------------------------------\u001b[0m",
      "\u001b[0;31mOSError\u001b[0m                                   Traceback (most recent call last)",
      "Input \u001b[0;32mIn [33]\u001b[0m, in \u001b[0;36m<cell line: 1>\u001b[0;34m()\u001b[0m\n\u001b[0;32m----> 1\u001b[0m \u001b[38;5;28;01mfrom\u001b[39;00m \u001b[38;5;21;01mdarknet_images\u001b[39;00m \u001b[38;5;28;01mimport\u001b[39;00m image_detection\n",
      "File \u001b[0;32m~/Desktop/school work/1st semester/informatics 2/anpr_system/darknet/darknet_images.py:8\u001b[0m, in \u001b[0;36m<module>\u001b[0;34m\u001b[0m\n\u001b[1;32m      6\u001b[0m \u001b[38;5;28;01mimport\u001b[39;00m \u001b[38;5;21;01mcv2\u001b[39;00m\n\u001b[1;32m      7\u001b[0m \u001b[38;5;28;01mimport\u001b[39;00m \u001b[38;5;21;01mnumpy\u001b[39;00m \u001b[38;5;28;01mas\u001b[39;00m \u001b[38;5;21;01mnp\u001b[39;00m\n\u001b[0;32m----> 8\u001b[0m \u001b[38;5;28;01mimport\u001b[39;00m \u001b[38;5;21;01mdarknet\u001b[39;00m\n\u001b[1;32m     11\u001b[0m \u001b[38;5;28;01mdef\u001b[39;00m \u001b[38;5;21mparser\u001b[39m():\n\u001b[1;32m     12\u001b[0m     parser \u001b[38;5;241m=\u001b[39m argparse\u001b[38;5;241m.\u001b[39mArgumentParser(description\u001b[38;5;241m=\u001b[39m\u001b[38;5;124m\"\u001b[39m\u001b[38;5;124mYOLO Object Detection\u001b[39m\u001b[38;5;124m\"\u001b[39m)\n",
      "File \u001b[0;32m~/Desktop/school work/1st semester/informatics 2/anpr_system/darknet/darknet.py:236\u001b[0m, in \u001b[0;36m<module>\u001b[0;34m\u001b[0m\n\u001b[1;32m    234\u001b[0m \u001b[38;5;28;01mif\u001b[39;00m os\u001b[38;5;241m.\u001b[39mname \u001b[38;5;241m==\u001b[39m \u001b[38;5;124m\"\u001b[39m\u001b[38;5;124mposix\u001b[39m\u001b[38;5;124m\"\u001b[39m:\n\u001b[1;32m    235\u001b[0m     cwd \u001b[38;5;241m=\u001b[39m os\u001b[38;5;241m.\u001b[39mpath\u001b[38;5;241m.\u001b[39mdirname(\u001b[38;5;18m__file__\u001b[39m)\n\u001b[0;32m--> 236\u001b[0m     lib \u001b[38;5;241m=\u001b[39m \u001b[43mCDLL\u001b[49m\u001b[43m(\u001b[49m\u001b[43mcwd\u001b[49m\u001b[43m \u001b[49m\u001b[38;5;241;43m+\u001b[39;49m\u001b[43m \u001b[49m\u001b[38;5;124;43m\"\u001b[39;49m\u001b[38;5;124;43m/libdarknet.so\u001b[39;49m\u001b[38;5;124;43m\"\u001b[39;49m\u001b[43m,\u001b[49m\u001b[43m \u001b[49m\u001b[43mRTLD_GLOBAL\u001b[49m\u001b[43m)\u001b[49m\n\u001b[1;32m    237\u001b[0m \u001b[38;5;28;01melif\u001b[39;00m os\u001b[38;5;241m.\u001b[39mname \u001b[38;5;241m==\u001b[39m \u001b[38;5;124m\"\u001b[39m\u001b[38;5;124mnt\u001b[39m\u001b[38;5;124m\"\u001b[39m:\n\u001b[1;32m    238\u001b[0m     cwd \u001b[38;5;241m=\u001b[39m os\u001b[38;5;241m.\u001b[39mpath\u001b[38;5;241m.\u001b[39mdirname(\u001b[38;5;18m__file__\u001b[39m)\n",
      "File \u001b[0;32m/opt/anaconda3/envs/tf/lib/python3.10/ctypes/__init__.py:374\u001b[0m, in \u001b[0;36mCDLL.__init__\u001b[0;34m(self, name, mode, handle, use_errno, use_last_error, winmode)\u001b[0m\n\u001b[1;32m    371\u001b[0m \u001b[38;5;28mself\u001b[39m\u001b[38;5;241m.\u001b[39m_FuncPtr \u001b[38;5;241m=\u001b[39m _FuncPtr\n\u001b[1;32m    373\u001b[0m \u001b[38;5;28;01mif\u001b[39;00m handle \u001b[38;5;129;01mis\u001b[39;00m \u001b[38;5;28;01mNone\u001b[39;00m:\n\u001b[0;32m--> 374\u001b[0m     \u001b[38;5;28mself\u001b[39m\u001b[38;5;241m.\u001b[39m_handle \u001b[38;5;241m=\u001b[39m \u001b[43m_dlopen\u001b[49m\u001b[43m(\u001b[49m\u001b[38;5;28;43mself\u001b[39;49m\u001b[38;5;241;43m.\u001b[39;49m\u001b[43m_name\u001b[49m\u001b[43m,\u001b[49m\u001b[43m \u001b[49m\u001b[43mmode\u001b[49m\u001b[43m)\u001b[49m\n\u001b[1;32m    375\u001b[0m \u001b[38;5;28;01melse\u001b[39;00m:\n\u001b[1;32m    376\u001b[0m     \u001b[38;5;28mself\u001b[39m\u001b[38;5;241m.\u001b[39m_handle \u001b[38;5;241m=\u001b[39m handle\n",
      "\u001b[0;31mOSError\u001b[0m: dlopen(/Users/vickykimani/Desktop/school work/1st semester/informatics 2/anpr_system/darknet/libdarknet.so, 0x000A): tried: '/Users/vickykimani/Desktop/school work/1st semester/informatics 2/anpr_system/darknet/libdarknet.so' (no such file), '/System/Volumes/Preboot/Cryptexes/OS/Users/vickykimani/Desktop/school work/1st semester/informatics 2/anpr_system/darknet/libdarknet.so' (no such file), '/Users/vickykimani/Desktop/school work/1st semester/informatics 2/anpr_system/darknet/libdarknet.so' (no such file)"
     ]
    }
   ],
   "source": [
    "from darknet_images import image_detection"
   ]
  },
  {
   "cell_type": "code",
   "execution_count": 34,
   "metadata": {},
   "outputs": [
    {
     "name": "stdout",
     "output_type": "stream",
     "text": [
      "/Users/vickykimani/Desktop/school work/1st semester/informatics 2/anpr_system\n"
     ]
    }
   ],
   "source": [
    "%cd ../"
   ]
  },
  {
   "cell_type": "code",
   "execution_count": 41,
   "metadata": {},
   "outputs": [],
   "source": [
    "# add absolute paths according to folder structure\n",
    "# declare important variables\n",
    "# path of config file of YOLOv4\n",
    "# path of obj.data file\n",
    "# batch size of data passed to the detector\n",
    "# path of trained YOLOv4 weights\n",
    "# confidence threshold"
   ]
  },
  {
   "cell_type": "code",
   "execution_count": 36,
   "metadata": {},
   "outputs": [],
   "source": [
    "config_file = ''"
   ]
  },
  {
   "cell_type": "code",
   "execution_count": 37,
   "metadata": {},
   "outputs": [],
   "source": [
    "data_file = ''"
   ]
  },
  {
   "cell_type": "code",
   "execution_count": 38,
   "metadata": {},
   "outputs": [],
   "source": [
    "batch_size = 1"
   ]
  },
  {
   "cell_type": "code",
   "execution_count": 39,
   "metadata": {},
   "outputs": [],
   "source": [
    "weights = ''"
   ]
  },
  {
   "cell_type": "code",
   "execution_count": 40,
   "metadata": {},
   "outputs": [],
   "source": [
    "thresh = 0.6"
   ]
  },
  {
   "cell_type": "code",
   "execution_count": 42,
   "metadata": {},
   "outputs": [],
   "source": [
    "# variables storing colors and fonts"
   ]
  },
  {
   "cell_type": "code",
   "execution_count": 43,
   "metadata": {},
   "outputs": [],
   "source": [
    "font = cv2.FONT_HERSHEY_SIMPLEX\n",
    "blue_color = (255,0,0)\n",
    "white_color = (255,255,255)\n",
    "black_color = (0,0,0)\n",
    "green_color = (0,255,0)\n",
    "yellow_color = (178, 247, 218)"
   ]
  },
  {
   "cell_type": "code",
   "execution_count": 44,
   "metadata": {},
   "outputs": [],
   "source": [
    "# more utility functions"
   ]
  },
  {
   "cell_type": "code",
   "execution_count": 45,
   "metadata": {},
   "outputs": [],
   "source": [
    "def crop(image, coord):\n",
    "    #cropping is done by -> image[y1:y2, x1:x2]\n",
    "    cr_img = image[int(coord[1]):int(coord[3]), int(coord[0]):int(coord[2])]\n",
    "    return cr_img"
   ]
  },
  {
   "cell_type": "code",
   "execution_count": 47,
   "metadata": {},
   "outputs": [],
   "source": [
    "def resize_boundingBox(detections, out_size, in_size):\n",
    "    coord = []\n",
    "    scores = []\n",
    "    \n",
    "    # scaling the bounding boxes to the different size\n",
    "    for det in detections:\n",
    "        points = list(det[2])\n",
    "        conf = det[1]\n",
    "        xmin, ymin, xmax, ymax = darknet.bbox2points(points)\n",
    "        yscale = float(out_size[0]) / in_size[0]\n",
    "        xscale = float(out_size[1]) / in_size[1]\n",
    "        ymin = int(y_scale * ymin)\n",
    "        ymax = int(y_scale * ymax)\n",
    "        xmin = int(x_scale * xmin) if int(x_scale * xmin) > 0 else 0\n",
    "        xmax = int(x_scale * xmax)\n",
    "        final_points = [xmin, ymin, xmax-xmin, ymax-ymin]\n",
    "        scores.append(conf)\n",
    "        coord.append(final_points)\n",
    "    return coord, scores"
   ]
  },
  {
   "cell_type": "code",
   "execution_count": 1,
   "metadata": {},
   "outputs": [],
   "source": [
    "def yolo_det(frame, config_file, data_file, batch_size, weights, threshold, output, network, class_names, class_colors, save = False, out_path = ''):\n",
    "    prev_time = time.time()\n",
    "    \n",
    "    # preprocessing the input image\n",
    "    width = darknet.network_width(network)\n",
    "    height = darknet.network_height(network)\n",
    "    darknet_image = darknet.make_image(width, height, 3)\n",
    "    image_rgb = cv2.cvtColor(frame, cv2.COLOR_BGR2RGB)\n",
    "    image_resized = cv2.resize(image_rgb, (width, height))\n",
    "    \n",
    "    # passing the image to the detector and store the detections\n",
    "    darknet.copy_image_from_bytes(darknet_image, image_resized.tonytes())\n",
    "    detections = darknet.detect_image(network, class_names, darknet_image, thresh=threshold)\n",
    "    darknet.free_image(darknet_image)\n",
    "    \n",
    "    # plotting the detections using darknet in_built functions\n",
    "    image = darknet.draw_boxes(detections, image_resized, class_colors)\n",
    "    print(detections)\n",
    "    if save:\n",
    "        im = cv2.cvtColor(image, cv2.COLOR_RGB2BGR)\n",
    "        file_name = out_path + str(uuid.uuid4()) +'-det.jpg'\n",
    "        cv2.imwrite(os.path.join(output, file_name), im)\n",
    "        \n",
    "    # calculating the time taken and FPS for detection\n",
    "    det_time = time.time() - prev_time\n",
    "    fps = int(1/(time.time() - prev_time))\n",
    "    print(\"Detection time: {}\".format(det_time))\n",
    "    \n",
    "    # resizing predicted bounding box from 416*416 to input image resolution\n",
    "    out_size = frame.shape[:2]\n",
    "    in_size = image_resized.shape[:2]\n",
    "    if detections:\n",
    "        coord, scores = resize_bbox(detections, out_size, in_size)\n",
    "        return coord, scores, det_time\n",
    "    else:\n",
    "        scores = 0\n",
    "        return detections, scores, det_time"
   ]
  },
  {
   "cell_type": "code",
   "execution_count": 2,
   "metadata": {},
   "outputs": [],
   "source": [
    "def get_best_ocr(preds, rec_conf, ocr_res, track_id):\n",
    "    for info in preds:\n",
    "        # check if it is current track id\n",
    "        if info['track_id'] == track_id:\n",
    "            # check if the ocr confidence is max\n",
    "            if info['ocr_conf'] < rec_conf:\n",
    "                info['ocr_conf'] = rec_conf\n",
    "                info['ocr_txt'] = ocr_res\n",
    "            else:\n",
    "                rec_conf = info['ocr_conf']\n",
    "                ocr_res = info['ocr_txt']\n",
    "            break\n",
    "        return preds, rec_conf, ocr_res"
   ]
  },
  {
   "cell_type": "code",
   "execution_count": 3,
   "metadata": {},
   "outputs": [],
   "source": [
    "# function for interpreting images"
   ]
  },
  {
   "cell_type": "code",
   "execution_count": 4,
   "metadata": {},
   "outputs": [],
   "source": [
    "def test_img(input, config_file, weights, out_path):\n",
    "    # load darknet network and classes along with the bounding box colors\n",
    "    network, class_names, class_colors = darknet.load_network(\n",
    "            config_file, \n",
    "            data_file, \n",
    "            weights, \n",
    "            batch_size = batch_size\n",
    "        )\n",
    "    \n",
    "    # reading the image and performing YOLOv4 detection\n",
    "    img = cv2.imread(input)\n",
    "    bboxes, scores, det_time = yolo_det(img, config_file, data_file, batch_size, weights, thresh, out_path, network, class_names, class_colors)\n",
    "    \n",
    "    # extracting the number plate and applying optical character recognition (OCR)\n",
    "    for bbox in bboxes:\n",
    "        bbox = [bbox[0], bbox[1], bbox[2]- bbox[0], bbox[3] - bbox[1]]\n",
    "        cr_img = crop(img, bbox)\n",
    "        result = ocr.ocr(cr_img, cls=False, det=False)\n",
    "        ocr_res = result[0][0]\n",
    "        rec_conf = result[0][1]\n",
    "        print(result)\n",
    "        \n",
    "    # plotting the results/predictions using opencv\n",
    "    (label_width,label_height), baseline = cv2.getTextSize(ocr_res, font, 2, 3)\n",
    "    top_left = tuple(map(int,[int(bbox[0]), int(bbox[1])-(label_height+baseline)]))\n",
    "    top_right = tuple(map(int,[int(bbox[0])+label_width, int(bbox[1])]))\n",
    "    org = tuple(map(int,[int(bbox[0]),int(bbox[1])-baseline]))\n",
    "    \n",
    "    cv2.rectangle(img, (int(bbox[0]), int(bbox[1])), (int(bbox[2]), int(bbox[3])), blue_color, 2)\n",
    "    cv2.rectangle(img, top_left, top_right, blue_color,-1)\n",
    "    cv2.putText(img, ocr_res, org, font, 2, white_color,3)\n",
    "    \n",
    "    # writing output img\n",
    "    file_name = os.path.join(out_path, 'out_' + input.split('/')[-1])\n",
    "    cv2.imwrite(file_name, img)\n",
    "    "
   ]
  },
  {
   "cell_type": "code",
   "execution_count": 5,
   "metadata": {},
   "outputs": [
    {
     "ename": "NameError",
     "evalue": "name 'config_file' is not defined",
     "output_type": "error",
     "traceback": [
      "\u001b[0;31m---------------------------------------------------------------------------\u001b[0m",
      "\u001b[0;31mNameError\u001b[0m                                 Traceback (most recent call last)",
      "Input \u001b[0;32mIn [5]\u001b[0m, in \u001b[0;36m<cell line: 1>\u001b[0;34m()\u001b[0m\n\u001b[0;32m----> 1\u001b[0m test_img(\u001b[38;5;124m'\u001b[39m\u001b[38;5;124m/content/72b88b2f-33b4-49e6-84ba-32b7df5a181c.jpg\u001b[39m\u001b[38;5;124m'\u001b[39m, \u001b[43mconfig_file\u001b[49m, weights, \u001b[38;5;124m'\u001b[39m\u001b[38;5;124m/content/\u001b[39m\u001b[38;5;124m'\u001b[39m)\n",
      "\u001b[0;31mNameError\u001b[0m: name 'config_file' is not defined"
     ]
    }
   ],
   "source": [
    "test_img('/content/72b88b2f-33b4-49e6-84ba-32b7df5a181c.jpg', config_file, weights, '/content/')"
   ]
  },
  {
   "cell_type": "code",
   "execution_count": 6,
   "metadata": {},
   "outputs": [],
   "source": [
    "# function for interpreting videos"
   ]
  },
  {
   "cell_type": "code",
   "execution_count": 2,
   "metadata": {},
   "outputs": [],
   "source": [
    "def test_vid(vid_dir, config_file, weights, out_path):\n",
    "    # declare variables for video processing\n",
    "    cap = cv2.VideoCapture(vid_dir)\n",
    "    codec = cv2.VideoWriter_fourcc(*'VID')\n",
    "    width = int(cap.get(cv2.CAP_PROP_FRAME_WIDTH))\n",
    "    height = int(cap.get(cv2.CAP_PROP_FRAME_HEIGHT))\n",
    "    fps = int(cap.get(cv2.CAP_PROP_FPS))\n",
    "    file_name = os.path.join(out_path, 'out_' + vid_dir.split('/')[-1])\n",
    "    out = cv2.VideoWriter(file_name, codec, fps, (width, height))\n",
    "    \n",
    "    # frame count variable\n",
    "    ct = 0\n",
    "    \n",
    "    # load darknet network and classes and bounding box colors\n",
    "    network, class_names, class_colors = darknet.load_network(\n",
    "            config_file,\n",
    "            data_file,\n",
    "            weights,\n",
    "            batch_size= batch_size\n",
    "        )\n",
    "    \n",
    "    # reading videos frame by frame\n",
    "    while(cap.isOpened()):\n",
    "        ret, img = cap.read()\n",
    "        if ret == True:\n",
    "            print(ct)\n",
    "            \n",
    "            # recording time for calculating frame per second\n",
    "            prev_time = time.time()\n",
    "            \n",
    "            # performing the YOLOv4 detection\n",
    "            bboxes, scores, det_time = yolo_det(img, config_file, data_file, batch_size, weights, thresh, out_path, network, class_names, class_colors)\n",
    "            \n",
    "            # extracting the number plate and applying optical character recogntion\n",
    "            if list(bboxes):\n",
    "                for bbox in bboxes:\n",
    "                    bbox = [bbox[0], bbox[1], bbox[2]-bbox[0], bbox[3], - bbox[1]]\n",
    "                    cr_img = crop(img, bbox)\n",
    "                    \n",
    "                    result = ocr.ocr(cr_img, cls=False, det=False)\n",
    "                    \n",
    "                    print(result)\n",
    "                    ocr_res = result[0][0]\n",
    "                    rec_conf = result[0][1]\n",
    "                    \n",
    "                    # plotting the predictions using Opencv\n",
    "                    txt = ocr_res\n",
    "                    (label_width, label_height), baseline = cv2.getTextSize(ocr_res, font,2,3)\n",
    "                    top_left = tuple(map(int,[int(bbox[0]),int(bbox[1])-(label_height+baseline)]))\n",
    "                    top_right = tuple(map(int,[int(bbox[0])+label_width,int(bbox[1])]))\n",
    "                    org = tuple(map(int,[int(bbox[0]),int(bbox[1])-baseline]))\n",
    "                    \n",
    "                    cv2.rectangle(img, (int(bbox[0]), int(bbox[1])), (int(bbox[2]), int(bbox[3])), blue_color, 2)\n",
    "                    cv2.rectangle(img, top_left, top_right, blue_color, -1)\n",
    "                    cv2.putText(img,text,org,font,2,white_color,3)\n",
    "                    \n",
    "                # calculating time taken and fps for the overall process\n",
    "                tot_time = time.time() - prev_time\n",
    "                fps = 1/tot_time\n",
    "                \n",
    "                # writing information onto the frame and saving it to be processed in a video\n",
    "                cv2.putText(img, 'frame: %d fps: %s' % (ct, fps),\n",
    "                           (0, int(100 * 1)), cv2.FONT_HERSHEY_PLAIN, 5, (0, 0, 255), thickness=2)\n",
    "                out.write(img)\n",
    "                \n",
    "            ct = ct + 1\n",
    "        else:\n",
    "            break       "
   ]
  },
  {
   "cell_type": "code",
   "execution_count": 3,
   "metadata": {},
   "outputs": [
    {
     "ename": "NameError",
     "evalue": "name 'config_file' is not defined",
     "output_type": "error",
     "traceback": [
      "\u001b[0;31m---------------------------------------------------------------------------\u001b[0m",
      "\u001b[0;31mNameError\u001b[0m                                 Traceback (most recent call last)",
      "Input \u001b[0;32mIn [3]\u001b[0m, in \u001b[0;36m<cell line: 3>\u001b[0;34m()\u001b[0m\n\u001b[1;32m      1\u001b[0m input_dir \u001b[38;5;241m=\u001b[39m \u001b[38;5;124m'\u001b[39m\u001b[38;5;124mPexels Videos 2103099.mp4\u001b[39m\u001b[38;5;124m'\u001b[39m\n\u001b[1;32m      2\u001b[0m out_path \u001b[38;5;241m=\u001b[39m \u001b[38;5;124m'\u001b[39m\u001b[38;5;124m/content/\u001b[39m\u001b[38;5;124m'\u001b[39m\n\u001b[0;32m----> 3\u001b[0m test_vid(input_dir, \u001b[43mconfig_file\u001b[49m, weights, out_path)\n",
      "\u001b[0;31mNameError\u001b[0m: name 'config_file' is not defined"
     ]
    }
   ],
   "source": [
    "input_dir = 'Pexels Videos 2103099.mp4'\n",
    "out_path = '/content/'\n",
    "test_vid(input_dir, config_file, weights, out_path)"
   ]
  },
  {
   "cell_type": "code",
   "execution_count": 4,
   "metadata": {},
   "outputs": [],
   "source": [
    "# integrating tracker"
   ]
  },
  {
   "cell_type": "code",
   "execution_count": 5,
   "metadata": {},
   "outputs": [],
   "source": [
    "# using pretrained model"
   ]
  },
  {
   "cell_type": "code",
   "execution_count": 1,
   "metadata": {},
   "outputs": [],
   "source": [
    "def tracker_test_vid(vid_dir, config_file, weights, out_path):\n",
    "    # declare variables \n",
    "    cap = cv2.VideoCapture(vid_dir)\n",
    "    codec = cv2.VideoWriter_forucc(*'VID')\n",
    "    width = int(cap.get(cv2.CAP_PROP_FRAME_WIDTH))\n",
    "    height = int(cap.get(cv2.CAP_PROP_FRAME_HEIGHT))\n",
    "    fps = int(cap.get(cv2.CAP_PROP_FPS))\n",
    "    file_name = os.path.join(out_path, 'out_' + vid_dir.split('/')[-1])\n",
    "    \n",
    "    out = cv2.VideoWriter(file_name, codec, fps, (width, height))\n",
    "    \n",
    "    # declaring variables for tracker\n",
    "    max_cosine_distance = 0.4\n",
    "    nn_budget = None\n",
    "    \n",
    "    # initialising tracker\n",
    "    model_filename = './model_data/mars-smalll28.pb'\n",
    "    encoder = gdet.create_box_encoder(model_filename, batch_size=1)\n",
    "    metric = nn_matching.NearestNeighborDistanceMetric(\"cosine\", max_cosine_distance, nn_budget)\n",
    "    tracker = Tracker(metric)\n",
    "    \n",
    "    # adding helper variables\n",
    "    ct = 0\n",
    "    preds = []\n",
    "    total_obj = 0\n",
    "    rec_tot_time = 1\n",
    "    alpha = 0.5\n",
    "    \n",
    "    # loading darknet network and classes along with bbox colors\n",
    "    network, class_names, class_colors = darknet.load_network(\n",
    "            config_file,\n",
    "            data_file,\n",
    "            weights,\n",
    "            batch_size = batch_size\n",
    "    )\n",
    "    \n",
    "    # reading video frame by frame\n",
    "    while(cap.isOpened()):\n",
    "        ret, img = cap.read()\n",
    "        if ret == True:\n",
    "            \n",
    "            h, w = img.shape[:2]\n",
    "            print(ct)\n",
    "            \n",
    "            w_scale = w/1.55\n",
    "            h_scale = h/17\n",
    "            \n",
    "            overlay_img = img.copy()\n",
    "            cv2.rectangle(img, (int(w_scale), 0), (w, int(h_scale*3.4)), (0,0,0), -1)\n",
    "            cv2.addWeighted(img, alpha, overlay_img, 1 - alpha, 0, overlay_img)\n",
    "            \n",
    "            # record time for calculating fps\n",
    "            prev_time = time.time()\n",
    "            \n",
    "            #yolov4 detection\n",
    "            bboxes, scores, det_time = yolo_det(img, config_file, data_file, batch_size, weights, thresh, out_path, network, class_names, class_colors)\n",
    "            \n",
    "            if list(bboxes):\n",
    "                features = encoder(img, bboxes)\n",
    "                detections = [Detection(bbox, score, feature) for bbox, score, feature in zip(bboxes, scores, features)]\n",
    "                tracker.predict()\n",
    "                tracker.update(detections)\n",
    "                track_time = time.time() - prev_time\n",
    "                for track in tracker.tracks:\n",
    "                    if not track.is_confirmed() or track.time_since_update > 1:\n",
    "                        continue\n",
    "                        \n",
    "                    bbox = list(track.to_tlbr())\n",
    "                    \n",
    "                    for i in range(len(bbox)):\n",
    "                        if bbox[i] < 0:\n",
    "                            bbox[i] = 0\n",
    "                            \n",
    "                    cr_img = crop(img, bbox)\n",
    "                    \n",
    "                    rec_pre_time = time.time()\n",
    "                    result = ocr.ocr(cr_img, cls=False, det=False)\n",
    "                    rec_tot_time = time.time() - rec_pre_time\n",
    "                    \n",
    "                    ocr_res = result[0][0]\n",
    "                    print(result)\n",
    "                    rec_conf = result[0][1]\n",
    "                    \n",
    "                    if rec_conf == 'nan':\n",
    "                        rec_conf = 0\n",
    "                        \n",
    "                    output_frame = {\"track_id\":track.track_id, \"ocr_txt\":ocr_res, \"ocr_conf\":rec_conf}\n",
    "                    \n",
    "                    if track.track_id not in list(set(ele['track_id'] for ele in preds)):\n",
    "                        total_obj = total_obj + 1\n",
    "                        preds.append(output_frame)\n",
    "                    else:\n",
    "                        preds, rec_conf, ocr_res = get_best_ocr(preds, rec_conf, ocr_res, track.track_id)\n",
    "                        \n",
    "                    txt = str(track.track_id) + '. ' + ocr_res\n",
    "                    (label_width,label_height), baseline = cv2.getTextSize(txt, font,2,3)\n",
    "                    top_left = tuple(map(int,[int(bbox[0]),int(bbox[1])-(label_height+baseline)]))\n",
    "                    top_right = tuple(map(int,[int(bbox[0])+label_width,int(bbox[1])]))\n",
    "                    org = tuple(map(int,[int(bbox[0]),int(bbox[1])-baseline]))\n",
    "                    \n",
    "                    cv2.rectangle(overlay_img, (int(bbox[0]), int(bbox[1])), (int(bbox[2]), int(bbox[3])), blue_color, 2)\n",
    "                    cv2.rectangle(overlay_img, top_left, top_right, blue_color, -1)\n",
    "                    cv2.putText(overlay_img, txt, org, font, 2, white_color, 3)\n",
    "                    \n",
    "                tot_time = time.time() - prev_time\n",
    "                fps = 1/tot_time\n",
    "                \n",
    "                if w < 2000:\n",
    "                    size = 1\n",
    "                else:\n",
    "                    size = 2\n",
    "                    \n",
    "                (label_width,label_height), baseline = cv2.getTextSize('Frame count:', font, size, 2)\n",
    "                top_left = (int(w_scale) + 10, int(h_scale))\n",
    "                cv2.putText(overlay_img, 'Frame count:', top_left, font, size, green_color, thickness=2)\n",
    "                \n",
    "                \n",
    "                top_left_r1 = (int(w_scale) + 10 + label_width, int(h_scale))\n",
    "                cv2.putText(overlay_img,'%d ' % (ct), top_left_r1, font, size, yellow_color, thickness=2)\n",
    "                \n",
    "                (label_width, label_height), baseline = cv2.getTextSize('Frame count:' + ' ' + str(ct) , font, size, size,2)\n",
    "                top_left_rl = (int(w_scale) + 10 + label_width, int(h_scale))\n",
    "                cv2.putText(overlay_img, 'Total FPS:' , top_left_r1, font, size, green_color, thickness=2)\n",
    "                \n",
    "                (label_width,label_height), baseline = cv2.getTextSize('Frame count:' + ' ' + str(ct) + 'Total FPS:' , font, size,2)\n",
    "                top_left_r1 = (int(w_scale) + 10 + label_widht, int(h_scale))\n",
    "                cv2.putText(overlay_img, '%s' % (int(fps)), top_left_r1, font, size, yellow_color, thickness=2)\n",
    "                \n",
    "                cv2.putText(overlay_img, 'Detection FPS:' ,(top_left[0], int(h_scale*1.7)), font, size, green_color, thickness=2)\n",
    "                (label_width,label_height), baseline = cv2.getTextSize('Detection FPS:', font,size,2)\n",
    "                cv2.putText(overlay_img, '%d' % ((int(1/det_time))),(top_left[0] + label_width, int(h_scale*1.7)), font, size, yellow_color, thickness=2)\n",
    "                \n",
    "                cv2.putText(overlay_img, 'Recognition FPS:',(top_left[0], int(h_scale*2.42)), font, size, green_color, thickness=2)\n",
    "                (label_width,label_height), baseline = cv2.getTextSize('Recognition FPS:', font, size,2)\n",
    "                cv2.putText(overlay_img, '%s' % ((int(1/rec_tot_time))),(top_left[0] + label_width, int(h_scale*2.42)), font, size, yellow_color, thickness=2)\n",
    "                cv2.imwrite('/content/{}.jpg'.format(ct), overlay_img)\n",
    "                out.write(overlay_img)\n",
    "                \n",
    "                #increasing frame count\n",
    "                ct = ct + 1\n",
    "            else:\n",
    "                break"
   ]
  },
  {
   "cell_type": "code",
   "execution_count": 4,
   "metadata": {},
   "outputs": [],
   "source": [
    "input_dir = 'Pexels videos 2103099.mp4'\n",
    "out_path = '/content/'"
   ]
  },
  {
   "cell_type": "code",
   "execution_count": 3,
   "metadata": {},
   "outputs": [
    {
     "ename": "NameError",
     "evalue": "name 'config_file' is not defined",
     "output_type": "error",
     "traceback": [
      "\u001b[0;31m---------------------------------------------------------------------------\u001b[0m",
      "\u001b[0;31mNameError\u001b[0m                                 Traceback (most recent call last)",
      "Input \u001b[0;32mIn [3]\u001b[0m, in \u001b[0;36m<cell line: 1>\u001b[0;34m()\u001b[0m\n\u001b[0;32m----> 1\u001b[0m tracker_test_vid(input_dir, \u001b[43mconfig_file\u001b[49m, weights, out_path)\n",
      "\u001b[0;31mNameError\u001b[0m: name 'config_file' is not defined"
     ]
    }
   ],
   "source": [
    "tracker_test_vid(input_dir, config_file, weights, out_path)"
   ]
  },
  {
   "cell_type": "code",
   "execution_count": null,
   "metadata": {},
   "outputs": [],
   "source": []
  }
 ],
 "metadata": {
  "interpreter": {
   "hash": "aee8b7b246df8f9039afb4144a1f6fd8d2ca17a180786b69acc140d282b71a49"
  },
  "kernelspec": {
   "display_name": "Python 3 (ipykernel)",
   "language": "python",
   "name": "python3"
  },
  "language_info": {
   "codemirror_mode": {
    "name": "ipython",
    "version": 3
   },
   "file_extension": ".py",
   "mimetype": "text/x-python",
   "name": "python",
   "nbconvert_exporter": "python",
   "pygments_lexer": "ipython3",
   "version": "3.10.4"
  }
 },
 "nbformat": 4,
 "nbformat_minor": 2
}
