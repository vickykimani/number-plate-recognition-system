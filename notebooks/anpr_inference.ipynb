{
 "cells": [
  {
   "cell_type": "code",
   "execution_count": null,
   "metadata": {},
   "outputs": [],
   "source": [
    "conda activate tf"
   ]
  },
  {
   "cell_type": "code",
   "execution_count": 11,
   "metadata": {},
   "outputs": [
    {
     "name": "stdout",
     "output_type": "stream",
     "text": [
      "Collecting package metadata (current_repodata.json): done\n",
      "Solving environment: failed with initial frozen solve. Retrying with flexible solve.\n",
      "Solving environment: failed with repodata from current_repodata.json, will retry with next repodata source.\n",
      "Collecting package metadata (repodata.json): done\n",
      "Solving environment: done\n",
      "\n",
      "## Package Plan ##\n",
      "\n",
      "  environment location: /opt/anaconda3\n",
      "\n",
      "  added / updated specs:\n",
      "    - opencv\n",
      "\n",
      "\n",
      "The following packages will be downloaded:\n",
      "\n",
      "    package                    |            build\n",
      "    ---------------------------|-----------------\n",
      "    cairo-1.16.0               |    h0ab9d94_1001         1.3 MB  conda-forge\n",
      "    conda-22.9.0               |   py39h6e9494a_1         969 KB  conda-forge\n",
      "    ffmpeg-4.3.2               |       h4dad6da_0        49.3 MB  conda-forge\n",
      "    fontconfig-2.13.94         |       h10f422b_0         285 KB  conda-forge\n",
      "    gnutls-3.6.13              |       h756fd2b_1         2.0 MB  conda-forge\n",
      "    graphite2-1.3.14           |       he9d5cce_1          82 KB\n",
      "    harfbuzz-2.8.1             |       ha8c618c_0         932 KB\n",
      "    jasper-1.900.1             |    h636a363_1006         283 KB  conda-forge\n",
      "    lame-3.100                 |    hb7f2c08_1003         530 KB  conda-forge\n",
      "    libblas-3.9.0              |     12_osx64_mkl          12 KB  conda-forge\n",
      "    libcblas-3.9.0             |     12_osx64_mkl          12 KB  conda-forge\n",
      "    liblapack-3.9.0            |     12_osx64_mkl          12 KB  conda-forge\n",
      "    liblapacke-3.9.0           |     12_osx64_mkl          12 KB  conda-forge\n",
      "    libopencv-4.5.0            |           py39_3        29.6 MB  conda-forge\n",
      "    nettle-3.6                 |       hedd7734_0         1.2 MB  conda-forge\n",
      "    opencv-4.5.0               |           py39_3          22 KB  conda-forge\n",
      "    openh264-2.1.1             |       hfd3ada9_0         1.5 MB  conda-forge\n",
      "    pixman-0.38.0              |    h01d97ff_1003         611 KB  conda-forge\n",
      "    py-opencv-4.5.0            |   py39h71a6800_3         1.1 MB  conda-forge\n",
      "    python_abi-3.9             |           2_cp39           4 KB  conda-forge\n",
      "    x264-1!161.3030            |       h0d85af4_1         2.5 MB  conda-forge\n",
      "    ------------------------------------------------------------\n",
      "                                           Total:        92.2 MB\n",
      "\n",
      "The following NEW packages will be INSTALLED:\n",
      "\n",
      "  cairo              conda-forge/osx-64::cairo-1.16.0-h0ab9d94_1001 None\n",
      "  ffmpeg             conda-forge/osx-64::ffmpeg-4.3.2-h4dad6da_0 None\n",
      "  fontconfig         conda-forge/osx-64::fontconfig-2.13.94-h10f422b_0 None\n",
      "  gnutls             conda-forge/osx-64::gnutls-3.6.13-h756fd2b_1 None\n",
      "  graphite2          pkgs/main/osx-64::graphite2-1.3.14-he9d5cce_1 None\n",
      "  harfbuzz           pkgs/main/osx-64::harfbuzz-2.8.1-ha8c618c_0 None\n",
      "  jasper             conda-forge/osx-64::jasper-1.900.1-h636a363_1006 None\n",
      "  lame               conda-forge/osx-64::lame-3.100-hb7f2c08_1003 None\n",
      "  libblas            conda-forge/osx-64::libblas-3.9.0-12_osx64_mkl None\n",
      "  libcblas           conda-forge/osx-64::libcblas-3.9.0-12_osx64_mkl None\n",
      "  liblapack          conda-forge/osx-64::liblapack-3.9.0-12_osx64_mkl None\n",
      "  liblapacke         conda-forge/osx-64::liblapacke-3.9.0-12_osx64_mkl None\n",
      "  libopencv          conda-forge/osx-64::libopencv-4.5.0-py39_3 None\n",
      "  nettle             conda-forge/osx-64::nettle-3.6-hedd7734_0 None\n",
      "  opencv             conda-forge/osx-64::opencv-4.5.0-py39_3 None\n",
      "  openh264           conda-forge/osx-64::openh264-2.1.1-hfd3ada9_0 None\n",
      "  pixman             conda-forge/osx-64::pixman-0.38.0-h01d97ff_1003 None\n",
      "  py-opencv          conda-forge/osx-64::py-opencv-4.5.0-py39h71a6800_3 None\n",
      "  python_abi         conda-forge/osx-64::python_abi-3.9-2_cp39 None\n",
      "  x264               conda-forge/osx-64::x264-1!161.3030-h0d85af4_1 None\n",
      "\n",
      "The following packages will be UPDATED:\n",
      "\n",
      "  conda              pkgs/main::conda-22.9.0-py39hecd8cb5_0 --> conda-forge::conda-22.9.0-py39h6e9494a_1 None\n",
      "\n",
      "\n",
      "\n",
      "Downloading and Extracting Packages\n",
      "libopencv-4.5.0      | 29.6 MB   | ##################################### | 100% \n",
      "harfbuzz-2.8.1       | 932 KB    | ##################################### | 100% \n",
      "liblapacke-3.9.0     | 12 KB     | ##################################### | 100% \n",
      "ffmpeg-4.3.2         | 49.3 MB   | ##################################### | 100% \n",
      "pixman-0.38.0        | 611 KB    | ##################################### | 100% \n",
      "py-opencv-4.5.0      | 1.1 MB    | ##################################### | 100% \n",
      "opencv-4.5.0         | 22 KB     | ##################################### | 100% \n",
      "fontconfig-2.13.94   | 285 KB    | ##################################### | 100% \n",
      "conda-22.9.0         | 969 KB    | ##################################### | 100% \n",
      "libcblas-3.9.0       | 12 KB     | ##################################### | 100% \n",
      "cairo-1.16.0         | 1.3 MB    | ##################################### | 100% \n",
      "openh264-2.1.1       | 1.5 MB    | ##################################### | 100% \n",
      "nettle-3.6           | 1.2 MB    | ##################################### | 100% \n",
      "jasper-1.900.1       | 283 KB    | ##################################### | 100% \n",
      "graphite2-1.3.14     | 82 KB     | ##################################### | 100% \n",
      "liblapack-3.9.0      | 12 KB     | ##################################### | 100% \n",
      "libblas-3.9.0        | 12 KB     | ##################################### | 100% \n",
      "lame-3.100           | 530 KB    | ##################################### | 100% \n",
      "python_abi-3.9       | 4 KB      | ##################################### | 100% \n",
      "gnutls-3.6.13        | 2.0 MB    | ##################################### | 100% \n",
      "x264-1!161.3030      | 2.5 MB    | ##################################### | 100% \n",
      "Preparing transaction: done\n",
      "Verifying transaction: done\n",
      "Executing transaction: done\n",
      "Retrieving notices: ...working... done\n",
      "\n",
      "Note: you may need to restart the kernel to use updated packages.\n"
     ]
    }
   ],
   "source": [
    "conda install -c conda-forge opencv"
   ]
  },
  {
   "cell_type": "code",
   "execution_count": null,
   "metadata": {},
   "outputs": [],
   "source": [
    "%cd '/Users/vickykimani/Desktop/school work/1st semester/informatics 2/anpr_system/deep_sortt'"
   ]
  },
  {
   "cell_type": "code",
   "execution_count": null,
   "metadata": {},
   "outputs": [],
   "source": [
    "from application_util import preprocessing"
   ]
  },
  {
   "cell_type": "code",
   "execution_count": null,
   "metadata": {},
   "outputs": [],
   "source": [
    "from deep_sort import nn_matching"
   ]
  },
  {
   "cell_type": "code",
   "execution_count": null,
   "metadata": {},
   "outputs": [],
   "source": [
    "from deep_sort.detection import Detection"
   ]
  },
  {
   "cell_type": "code",
   "execution_count": null,
   "metadata": {},
   "outputs": [],
   "source": [
    "from deep_sort.tracker import Tracker"
   ]
  },
  {
   "cell_type": "code",
   "execution_count": null,
   "metadata": {},
   "outputs": [],
   "source": [
    "from tools_deepsort import generate_detections as gdet"
   ]
  },
  {
   "cell_type": "code",
   "execution_count": null,
   "metadata": {},
   "outputs": [],
   "source": []
  }
 ],
 "metadata": {
  "interpreter": {
   "hash": "aee8b7b246df8f9039afb4144a1f6fd8d2ca17a180786b69acc140d282b71a49"
  },
  "kernelspec": {
   "display_name": "Python 3 (ipykernel)",
   "language": "python",
   "name": "python3"
  },
  "language_info": {
   "codemirror_mode": {
    "name": "ipython",
    "version": 3
   },
   "file_extension": ".py",
   "mimetype": "text/x-python",
   "name": "python",
   "nbconvert_exporter": "python",
   "pygments_lexer": "ipython3",
   "version": "3.10.4"
  }
 },
 "nbformat": 4,
 "nbformat_minor": 2
}
