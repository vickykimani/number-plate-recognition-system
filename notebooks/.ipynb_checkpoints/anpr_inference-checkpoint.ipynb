{
 "cells": [
  {
   "cell_type": "code",
   "execution_count": null,
   "metadata": {},
   "outputs": [],
   "source": [
    "conda activate tf"
   ]
  },
  {
   "cell_type": "code",
   "execution_count": 11,
   "metadata": {},
   "outputs": [
    {
     "name": "stdout",
     "output_type": "stream",
     "text": [
      "Collecting package metadata (current_repodata.json): done\n",
      "Solving environment: failed with initial frozen solve. Retrying with flexible solve.\n",
      "Solving environment: failed with repodata from current_repodata.json, will retry with next repodata source.\n",
      "Collecting package metadata (repodata.json): done\n",
      "Solving environment: done\n",
      "\n",
      "## Package Plan ##\n",
      "\n",
      "  environment location: /opt/anaconda3\n",
      "\n",
      "  added / updated specs:\n",
      "    - opencv\n",
      "\n",
      "\n",
      "The following packages will be downloaded:\n",
      "\n",
      "    package                    |            build\n",
      "    ---------------------------|-----------------\n",
      "    cairo-1.16.0               |    h0ab9d94_1001         1.3 MB  conda-forge\n",
      "    conda-22.9.0               |   py39h6e9494a_1         969 KB  conda-forge\n",
      "    ffmpeg-4.3.2               |       h4dad6da_0        49.3 MB  conda-forge\n",
      "    fontconfig-2.13.94         |       h10f422b_0         285 KB  conda-forge\n",
      "    gnutls-3.6.13              |       h756fd2b_1         2.0 MB  conda-forge\n",
      "    graphite2-1.3.14           |       he9d5cce_1          82 KB\n",
      "    harfbuzz-2.8.1             |       ha8c618c_0         932 KB\n",
      "    jasper-1.900.1             |    h636a363_1006         283 KB  conda-forge\n",
      "    lame-3.100                 |    hb7f2c08_1003         530 KB  conda-forge\n",
      "    libblas-3.9.0              |     12_osx64_mkl          12 KB  conda-forge\n",
      "    libcblas-3.9.0             |     12_osx64_mkl          12 KB  conda-forge\n",
      "    liblapack-3.9.0            |     12_osx64_mkl          12 KB  conda-forge\n",
      "    liblapacke-3.9.0           |     12_osx64_mkl          12 KB  conda-forge\n",
      "    libopencv-4.5.0            |           py39_3        29.6 MB  conda-forge\n",
      "    nettle-3.6                 |       hedd7734_0         1.2 MB  conda-forge\n",
      "    opencv-4.5.0               |           py39_3          22 KB  conda-forge\n",
      "    openh264-2.1.1             |       hfd3ada9_0         1.5 MB  conda-forge\n",
      "    pixman-0.38.0              |    h01d97ff_1003         611 KB  conda-forge\n",
      "    py-opencv-4.5.0            |   py39h71a6800_3         1.1 MB  conda-forge\n",
      "    python_abi-3.9             |           2_cp39           4 KB  conda-forge\n",
      "    x264-1!161.3030            |       h0d85af4_1         2.5 MB  conda-forge\n",
      "    ------------------------------------------------------------\n",
      "                                           Total:        92.2 MB\n",
      "\n",
      "The following NEW packages will be INSTALLED:\n",
      "\n",
      "  cairo              conda-forge/osx-64::cairo-1.16.0-h0ab9d94_1001 None\n",
      "  ffmpeg             conda-forge/osx-64::ffmpeg-4.3.2-h4dad6da_0 None\n",
      "  fontconfig         conda-forge/osx-64::fontconfig-2.13.94-h10f422b_0 None\n",
      "  gnutls             conda-forge/osx-64::gnutls-3.6.13-h756fd2b_1 None\n",
      "  graphite2          pkgs/main/osx-64::graphite2-1.3.14-he9d5cce_1 None\n",
      "  harfbuzz           pkgs/main/osx-64::harfbuzz-2.8.1-ha8c618c_0 None\n",
      "  jasper             conda-forge/osx-64::jasper-1.900.1-h636a363_1006 None\n",
      "  lame               conda-forge/osx-64::lame-3.100-hb7f2c08_1003 None\n",
      "  libblas            conda-forge/osx-64::libblas-3.9.0-12_osx64_mkl None\n",
      "  libcblas           conda-forge/osx-64::libcblas-3.9.0-12_osx64_mkl None\n",
      "  liblapack          conda-forge/osx-64::liblapack-3.9.0-12_osx64_mkl None\n",
      "  liblapacke         conda-forge/osx-64::liblapacke-3.9.0-12_osx64_mkl None\n",
      "  libopencv          conda-forge/osx-64::libopencv-4.5.0-py39_3 None\n",
      "  nettle             conda-forge/osx-64::nettle-3.6-hedd7734_0 None\n",
      "  opencv             conda-forge/osx-64::opencv-4.5.0-py39_3 None\n",
      "  openh264           conda-forge/osx-64::openh264-2.1.1-hfd3ada9_0 None\n",
      "  pixman             conda-forge/osx-64::pixman-0.38.0-h01d97ff_1003 None\n",
      "  py-opencv          conda-forge/osx-64::py-opencv-4.5.0-py39h71a6800_3 None\n",
      "  python_abi         conda-forge/osx-64::python_abi-3.9-2_cp39 None\n",
      "  x264               conda-forge/osx-64::x264-1!161.3030-h0d85af4_1 None\n",
      "\n",
      "The following packages will be UPDATED:\n",
      "\n",
      "  conda              pkgs/main::conda-22.9.0-py39hecd8cb5_0 --> conda-forge::conda-22.9.0-py39h6e9494a_1 None\n",
      "\n",
      "\n",
      "\n",
      "Downloading and Extracting Packages\n",
      "libopencv-4.5.0      | 29.6 MB   | ##################################### | 100% \n",
      "harfbuzz-2.8.1       | 932 KB    | ##################################### | 100% \n",
      "liblapacke-3.9.0     | 12 KB     | ##################################### | 100% \n",
      "ffmpeg-4.3.2         | 49.3 MB   | ##################################### | 100% \n",
      "pixman-0.38.0        | 611 KB    | ##################################### | 100% \n",
      "py-opencv-4.5.0      | 1.1 MB    | ##################################### | 100% \n",
      "opencv-4.5.0         | 22 KB     | ##################################### | 100% \n",
      "fontconfig-2.13.94   | 285 KB    | ##################################### | 100% \n",
      "conda-22.9.0         | 969 KB    | ##################################### | 100% \n",
      "libcblas-3.9.0       | 12 KB     | ##################################### | 100% \n",
      "cairo-1.16.0         | 1.3 MB    | ##################################### | 100% \n",
      "openh264-2.1.1       | 1.5 MB    | ##################################### | 100% \n",
      "nettle-3.6           | 1.2 MB    | ##################################### | 100% \n",
      "jasper-1.900.1       | 283 KB    | ##################################### | 100% \n",
      "graphite2-1.3.14     | 82 KB     | ##################################### | 100% \n",
      "liblapack-3.9.0      | 12 KB     | ##################################### | 100% \n",
      "libblas-3.9.0        | 12 KB     | ##################################### | 100% \n",
      "lame-3.100           | 530 KB    | ##################################### | 100% \n",
      "python_abi-3.9       | 4 KB      | ##################################### | 100% \n",
      "gnutls-3.6.13        | 2.0 MB    | ##################################### | 100% \n",
      "x264-1!161.3030      | 2.5 MB    | ##################################### | 100% \n",
      "Preparing transaction: done\n",
      "Verifying transaction: done\n",
      "Executing transaction: done\n",
      "Retrieving notices: ...working... done\n",
      "\n",
      "Note: you may need to restart the kernel to use updated packages.\n"
     ]
    }
   ],
   "source": [
    "conda install -c conda-forge opencv"
   ]
  },
  {
   "cell_type": "code",
   "execution_count": null,
   "metadata": {},
   "outputs": [],
   "source": [
    "%cd '/Users/vickykimani/Desktop/school work/1st semester/informatics 2/anpr_system/deep_sortt'"
   ]
  },
  {
   "cell_type": "code",
   "execution_count": null,
   "metadata": {},
   "outputs": [],
   "source": [
    "from application_util import preprocessing"
   ]
  },
  {
   "cell_type": "code",
   "execution_count": null,
   "metadata": {},
   "outputs": [],
   "source": [
    "from deep_sort import nn_matching"
   ]
  },
  {
   "cell_type": "code",
   "execution_count": null,
   "metadata": {},
   "outputs": [],
   "source": [
    "from deep_sort.detection import Detection"
   ]
  },
  {
   "cell_type": "code",
   "execution_count": null,
   "metadata": {},
   "outputs": [],
   "source": [
    "from deep_sort.tracker import Tracker"
   ]
  },
  {
   "cell_type": "code",
   "execution_count": null,
   "metadata": {},
   "outputs": [],
   "source": [
    "from tools_deepsort import generate_detections as gdet"
   ]
  },
  {
   "cell_type": "code",
   "execution_count": 1,
   "metadata": {},
   "outputs": [],
   "source": [
    "import uuid"
   ]
  },
  {
   "cell_type": "code",
   "execution_count": 2,
   "metadata": {},
   "outputs": [
    {
     "name": "stdout",
     "output_type": "stream",
     "text": [
      "/Users/vickykimani/Desktop/school work/1st semester/informatics 2/anpr_system\n"
     ]
    }
   ],
   "source": [
    "cd ../"
   ]
  },
  {
   "cell_type": "code",
   "execution_count": 4,
   "metadata": {},
   "outputs": [
    {
     "name": "stdout",
     "output_type": "stream",
     "text": [
      "Requirement already satisfied: paddlepaddle in /opt/anaconda3/lib/python3.9/site-packages (2.3.2)\n",
      "Requirement already satisfied: Pillow in /opt/anaconda3/lib/python3.9/site-packages (from paddlepaddle) (9.2.0)\n",
      "Requirement already satisfied: decorator in /opt/anaconda3/lib/python3.9/site-packages (from paddlepaddle) (5.1.1)\n",
      "Requirement already satisfied: numpy>=1.13 in /opt/anaconda3/lib/python3.9/site-packages (from paddlepaddle) (1.21.5)\n",
      "Requirement already satisfied: paddle-bfloat==0.1.7 in /opt/anaconda3/lib/python3.9/site-packages (from paddlepaddle) (0.1.7)\n",
      "Requirement already satisfied: opt-einsum==3.3.0 in /opt/anaconda3/lib/python3.9/site-packages (from paddlepaddle) (3.3.0)\n",
      "Requirement already satisfied: six in /opt/anaconda3/lib/python3.9/site-packages (from paddlepaddle) (1.16.0)\n",
      "Requirement already satisfied: protobuf<=3.20.0,>=3.1.0 in /opt/anaconda3/lib/python3.9/site-packages (from paddlepaddle) (3.20.0)\n",
      "Requirement already satisfied: astor in /opt/anaconda3/lib/python3.9/site-packages (from paddlepaddle) (0.8.1)\n",
      "Requirement already satisfied: requests>=2.20.0 in /opt/anaconda3/lib/python3.9/site-packages (from paddlepaddle) (2.28.1)\n",
      "Requirement already satisfied: charset-normalizer<3,>=2 in /opt/anaconda3/lib/python3.9/site-packages (from requests>=2.20.0->paddlepaddle) (2.0.4)\n",
      "Requirement already satisfied: urllib3<1.27,>=1.21.1 in /opt/anaconda3/lib/python3.9/site-packages (from requests>=2.20.0->paddlepaddle) (1.26.11)\n",
      "Requirement already satisfied: idna<4,>=2.5 in /opt/anaconda3/lib/python3.9/site-packages (from requests>=2.20.0->paddlepaddle) (3.3)\n",
      "Requirement already satisfied: certifi>=2017.4.17 in /opt/anaconda3/lib/python3.9/site-packages (from requests>=2.20.0->paddlepaddle) (2022.9.24)\n",
      "Note: you may need to restart the kernel to use updated packages.\n"
     ]
    }
   ],
   "source": [
    "pip install paddlepaddle"
   ]
  },
  {
   "cell_type": "code",
   "execution_count": 5,
   "metadata": {},
   "outputs": [
    {
     "name": "stdout",
     "output_type": "stream",
     "text": [
      "Collecting paddleocr>=2.0.1\n",
      "  Downloading paddleocr-2.6.1.0-py3-none-any.whl (409 kB)\n",
      "\u001b[2K     \u001b[90m━━━━━━━━━━━━━━━━━━━━━━━━━━━━━━━━━━━━━━━\u001b[0m \u001b[32m409.6/409.6 kB\u001b[0m \u001b[31m1.1 MB/s\u001b[0m eta \u001b[36m0:00:00\u001b[0ma \u001b[36m0:00:01\u001b[0m\n",
      "\u001b[?25hRequirement already satisfied: numpy in /opt/anaconda3/lib/python3.9/site-packages (from paddleocr>=2.0.1) (1.21.5)\n",
      "Collecting opencv-python\n",
      "  Downloading opencv_python-4.6.0.66-cp36-abi3-macosx_10_15_x86_64.whl (46.4 MB)\n",
      "\u001b[2K     \u001b[90m━━━━━━━━━━━━━━━━━━━━━━━━━━━━━━━━━━━━━━━━\u001b[0m \u001b[32m46.4/46.4 MB\u001b[0m \u001b[31m1.3 MB/s\u001b[0m eta \u001b[36m0:00:00\u001b[0m00:01\u001b[0m00:01\u001b[0m\n",
      "\u001b[?25hCollecting Polygon3\n",
      "  Downloading Polygon3-3.0.9.1.tar.gz (39 kB)\n",
      "  Preparing metadata (setup.py) ... \u001b[?25ldone\n",
      "\u001b[?25hCollecting attrdict\n",
      "  Downloading attrdict-2.0.1-py2.py3-none-any.whl (9.9 kB)\n",
      "Collecting imgaug\n",
      "  Downloading imgaug-0.4.0-py2.py3-none-any.whl (948 kB)\n",
      "\u001b[2K     \u001b[90m━━━━━━━━━━━━━━━━━━━━━━━━━━━━━━━━━━━━━━━\u001b[0m \u001b[32m948.0/948.0 kB\u001b[0m \u001b[31m1.3 MB/s\u001b[0m eta \u001b[36m0:00:00\u001b[0m00:01\u001b[0m00:01\u001b[0m\n",
      "\u001b[?25hRequirement already satisfied: openpyxl in /opt/anaconda3/lib/python3.9/site-packages (from paddleocr>=2.0.1) (3.0.10)\n",
      "Collecting visualdl\n",
      "  Downloading visualdl-2.4.1-py3-none-any.whl (4.9 MB)\n",
      "\u001b[2K     \u001b[90m━━━━━━━━━━━━━━━━━━━━━━━━━━━━━━━━━━━━━━━━\u001b[0m \u001b[32m4.9/4.9 MB\u001b[0m \u001b[31m1.4 MB/s\u001b[0m eta \u001b[36m0:00:00\u001b[0m00:01\u001b[0m00:01\u001b[0m\n",
      "\u001b[?25hCollecting shapely\n",
      "  Downloading Shapely-1.8.5.post1-cp39-cp39-macosx_10_9_x86_64.whl (1.2 MB)\n",
      "\u001b[2K     \u001b[90m━━━━━━━━━━━━━━━━━━━━━━━━━━━━━━━━━━━━━━━━\u001b[0m \u001b[32m1.2/1.2 MB\u001b[0m \u001b[31m1.3 MB/s\u001b[0m eta \u001b[36m0:00:00\u001b[0m00:01\u001b[0m00:01\u001b[0m\n",
      "\u001b[?25hRequirement already satisfied: tqdm in /opt/anaconda3/lib/python3.9/site-packages (from paddleocr>=2.0.1) (4.64.1)\n",
      "Collecting rapidfuzz\n",
      "  Downloading rapidfuzz-2.13.0-cp39-cp39-macosx_10_9_x86_64.whl (1.8 MB)\n",
      "\u001b[2K     \u001b[90m━━━━━━━━━━━━━━━━━━━━━━━━━━━━━━━━━━━━━━━━\u001b[0m \u001b[32m1.8/1.8 MB\u001b[0m \u001b[31m1.3 MB/s\u001b[0m eta \u001b[36m0:00:00\u001b[0m00:01\u001b[0m00:01\u001b[0m\n",
      "\u001b[?25hCollecting premailer\n",
      "  Downloading premailer-3.10.0-py2.py3-none-any.whl (19 kB)\n",
      "Collecting python-docx\n",
      "  Downloading python-docx-0.8.11.tar.gz (5.6 MB)\n",
      "\u001b[2K     \u001b[90m━━━━━━━━━━━━━━━━━━━━━━━━━━━━━━━━━━━━━━━━\u001b[0m \u001b[32m5.6/5.6 MB\u001b[0m \u001b[31m1.3 MB/s\u001b[0m eta \u001b[36m0:00:00\u001b[0m00:01\u001b[0m00:01\u001b[0m\n",
      "\u001b[?25h  Preparing metadata (setup.py) ... \u001b[?25ldone\n",
      "\u001b[?25hRequirement already satisfied: scikit-image in /opt/anaconda3/lib/python3.9/site-packages (from paddleocr>=2.0.1) (0.19.2)\n",
      "Collecting PyMuPDF==1.19.0\n",
      "  Downloading PyMuPDF-1.19.0-cp39-cp39-macosx_10_9_x86_64.whl (7.6 MB)\n",
      "\u001b[2K     \u001b[90m━━━━━━━━━━━━━━━━━━━━━━━━━━━━━━━━━━━━━━━━\u001b[0m \u001b[32m7.6/7.6 MB\u001b[0m \u001b[31m1.4 MB/s\u001b[0m eta \u001b[36m0:00:00\u001b[0m00:01\u001b[0m00:01\u001b[0m\n",
      "\u001b[?25hRequirement already satisfied: cython in /opt/anaconda3/lib/python3.9/site-packages (from paddleocr>=2.0.1) (0.29.32)\n",
      "Requirement already satisfied: lxml in /opt/anaconda3/lib/python3.9/site-packages (from paddleocr>=2.0.1) (4.9.1)\n",
      "Collecting lanms-neo==1.0.2\n",
      "  Downloading lanms_neo-1.0.2.tar.gz (39 kB)\n",
      "  Installing build dependencies ... \u001b[?25ldone\n",
      "\u001b[?25h  Getting requirements to build wheel ... \u001b[?25ldone\n",
      "\u001b[?25h  Preparing metadata (pyproject.toml) ... \u001b[?25ldone\n",
      "\u001b[?25hCollecting lmdb\n",
      "  Downloading lmdb-1.3.0-cp39-cp39-macosx_10_14_x86_64.whl (101 kB)\n",
      "\u001b[2K     \u001b[90m━━━━━━━━━━━━━━━━━━━━━━━━━━━━━━━━━━━━━━━\u001b[0m \u001b[32m101.6/101.6 kB\u001b[0m \u001b[31m1.0 MB/s\u001b[0m eta \u001b[36m0:00:00\u001b[0ma \u001b[36m0:00:01\u001b[0m\n",
      "\u001b[?25hCollecting fire>=0.3.0\n",
      "  Downloading fire-0.4.0.tar.gz (87 kB)\n",
      "\u001b[2K     \u001b[90m━━━━━━━━━━━━━━━━━━━━━━━━━━━━━━━━━━━━━━━━\u001b[0m \u001b[32m87.7/87.7 kB\u001b[0m \u001b[31m1.1 MB/s\u001b[0m eta \u001b[36m0:00:00\u001b[0ma \u001b[36m0:00:01\u001b[0m\n",
      "\u001b[?25h  Preparing metadata (setup.py) ... \u001b[?25ldone\n",
      "\u001b[?25hCollecting opencv-contrib-python\n",
      "  Downloading opencv_contrib_python-4.6.0.66-cp36-abi3-macosx_10_15_x86_64.whl (56.1 MB)\n",
      "\u001b[2K     \u001b[90m━━━━━━━━━━━━━━━━━━━━━━━━━━━━━━━━━━━━━━━━\u001b[0m \u001b[32m56.1/56.1 MB\u001b[0m \u001b[31m1.3 MB/s\u001b[0m eta \u001b[36m0:00:00\u001b[0m00:01\u001b[0m00:02\u001b[0mm\n",
      "\u001b[?25hCollecting pyclipper\n",
      "  Downloading pyclipper-1.3.0.post3-cp39-cp39-macosx_10_9_x86_64.whl (134 kB)\n",
      "\u001b[2K     \u001b[90m━━━━━━━━━━━━━━━━━━━━━━━━━━━━━━━━━━━━━━━\u001b[0m \u001b[32m134.2/134.2 kB\u001b[0m \u001b[31m1.1 MB/s\u001b[0m eta \u001b[36m0:00:00\u001b[0ma \u001b[36m0:00:01\u001b[0m\n",
      "\u001b[?25hRequirement already satisfied: fonttools>=4.24.0 in /opt/anaconda3/lib/python3.9/site-packages (from paddleocr>=2.0.1) (4.25.0)\n",
      "Collecting pdf2docx\n",
      "  Downloading pdf2docx-0.5.6-py3-none-any.whl (148 kB)\n",
      "\u001b[2K     \u001b[90m━━━━━━━━━━━━━━━━━━━━━━━━━━━━━━━━━━━━━━━\u001b[0m \u001b[32m148.4/148.4 kB\u001b[0m \u001b[31m1.1 MB/s\u001b[0m eta \u001b[36m0:00:00\u001b[0ma \u001b[36m0:00:01\u001b[0m\n",
      "\u001b[?25hRequirement already satisfied: beautifulsoup4 in /opt/anaconda3/lib/python3.9/site-packages (from paddleocr>=2.0.1) (4.11.1)\n",
      "Requirement already satisfied: six in /opt/anaconda3/lib/python3.9/site-packages (from fire>=0.3.0->paddleocr>=2.0.1) (1.16.0)\n",
      "Collecting termcolor\n",
      "  Downloading termcolor-2.1.0-py3-none-any.whl (5.8 kB)\n",
      "Requirement already satisfied: soupsieve>1.2 in /opt/anaconda3/lib/python3.9/site-packages (from beautifulsoup4->paddleocr>=2.0.1) (2.3.1)\n",
      "Requirement already satisfied: Pillow in /opt/anaconda3/lib/python3.9/site-packages (from imgaug->paddleocr>=2.0.1) (9.2.0)\n",
      "Requirement already satisfied: imageio in /opt/anaconda3/lib/python3.9/site-packages (from imgaug->paddleocr>=2.0.1) (2.19.3)\n",
      "Requirement already satisfied: matplotlib in /opt/anaconda3/lib/python3.9/site-packages (from imgaug->paddleocr>=2.0.1) (3.5.2)\n",
      "Requirement already satisfied: scipy in /opt/anaconda3/lib/python3.9/site-packages (from imgaug->paddleocr>=2.0.1) (1.9.1)\n",
      "Requirement already satisfied: networkx>=2.2 in /opt/anaconda3/lib/python3.9/site-packages (from scikit-image->paddleocr>=2.0.1) (2.8.4)\n",
      "Requirement already satisfied: tifffile>=2019.7.26 in /opt/anaconda3/lib/python3.9/site-packages (from scikit-image->paddleocr>=2.0.1) (2021.7.2)\n",
      "Requirement already satisfied: packaging>=20.0 in /opt/anaconda3/lib/python3.9/site-packages (from scikit-image->paddleocr>=2.0.1) (21.3)\n",
      "Requirement already satisfied: PyWavelets>=1.1.1 in /opt/anaconda3/lib/python3.9/site-packages (from scikit-image->paddleocr>=2.0.1) (1.3.0)\n",
      "Requirement already satisfied: et_xmlfile in /opt/anaconda3/lib/python3.9/site-packages (from openpyxl->paddleocr>=2.0.1) (1.1.0)\n",
      "Collecting cssutils\n",
      "  Downloading cssutils-2.6.0-py3-none-any.whl (399 kB)\n",
      "\u001b[2K     \u001b[90m━━━━━━━━━━━━━━━━━━━━━━━━━━━━━━━━━━━━━━━\u001b[0m \u001b[32m399.7/399.7 kB\u001b[0m \u001b[31m1.3 MB/s\u001b[0m eta \u001b[36m0:00:00\u001b[0m00:01\u001b[0m00:01\u001b[0m\n",
      "\u001b[?25hRequirement already satisfied: requests in /opt/anaconda3/lib/python3.9/site-packages (from premailer->paddleocr>=2.0.1) (2.28.1)\n",
      "Requirement already satisfied: cssselect in /opt/anaconda3/lib/python3.9/site-packages (from premailer->paddleocr>=2.0.1) (1.1.0)\n",
      "Collecting cachetools\n",
      "  Downloading cachetools-5.2.0-py3-none-any.whl (9.3 kB)\n",
      "Requirement already satisfied: flask>=1.1.1 in /opt/anaconda3/lib/python3.9/site-packages (from visualdl->paddleocr>=2.0.1) (1.1.2)\n",
      "Requirement already satisfied: protobuf>=3.11.0 in /opt/anaconda3/lib/python3.9/site-packages (from visualdl->paddleocr>=2.0.1) (3.20.0)\n",
      "Collecting multiprocess\n",
      "  Downloading multiprocess-0.70.14-py39-none-any.whl (132 kB)\n",
      "\u001b[2K     \u001b[90m━━━━━━━━━━━━━━━━━━━━━━━━━━━━━━━━━━━━━━━\u001b[0m \u001b[32m132.9/132.9 kB\u001b[0m \u001b[31m1.1 MB/s\u001b[0m eta \u001b[36m0:00:00\u001b[0ma \u001b[36m0:00:01\u001b[0m\n",
      "\u001b[?25hCollecting bce-python-sdk\n",
      "  Downloading bce_python_sdk-0.8.74-py3-none-any.whl (204 kB)\n",
      "\u001b[2K     \u001b[90m━━━━━━━━━━━━━━━━━━━━━━━━━━━━━━━━━━━━━━━\u001b[0m \u001b[32m204.6/204.6 kB\u001b[0m \u001b[31m1.2 MB/s\u001b[0m eta \u001b[36m0:00:00\u001b[0ma \u001b[36m0:00:01\u001b[0m\n",
      "\u001b[?25hRequirement already satisfied: pandas in /opt/anaconda3/lib/python3.9/site-packages (from visualdl->paddleocr>=2.0.1) (1.4.4)\n",
      "Collecting Flask-Babel>=1.0.0\n",
      "  Downloading Flask_Babel-2.0.0-py3-none-any.whl (9.3 kB)\n",
      "Requirement already satisfied: click>=5.1 in /opt/anaconda3/lib/python3.9/site-packages (from flask>=1.1.1->visualdl->paddleocr>=2.0.1) (8.0.4)\n",
      "Requirement already satisfied: Werkzeug>=0.15 in /opt/anaconda3/lib/python3.9/site-packages (from flask>=1.1.1->visualdl->paddleocr>=2.0.1) (2.0.3)\n",
      "Requirement already satisfied: itsdangerous>=0.24 in /opt/anaconda3/lib/python3.9/site-packages (from flask>=1.1.1->visualdl->paddleocr>=2.0.1) (2.0.1)\n",
      "Requirement already satisfied: Jinja2>=2.10.1 in /opt/anaconda3/lib/python3.9/site-packages (from flask>=1.1.1->visualdl->paddleocr>=2.0.1) (2.11.3)\n"
     ]
    },
    {
     "name": "stdout",
     "output_type": "stream",
     "text": [
      "Requirement already satisfied: Babel>=2.3 in /opt/anaconda3/lib/python3.9/site-packages (from Flask-Babel>=1.0.0->visualdl->paddleocr>=2.0.1) (2.9.1)\n",
      "Requirement already satisfied: pytz in /opt/anaconda3/lib/python3.9/site-packages (from Flask-Babel>=1.0.0->visualdl->paddleocr>=2.0.1) (2022.1)\n",
      "Requirement already satisfied: pyparsing!=3.0.5,>=2.0.2 in /opt/anaconda3/lib/python3.9/site-packages (from packaging>=20.0->scikit-image->paddleocr>=2.0.1) (3.0.9)\n",
      "Collecting pycryptodome>=3.8.0\n",
      "  Downloading pycryptodome-3.15.0-cp35-abi3-macosx_10_9_x86_64.whl (1.6 MB)\n",
      "\u001b[2K     \u001b[90m━━━━━━━━━━━━━━━━━━━━━━━━━━━━━━━━━━━━━━━━\u001b[0m \u001b[32m1.6/1.6 MB\u001b[0m \u001b[31m1.3 MB/s\u001b[0m eta \u001b[36m0:00:00\u001b[0m00:01\u001b[0m00:01\u001b[0m\n",
      "\u001b[?25hRequirement already satisfied: future>=0.6.0 in /opt/anaconda3/lib/python3.9/site-packages (from bce-python-sdk->visualdl->paddleocr>=2.0.1) (0.18.2)\n",
      "Requirement already satisfied: python-dateutil>=2.7 in /opt/anaconda3/lib/python3.9/site-packages (from matplotlib->imgaug->paddleocr>=2.0.1) (2.8.2)\n",
      "Requirement already satisfied: kiwisolver>=1.0.1 in /opt/anaconda3/lib/python3.9/site-packages (from matplotlib->imgaug->paddleocr>=2.0.1) (1.4.2)\n",
      "Requirement already satisfied: cycler>=0.10 in /opt/anaconda3/lib/python3.9/site-packages (from matplotlib->imgaug->paddleocr>=2.0.1) (0.11.0)\n",
      "Collecting dill>=0.3.6\n",
      "  Downloading dill-0.3.6-py3-none-any.whl (110 kB)\n",
      "\u001b[2K     \u001b[90m━━━━━━━━━━━━━━━━━━━━━━━━━━━━━━━━━━━━━━━\u001b[0m \u001b[32m110.5/110.5 kB\u001b[0m \u001b[31m1.0 MB/s\u001b[0m eta \u001b[36m0:00:00\u001b[0ma \u001b[36m0:00:01\u001b[0m\n",
      "\u001b[?25hRequirement already satisfied: idna<4,>=2.5 in /opt/anaconda3/lib/python3.9/site-packages (from requests->premailer->paddleocr>=2.0.1) (3.3)\n",
      "Requirement already satisfied: certifi>=2017.4.17 in /opt/anaconda3/lib/python3.9/site-packages (from requests->premailer->paddleocr>=2.0.1) (2022.9.24)\n",
      "Requirement already satisfied: urllib3<1.27,>=1.21.1 in /opt/anaconda3/lib/python3.9/site-packages (from requests->premailer->paddleocr>=2.0.1) (1.26.11)\n",
      "Requirement already satisfied: charset-normalizer<3,>=2 in /opt/anaconda3/lib/python3.9/site-packages (from requests->premailer->paddleocr>=2.0.1) (2.0.4)\n",
      "Requirement already satisfied: MarkupSafe>=0.23 in /opt/anaconda3/lib/python3.9/site-packages (from Jinja2>=2.10.1->flask>=1.1.1->visualdl->paddleocr>=2.0.1) (2.0.1)\n",
      "Building wheels for collected packages: lanms-neo, fire, python-docx, Polygon3\n",
      "  Building wheel for lanms-neo (pyproject.toml) ... \u001b[?25ldone\n",
      "\u001b[?25h  Created wheel for lanms-neo: filename=lanms_neo-1.0.2-cp39-cp39-macosx_10_14_x86_64.whl size=109081 sha256=849c795264f772ba6fff369556a374ef3d02569953eed448be412f92818b1690\n",
      "  Stored in directory: /Users/vickykimani/Library/Caches/pip/wheels/fc/fa/0e/be0bc6aae3a61c51b12ec7ef7dc76b0a4c4c6c61b46d6ef397\n",
      "  Building wheel for fire (setup.py) ... \u001b[?25ldone\n",
      "\u001b[?25h  Created wheel for fire: filename=fire-0.4.0-py2.py3-none-any.whl size=115926 sha256=83b4cc0cd475720e94b44534af99ef81296f3018101f88153d5a48c5610c5453\n",
      "  Stored in directory: /Users/vickykimani/Library/Caches/pip/wheels/2a/93/86/8cd17bc6c40fb605c3ac549d0b860ef7e84ee5f67bf01a3287\n",
      "  Building wheel for python-docx (setup.py) ... \u001b[?25ldone\n",
      "\u001b[?25h  Created wheel for python-docx: filename=python_docx-0.8.11-py3-none-any.whl size=184489 sha256=44a66d4be84d1a1719776c6bfe51de32d17765c9335cd1cfc53ff75af2d9e458\n",
      "  Stored in directory: /Users/vickykimani/Library/Caches/pip/wheels/83/8b/7c/09ae60c42c7ba4ed2dddaf2b8b9186cb105255856d6ed3dba5\n",
      "  Building wheel for Polygon3 (setup.py) ... \u001b[?25ldone\n",
      "\u001b[?25h  Created wheel for Polygon3: filename=Polygon3-3.0.9.1-cp39-cp39-macosx_10_9_x86_64.whl size=42938 sha256=0bad7ff0a7356e2e5c5c7fe075884b2f311d07be68986d5f5ab9b0e6dd807a8c\n",
      "  Stored in directory: /Users/vickykimani/Library/Caches/pip/wheels/d8/37/5c/65e438d5ec32cf193fd8ccdfb261a9c53d2ae24c56704cbedb\n",
      "Successfully built lanms-neo fire python-docx Polygon3\n",
      "Installing collected packages: pyclipper, Polygon3, lmdb, lanms-neo, termcolor, shapely, rapidfuzz, python-docx, PyMuPDF, pycryptodome, opencv-python, opencv-contrib-python, dill, cssutils, cachetools, attrdict, premailer, multiprocess, fire, bce-python-sdk, pdf2docx, imgaug, Flask-Babel, visualdl, paddleocr\n",
      "  Attempting uninstall: dill\n",
      "    Found existing installation: dill 0.3.4\n",
      "    Uninstalling dill-0.3.4:\n",
      "      Successfully uninstalled dill-0.3.4\n",
      "Successfully installed Flask-Babel-2.0.0 Polygon3-3.0.9.1 PyMuPDF-1.19.0 attrdict-2.0.1 bce-python-sdk-0.8.74 cachetools-5.2.0 cssutils-2.6.0 dill-0.3.6 fire-0.4.0 imgaug-0.4.0 lanms-neo-1.0.2 lmdb-1.3.0 multiprocess-0.70.14 opencv-contrib-python-4.6.0.66 opencv-python-4.6.0.66 paddleocr-2.6.1.0 pdf2docx-0.5.6 premailer-3.10.0 pyclipper-1.3.0.post3 pycryptodome-3.15.0 python-docx-0.8.11 rapidfuzz-2.13.0 shapely-1.8.5.post1 termcolor-2.1.0 visualdl-2.4.1\n",
      "Note: you may need to restart the kernel to use updated packages.\n"
     ]
    }
   ],
   "source": [
    "pip install \"paddleocr>=2.0.1\""
   ]
  },
  {
   "cell_type": "code",
   "execution_count": null,
   "metadata": {},
   "outputs": [],
   "source": [
    "from paddleocr import PaddleOCR"
   ]
  },
  {
   "cell_type": "code",
   "execution_count": null,
   "metadata": {},
   "outputs": [],
   "source": [
    "ocr = PaddleOCR(lang='en',rec_algorithm='CRNN')"
   ]
  },
  {
   "cell_type": "code",
   "execution_count": null,
   "metadata": {},
   "outputs": [],
   "source": []
  }
 ],
 "metadata": {
  "interpreter": {
   "hash": "aee8b7b246df8f9039afb4144a1f6fd8d2ca17a180786b69acc140d282b71a49"
  },
  "kernelspec": {
   "display_name": "Python 3 (ipykernel)",
   "language": "python",
   "name": "python3"
  },
  "language_info": {
   "codemirror_mode": {
    "name": "ipython",
    "version": 3
   },
   "file_extension": ".py",
   "mimetype": "text/x-python",
   "name": "python",
   "nbconvert_exporter": "python",
   "pygments_lexer": "ipython3",
   "version": "3.9.13"
  }
 },
 "nbformat": 4,
 "nbformat_minor": 2
}
