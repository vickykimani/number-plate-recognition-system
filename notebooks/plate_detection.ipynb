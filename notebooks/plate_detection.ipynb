{
 "cells": [
  {
   "cell_type": "code",
   "execution_count": 1,
   "metadata": {},
   "outputs": [],
   "source": [
    "#git clone https://github.com/AlexeyAB/darknet"
   ]
  },
  {
   "cell_type": "code",
   "execution_count": 2,
   "metadata": {},
   "outputs": [
    {
     "name": "stdout",
     "output_type": "stream",
     "text": [
      "/Users/vickykimani/Desktop/school work/1st semester/informatics 2/anpr_system\n"
     ]
    }
   ],
   "source": [
    "cd ../"
   ]
  },
  {
   "cell_type": "code",
   "execution_count": 3,
   "metadata": {},
   "outputs": [
    {
     "name": "stdout",
     "output_type": "stream",
     "text": [
      "/Users/vickykimani/Desktop/school work/1st semester/informatics 2/anpr_system/darknet\n"
     ]
    }
   ],
   "source": [
    "cd ./darknet"
   ]
  },
  {
   "cell_type": "code",
   "execution_count": 4,
   "metadata": {},
   "outputs": [],
   "source": [
    "!sed -ie 's/OPENCV=0/OPENCV=1/' Makefile"
   ]
  },
  {
   "cell_type": "code",
   "execution_count": 5,
   "metadata": {},
   "outputs": [],
   "source": [
    "!sed -ie 's/GPU=0/GPU=1/' Makefile"
   ]
  },
  {
   "cell_type": "code",
   "execution_count": 6,
   "metadata": {},
   "outputs": [],
   "source": [
    "!sed -ie 's/CUDNN=0/CUDNN=1/' Makefile"
   ]
  },
  {
   "cell_type": "code",
   "execution_count": 7,
   "metadata": {},
   "outputs": [],
   "source": [
    "!sed -ie 's/CUDNN_HALF=0/CUDNN_HALF=1/' Makefile"
   ]
  },
  {
   "cell_type": "code",
   "execution_count": 8,
   "metadata": {},
   "outputs": [],
   "source": [
    "!sed -ie 's/LIBSO=0/LIBSO=1/' Makefile"
   ]
  },
  {
   "cell_type": "code",
   "execution_count": 9,
   "metadata": {},
   "outputs": [
    {
     "name": "stdout",
     "output_type": "stream",
     "text": [
      "mkdir -p ./obj/\n",
      "mkdir -p backup\n",
      "chmod +x *.sh\n",
      "g++ -std=c++11 -std=c++11 -Iinclude/ -I3rdparty/stb/include -DOPENCV `pkg-config --cflags opencv4 2> /dev/null || pkg-config --cflags opencv` -DGPU -I/usr/local/cuda/include/ -DCUDNN -DCUDNN_HALF -Wall -Wfatal-errors -Wno-unused-result -Wno-unknown-pragmas -fPIC -Ofast -DOPENCV -DGPU -DCUDNN -I/usr/local/cuda/include -DCUDNN_HALF -fPIC -c ./src/image_opencv.cpp -o obj/image_opencv.o\n",
      "/bin/sh: pkg-config: command not found\n",
      "In file included from ./src/image_opencv.cpp:1:\n",
      "In file included from ./src/image_opencv.h:4:\n",
      "In file included from ./src/image.h:3:\n",
      "\u001b[1minclude/darknet.h:41:10: \u001b[0m\u001b[0;1;31mfatal error: \u001b[0m\u001b[1m'cuda_runtime.h' file not found\u001b[0m\n",
      "#include <cuda_runtime.h>\n",
      "\u001b[0;1;32m         ^~~~~~~~~~~~~~~~\n",
      "\u001b[0m1 error generated.\n",
      "make: *** [obj/image_opencv.o] Error 1\n"
     ]
    }
   ],
   "source": [
    "# make darknet (builds darknet so that the darknet executable file can be used to run or train object detectors)\n",
    "!make"
   ]
  },
  {
   "cell_type": "code",
   "execution_count": null,
   "metadata": {},
   "outputs": [],
   "source": []
  }
 ],
 "metadata": {
  "kernelspec": {
   "display_name": "Python 3 (ipykernel)",
   "language": "python",
   "name": "python3"
  },
  "language_info": {
   "codemirror_mode": {
    "name": "ipython",
    "version": 3
   },
   "file_extension": ".py",
   "mimetype": "text/x-python",
   "name": "python",
   "nbconvert_exporter": "python",
   "pygments_lexer": "ipython3",
   "version": "3.9.13"
  }
 },
 "nbformat": 4,
 "nbformat_minor": 2
}
