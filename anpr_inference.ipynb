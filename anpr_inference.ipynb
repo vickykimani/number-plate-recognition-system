{
  "cells": [
    {
      "cell_type": "markdown",
      "metadata": {
        "id": "view-in-github",
        "colab_type": "text"
      },
      "source": [
        "<a href=\"https://colab.research.google.com/github/vickykimani/number-plate-recognition-system/blob/main/anpr_inference.ipynb\" target=\"_parent\"><img src=\"https://colab.research.google.com/assets/colab-badge.svg\" alt=\"Open In Colab\"/></a>"
      ]
    },
    {
      "cell_type": "code",
      "execution_count": 1,
      "metadata": {
        "id": "VSHjKRVTSYSY"
      },
      "outputs": [],
      "source": [
        "#this is the main notebook that performs ANPR on an image."
      ]
    },
    {
      "cell_type": "code",
      "execution_count": 2,
      "metadata": {
        "id": "gPkl1QAtSYSZ"
      },
      "outputs": [],
      "source": [
        "import tensorflow as tf"
      ]
    },
    {
      "cell_type": "code",
      "execution_count": 3,
      "metadata": {
        "colab": {
          "base_uri": "https://localhost:8080/"
        },
        "id": "99sPB59bSYSZ",
        "outputId": "92110988-5b3b-4384-cdc8-b60dc9b39b1a"
      },
      "outputs": [
        {
          "output_type": "stream",
          "name": "stdout",
          "text": [
            "[Errno 2] No such file or directory: '/Users/vickykimani/Desktop/school work/1st semester/informatics 2/anpr_system/deep_sortt'\n",
            "/content\n"
          ]
        }
      ],
      "source": [
        "%cd '/Users/vickykimani/Desktop/school work/1st semester/informatics 2/anpr_system/deep_sortt'"
      ]
    },
    {
      "cell_type": "code",
      "execution_count": 4,
      "metadata": {
        "colab": {
          "base_uri": "https://localhost:8080/",
          "height": 312
        },
        "id": "ejjOzogtSYSa",
        "outputId": "17198dc0-227f-499b-ab63-8c09dcb69ba3"
      },
      "outputs": [
        {
          "output_type": "error",
          "ename": "ModuleNotFoundError",
          "evalue": "ignored",
          "traceback": [
            "\u001b[0;31m---------------------------------------------------------------------------\u001b[0m",
            "\u001b[0;31mModuleNotFoundError\u001b[0m                       Traceback (most recent call last)",
            "\u001b[0;32m<ipython-input-4-add67803746d>\u001b[0m in \u001b[0;36m<module>\u001b[0;34m\u001b[0m\n\u001b[0;32m----> 1\u001b[0;31m \u001b[0;32mfrom\u001b[0m \u001b[0mapplication_util\u001b[0m \u001b[0;32mimport\u001b[0m \u001b[0mpreprocessing\u001b[0m\u001b[0;34m\u001b[0m\u001b[0;34m\u001b[0m\u001b[0m\n\u001b[0m",
            "\u001b[0;31mModuleNotFoundError\u001b[0m: No module named 'application_util'",
            "",
            "\u001b[0;31m---------------------------------------------------------------------------\u001b[0;32m\nNOTE: If your import is failing due to a missing package, you can\nmanually install dependencies using either !pip or !apt.\n\nTo view examples of installing some common dependencies, click the\n\"Open Examples\" button below.\n\u001b[0;31m---------------------------------------------------------------------------\u001b[0m\n"
          ],
          "errorDetails": {
            "actions": [
              {
                "action": "open_url",
                "actionText": "Open Examples",
                "url": "/notebooks/snippets/importing_libraries.ipynb"
              }
            ]
          }
        }
      ],
      "source": [
        "from application_util import preprocessing"
      ]
    },
    {
      "cell_type": "code",
      "execution_count": null,
      "metadata": {
        "id": "D2esje8_SYSa"
      },
      "outputs": [],
      "source": [
        "from deep_sort import nn_matching"
      ]
    },
    {
      "cell_type": "code",
      "execution_count": null,
      "metadata": {
        "id": "aWNHDTksSYSa"
      },
      "outputs": [],
      "source": [
        "from deep_sort.detection import Detection"
      ]
    },
    {
      "cell_type": "code",
      "execution_count": null,
      "metadata": {
        "id": "qa5L4QfWSYSa"
      },
      "outputs": [],
      "source": [
        "from deep_sort.tracker import Tracker"
      ]
    },
    {
      "cell_type": "code",
      "execution_count": null,
      "metadata": {
        "id": "SFr16tyOSYSa"
      },
      "outputs": [],
      "source": [
        "from tools_deepsort import generate_detections as gdet"
      ]
    },
    {
      "cell_type": "code",
      "execution_count": null,
      "metadata": {
        "id": "PR0twRCBSYSa"
      },
      "outputs": [],
      "source": [
        "import uuid"
      ]
    },
    {
      "cell_type": "code",
      "execution_count": null,
      "metadata": {
        "id": "pj1_8SrtSYSb",
        "outputId": "4e652832-8b11-4dc9-ccc1-e121495fe127"
      },
      "outputs": [
        {
          "name": "stdout",
          "output_type": "stream",
          "text": [
            "/Users/vickykimani/Desktop/school work/1st semester/informatics 2/anpr_system\n"
          ]
        }
      ],
      "source": [
        "cd ../"
      ]
    },
    {
      "cell_type": "code",
      "execution_count": 5,
      "metadata": {
        "colab": {
          "base_uri": "https://localhost:8080/"
        },
        "id": "MrWh1Tu7SYSb",
        "outputId": "373d3021-42f5-4464-aa66-7f06ee7c7580"
      },
      "outputs": [
        {
          "output_type": "stream",
          "name": "stdout",
          "text": [
            "Looking in indexes: https://pypi.org/simple, https://us-python.pkg.dev/colab-wheels/public/simple/\n",
            "Collecting paddlepaddle\n",
            "  Downloading paddlepaddle-2.4.0-cp37-cp37m-manylinux1_x86_64.whl (121.6 MB)\n",
            "\u001b[K     |████████████████████████████████| 121.6 MB 87 kB/s \n",
            "\u001b[?25hRequirement already satisfied: protobuf<=3.20.0,>=3.1.0 in /usr/local/lib/python3.7/dist-packages (from paddlepaddle) (3.19.6)\n",
            "Requirement already satisfied: six in /usr/local/lib/python3.7/dist-packages (from paddlepaddle) (1.15.0)\n",
            "Requirement already satisfied: decorator in /usr/local/lib/python3.7/dist-packages (from paddlepaddle) (4.4.2)\n",
            "Requirement already satisfied: requests>=2.20.0 in /usr/local/lib/python3.7/dist-packages (from paddlepaddle) (2.23.0)\n",
            "Requirement already satisfied: opt-einsum==3.3.0 in /usr/local/lib/python3.7/dist-packages (from paddlepaddle) (3.3.0)\n",
            "Requirement already satisfied: Pillow in /usr/local/lib/python3.7/dist-packages (from paddlepaddle) (7.1.2)\n",
            "Requirement already satisfied: astor in /usr/local/lib/python3.7/dist-packages (from paddlepaddle) (0.8.1)\n",
            "Requirement already satisfied: numpy>=1.13 in /usr/local/lib/python3.7/dist-packages (from paddlepaddle) (1.21.6)\n",
            "Collecting paddle-bfloat==0.1.7\n",
            "  Downloading paddle_bfloat-0.1.7-cp37-cp37m-manylinux_2_17_x86_64.manylinux2014_x86_64.whl (394 kB)\n",
            "\u001b[K     |████████████████████████████████| 394 kB 52.9 MB/s \n",
            "\u001b[?25hRequirement already satisfied: certifi>=2017.4.17 in /usr/local/lib/python3.7/dist-packages (from requests>=2.20.0->paddlepaddle) (2022.9.24)\n",
            "Requirement already satisfied: idna<3,>=2.5 in /usr/local/lib/python3.7/dist-packages (from requests>=2.20.0->paddlepaddle) (2.10)\n",
            "Requirement already satisfied: urllib3!=1.25.0,!=1.25.1,<1.26,>=1.21.1 in /usr/local/lib/python3.7/dist-packages (from requests>=2.20.0->paddlepaddle) (1.24.3)\n",
            "Requirement already satisfied: chardet<4,>=3.0.2 in /usr/local/lib/python3.7/dist-packages (from requests>=2.20.0->paddlepaddle) (3.0.4)\n",
            "Installing collected packages: paddle-bfloat, paddlepaddle\n",
            "Successfully installed paddle-bfloat-0.1.7 paddlepaddle-2.4.0\n"
          ]
        }
      ],
      "source": [
        "pip install paddlepaddle"
      ]
    },
    {
      "cell_type": "code",
      "execution_count": 6,
      "metadata": {
        "colab": {
          "base_uri": "https://localhost:8080/"
        },
        "id": "vWqVulCbSYSb",
        "outputId": "98505a45-a32c-4622-fa19-85d95fa9b20e"
      },
      "outputs": [
        {
          "output_type": "stream",
          "name": "stdout",
          "text": [
            "Looking in indexes: https://pypi.org/simple, https://us-python.pkg.dev/colab-wheels/public/simple/\n",
            "Collecting paddleocr>=2.0.1\n",
            "  Downloading paddleocr-2.6.1.1-py3-none-any.whl (411 kB)\n",
            "\u001b[K     |████████████████████████████████| 411 kB 4.2 MB/s \n",
            "\u001b[?25hRequirement already satisfied: numpy in /usr/local/lib/python3.7/dist-packages (from paddleocr>=2.0.1) (1.21.6)\n",
            "Requirement already satisfied: cython in /usr/local/lib/python3.7/dist-packages (from paddleocr>=2.0.1) (0.29.32)\n",
            "Collecting pyclipper\n",
            "  Downloading pyclipper-1.3.0.post4-cp37-cp37m-manylinux_2_5_x86_64.manylinux1_x86_64.whl (604 kB)\n",
            "\u001b[K     |████████████████████████████████| 604 kB 53.5 MB/s \n",
            "\u001b[?25hCollecting pdf2docx\n",
            "  Downloading pdf2docx-0.5.6-py3-none-any.whl (148 kB)\n",
            "\u001b[K     |████████████████████████████████| 148 kB 63.9 MB/s \n",
            "\u001b[?25hRequirement already satisfied: shapely in /usr/local/lib/python3.7/dist-packages (from paddleocr>=2.0.1) (1.8.5.post1)\n",
            "Collecting PyMuPDF<1.21.0\n",
            "  Downloading PyMuPDF-1.20.2-cp37-cp37m-manylinux_2_17_x86_64.manylinux2014_x86_64.whl (8.8 MB)\n",
            "\u001b[K     |████████████████████████████████| 8.8 MB 9.4 MB/s \n",
            "\u001b[?25hRequirement already satisfied: lmdb in /usr/local/lib/python3.7/dist-packages (from paddleocr>=2.0.1) (0.99)\n",
            "Requirement already satisfied: scikit-image in /usr/local/lib/python3.7/dist-packages (from paddleocr>=2.0.1) (0.18.3)\n",
            "Requirement already satisfied: tqdm in /usr/local/lib/python3.7/dist-packages (from paddleocr>=2.0.1) (4.64.1)\n",
            "Collecting fonttools>=4.24.0\n",
            "  Downloading fonttools-4.38.0-py3-none-any.whl (965 kB)\n",
            "\u001b[K     |████████████████████████████████| 965 kB 44.8 MB/s \n",
            "\u001b[?25hCollecting attrdict\n",
            "  Downloading attrdict-2.0.1-py2.py3-none-any.whl (9.9 kB)\n",
            "Collecting fire>=0.3.0\n",
            "  Downloading fire-0.4.0.tar.gz (87 kB)\n",
            "\u001b[K     |████████████████████████████████| 87 kB 6.4 MB/s \n",
            "\u001b[?25hRequirement already satisfied: opencv-contrib-python in /usr/local/lib/python3.7/dist-packages (from paddleocr>=2.0.1) (4.6.0.66)\n",
            "Requirement already satisfied: imgaug in /usr/local/lib/python3.7/dist-packages (from paddleocr>=2.0.1) (0.4.0)\n",
            "Requirement already satisfied: opencv-python in /usr/local/lib/python3.7/dist-packages (from paddleocr>=2.0.1) (4.6.0.66)\n",
            "Requirement already satisfied: lxml in /usr/local/lib/python3.7/dist-packages (from paddleocr>=2.0.1) (4.9.1)\n",
            "Collecting rapidfuzz\n",
            "  Downloading rapidfuzz-2.13.2-cp37-cp37m-manylinux_2_17_x86_64.manylinux2014_x86_64.whl (2.2 MB)\n",
            "\u001b[K     |████████████████████████████████| 2.2 MB 15.9 MB/s \n",
            "\u001b[?25hCollecting visualdl\n",
            "  Downloading visualdl-2.4.1-py3-none-any.whl (4.9 MB)\n",
            "\u001b[K     |████████████████████████████████| 4.9 MB 30.7 MB/s \n",
            "\u001b[?25hCollecting premailer\n",
            "  Downloading premailer-3.10.0-py2.py3-none-any.whl (19 kB)\n",
            "Requirement already satisfied: openpyxl in /usr/local/lib/python3.7/dist-packages (from paddleocr>=2.0.1) (3.0.10)\n",
            "Requirement already satisfied: beautifulsoup4 in /usr/local/lib/python3.7/dist-packages (from paddleocr>=2.0.1) (4.6.3)\n",
            "Collecting python-docx\n",
            "  Downloading python-docx-0.8.11.tar.gz (5.6 MB)\n",
            "\u001b[K     |████████████████████████████████| 5.6 MB 55.7 MB/s \n",
            "\u001b[?25hRequirement already satisfied: six in /usr/local/lib/python3.7/dist-packages (from fire>=0.3.0->paddleocr>=2.0.1) (1.15.0)\n",
            "Requirement already satisfied: termcolor in /usr/local/lib/python3.7/dist-packages (from fire>=0.3.0->paddleocr>=2.0.1) (2.1.0)\n",
            "Requirement already satisfied: scipy in /usr/local/lib/python3.7/dist-packages (from imgaug->paddleocr>=2.0.1) (1.7.3)\n",
            "Requirement already satisfied: matplotlib in /usr/local/lib/python3.7/dist-packages (from imgaug->paddleocr>=2.0.1) (3.2.2)\n",
            "Requirement already satisfied: Pillow in /usr/local/lib/python3.7/dist-packages (from imgaug->paddleocr>=2.0.1) (7.1.2)\n",
            "Requirement already satisfied: imageio in /usr/local/lib/python3.7/dist-packages (from imgaug->paddleocr>=2.0.1) (2.9.0)\n",
            "Requirement already satisfied: networkx>=2.0 in /usr/local/lib/python3.7/dist-packages (from scikit-image->paddleocr>=2.0.1) (2.6.3)\n",
            "Requirement already satisfied: PyWavelets>=1.1.1 in /usr/local/lib/python3.7/dist-packages (from scikit-image->paddleocr>=2.0.1) (1.3.0)\n",
            "Requirement already satisfied: tifffile>=2019.7.26 in /usr/local/lib/python3.7/dist-packages (from scikit-image->paddleocr>=2.0.1) (2021.11.2)\n",
            "Requirement already satisfied: pyparsing!=2.0.4,!=2.1.2,!=2.1.6,>=2.0.1 in /usr/local/lib/python3.7/dist-packages (from matplotlib->imgaug->paddleocr>=2.0.1) (3.0.9)\n",
            "Requirement already satisfied: python-dateutil>=2.1 in /usr/local/lib/python3.7/dist-packages (from matplotlib->imgaug->paddleocr>=2.0.1) (2.8.2)\n",
            "Requirement already satisfied: cycler>=0.10 in /usr/local/lib/python3.7/dist-packages (from matplotlib->imgaug->paddleocr>=2.0.1) (0.11.0)\n",
            "Requirement already satisfied: kiwisolver>=1.0.1 in /usr/local/lib/python3.7/dist-packages (from matplotlib->imgaug->paddleocr>=2.0.1) (1.4.4)\n",
            "Requirement already satisfied: typing-extensions in /usr/local/lib/python3.7/dist-packages (from kiwisolver>=1.0.1->matplotlib->imgaug->paddleocr>=2.0.1) (4.1.1)\n",
            "Requirement already satisfied: et-xmlfile in /usr/local/lib/python3.7/dist-packages (from openpyxl->paddleocr>=2.0.1) (1.1.0)\n",
            "Requirement already satisfied: requests in /usr/local/lib/python3.7/dist-packages (from premailer->paddleocr>=2.0.1) (2.23.0)\n",
            "Collecting cssutils\n",
            "  Downloading cssutils-2.6.0-py3-none-any.whl (399 kB)\n",
            "\u001b[K     |████████████████████████████████| 399 kB 63.0 MB/s \n",
            "\u001b[?25hCollecting cssselect\n",
            "  Downloading cssselect-1.2.0-py2.py3-none-any.whl (18 kB)\n",
            "Requirement already satisfied: cachetools in /usr/local/lib/python3.7/dist-packages (from premailer->paddleocr>=2.0.1) (5.2.0)\n",
            "Requirement already satisfied: importlib-metadata in /usr/local/lib/python3.7/dist-packages (from cssutils->premailer->paddleocr>=2.0.1) (4.13.0)\n",
            "Requirement already satisfied: zipp>=0.5 in /usr/local/lib/python3.7/dist-packages (from importlib-metadata->cssutils->premailer->paddleocr>=2.0.1) (3.10.0)\n",
            "Requirement already satisfied: certifi>=2017.4.17 in /usr/local/lib/python3.7/dist-packages (from requests->premailer->paddleocr>=2.0.1) (2022.9.24)\n",
            "Requirement already satisfied: urllib3!=1.25.0,!=1.25.1,<1.26,>=1.21.1 in /usr/local/lib/python3.7/dist-packages (from requests->premailer->paddleocr>=2.0.1) (1.24.3)\n",
            "Requirement already satisfied: chardet<4,>=3.0.2 in /usr/local/lib/python3.7/dist-packages (from requests->premailer->paddleocr>=2.0.1) (3.0.4)\n",
            "Requirement already satisfied: idna<3,>=2.5 in /usr/local/lib/python3.7/dist-packages (from requests->premailer->paddleocr>=2.0.1) (2.10)\n",
            "Requirement already satisfied: packaging in /usr/local/lib/python3.7/dist-packages (from visualdl->paddleocr>=2.0.1) (21.3)\n",
            "Collecting multiprocess\n",
            "  Downloading multiprocess-0.70.14-py37-none-any.whl (115 kB)\n",
            "\u001b[K     |████████████████████████████████| 115 kB 60.4 MB/s \n",
            "\u001b[?25hRequirement already satisfied: flask>=1.1.1 in /usr/local/lib/python3.7/dist-packages (from visualdl->paddleocr>=2.0.1) (1.1.4)\n",
            "Collecting Flask-Babel>=1.0.0\n",
            "  Downloading Flask_Babel-2.0.0-py3-none-any.whl (9.3 kB)\n",
            "Requirement already satisfied: pandas in /usr/local/lib/python3.7/dist-packages (from visualdl->paddleocr>=2.0.1) (1.3.5)\n",
            "Requirement already satisfied: protobuf>=3.11.0 in /usr/local/lib/python3.7/dist-packages (from visualdl->paddleocr>=2.0.1) (3.19.6)\n",
            "Collecting bce-python-sdk\n",
            "  Downloading bce_python_sdk-0.8.74-py3-none-any.whl (204 kB)\n",
            "\u001b[K     |████████████████████████████████| 204 kB 44.9 MB/s \n",
            "\u001b[?25hRequirement already satisfied: itsdangerous<2.0,>=0.24 in /usr/local/lib/python3.7/dist-packages (from flask>=1.1.1->visualdl->paddleocr>=2.0.1) (1.1.0)\n",
            "Requirement already satisfied: Werkzeug<2.0,>=0.15 in /usr/local/lib/python3.7/dist-packages (from flask>=1.1.1->visualdl->paddleocr>=2.0.1) (1.0.1)\n",
            "Requirement already satisfied: click<8.0,>=5.1 in /usr/local/lib/python3.7/dist-packages (from flask>=1.1.1->visualdl->paddleocr>=2.0.1) (7.1.2)\n",
            "Requirement already satisfied: Jinja2<3.0,>=2.10.1 in /usr/local/lib/python3.7/dist-packages (from flask>=1.1.1->visualdl->paddleocr>=2.0.1) (2.11.3)\n",
            "Requirement already satisfied: Babel>=2.3 in /usr/local/lib/python3.7/dist-packages (from Flask-Babel>=1.0.0->visualdl->paddleocr>=2.0.1) (2.11.0)\n",
            "Requirement already satisfied: pytz in /usr/local/lib/python3.7/dist-packages (from Flask-Babel>=1.0.0->visualdl->paddleocr>=2.0.1) (2022.6)\n",
            "Requirement already satisfied: MarkupSafe>=0.23 in /usr/local/lib/python3.7/dist-packages (from Jinja2<3.0,>=2.10.1->flask>=1.1.1->visualdl->paddleocr>=2.0.1) (2.0.1)\n",
            "Requirement already satisfied: future>=0.6.0 in /usr/local/lib/python3.7/dist-packages (from bce-python-sdk->visualdl->paddleocr>=2.0.1) (0.16.0)\n",
            "Collecting pycryptodome>=3.8.0\n",
            "  Downloading pycryptodome-3.16.0-cp35-abi3-manylinux_2_5_x86_64.manylinux1_x86_64.manylinux_2_12_x86_64.manylinux2010_x86_64.whl (2.3 MB)\n",
            "\u001b[K     |████████████████████████████████| 2.3 MB 48.2 MB/s \n",
            "\u001b[?25hRequirement already satisfied: dill>=0.3.6 in /usr/local/lib/python3.7/dist-packages (from multiprocess->visualdl->paddleocr>=2.0.1) (0.3.6)\n",
            "Building wheels for collected packages: fire, python-docx\n",
            "  Building wheel for fire (setup.py) ... \u001b[?25l\u001b[?25hdone\n",
            "  Created wheel for fire: filename=fire-0.4.0-py2.py3-none-any.whl size=115943 sha256=45316e6c8da46dcf70c01d7d1040c2297be35df2eb15d9fa35eecbf2daa4d3f2\n",
            "  Stored in directory: /root/.cache/pip/wheels/8a/67/fb/2e8a12fa16661b9d5af1f654bd199366799740a85c64981226\n",
            "  Building wheel for python-docx (setup.py) ... \u001b[?25l\u001b[?25hdone\n",
            "  Created wheel for python-docx: filename=python_docx-0.8.11-py3-none-any.whl size=184505 sha256=16fc51572711443c3d1a5756de73778195a70297ff602e7ca9548e952ffbe757\n",
            "  Stored in directory: /root/.cache/pip/wheels/f6/6f/b9/d798122a8b55b74ad30b5f52b01482169b445fbb84a11797a6\n",
            "Successfully built fire python-docx\n",
            "Installing collected packages: pycryptodome, python-docx, PyMuPDF, multiprocess, fonttools, Flask-Babel, fire, cssutils, cssselect, bce-python-sdk, visualdl, rapidfuzz, pyclipper, premailer, pdf2docx, attrdict, paddleocr\n",
            "Successfully installed Flask-Babel-2.0.0 PyMuPDF-1.20.2 attrdict-2.0.1 bce-python-sdk-0.8.74 cssselect-1.2.0 cssutils-2.6.0 fire-0.4.0 fonttools-4.38.0 multiprocess-0.70.14 paddleocr-2.6.1.1 pdf2docx-0.5.6 premailer-3.10.0 pyclipper-1.3.0.post4 pycryptodome-3.16.0 python-docx-0.8.11 rapidfuzz-2.13.2 visualdl-2.4.1\n"
          ]
        }
      ],
      "source": [
        "pip install \"paddleocr>=2.0.1\""
      ]
    },
    {
      "cell_type": "code",
      "execution_count": 7,
      "metadata": {
        "id": "6gqFOvRHSYSb"
      },
      "outputs": [],
      "source": [
        "from paddleocr import PaddleOCR"
      ]
    },
    {
      "cell_type": "code",
      "execution_count": 9,
      "metadata": {
        "colab": {
          "base_uri": "https://localhost:8080/"
        },
        "id": "Ldh8fpTzSYSb",
        "outputId": "9a364f23-07a7-472e-8397-bfe9fd1e015a"
      },
      "outputs": [
        {
          "output_type": "stream",
          "name": "stdout",
          "text": [
            "download https://paddleocr.bj.bcebos.com/PP-OCRv3/english/en_PP-OCRv3_det_infer.tar to /root/.paddleocr/whl/det/en/en_PP-OCRv3_det_infer/en_PP-OCRv3_det_infer.tar\n"
          ]
        },
        {
          "output_type": "stream",
          "name": "stderr",
          "text": [
            "100%|██████████| 4.00M/4.00M [00:05<00:00, 737kiB/s] \n"
          ]
        },
        {
          "output_type": "stream",
          "name": "stdout",
          "text": [
            "download https://paddleocr.bj.bcebos.com/PP-OCRv3/english/en_PP-OCRv3_rec_infer.tar to /root/.paddleocr/whl/rec/en/en_PP-OCRv3_rec_infer/en_PP-OCRv3_rec_infer.tar\n"
          ]
        },
        {
          "output_type": "stream",
          "name": "stderr",
          "text": [
            "100%|██████████| 9.96M/9.96M [00:03<00:00, 2.52MiB/s]\n"
          ]
        },
        {
          "output_type": "stream",
          "name": "stdout",
          "text": [
            "download https://paddleocr.bj.bcebos.com/dygraph_v2.0/ch/ch_ppocr_mobile_v2.0_cls_infer.tar to /root/.paddleocr/whl/cls/ch_ppocr_mobile_v2.0_cls_infer/ch_ppocr_mobile_v2.0_cls_infer.tar\n"
          ]
        },
        {
          "output_type": "stream",
          "name": "stderr",
          "text": [
            "100%|██████████| 2.19M/2.19M [00:01<00:00, 1.28MiB/s]"
          ]
        },
        {
          "output_type": "stream",
          "name": "stdout",
          "text": [
            "[2022/11/30 16:32:18] ppocr DEBUG: Namespace(alpha=1.0, benchmark=False, beta=1.0, cls_batch_num=6, cls_image_shape='3, 48, 192', cls_model_dir='/root/.paddleocr/whl/cls/ch_ppocr_mobile_v2.0_cls_infer', cls_thresh=0.9, cpu_threads=10, crop_res_save_dir='./output', det=True, det_algorithm='DB', det_box_type='quad', det_db_box_thresh=0.6, det_db_score_mode='fast', det_db_thresh=0.3, det_db_unclip_ratio=1.5, det_east_cover_thresh=0.1, det_east_nms_thresh=0.2, det_east_score_thresh=0.8, det_limit_side_len=960, det_limit_type='max', det_model_dir='/root/.paddleocr/whl/det/en/en_PP-OCRv3_det_infer', det_pse_box_thresh=0.85, det_pse_min_area=16, det_pse_scale=1, det_pse_thresh=0, det_sast_nms_thresh=0.2, det_sast_score_thresh=0.5, draw_img_save_dir='./inference_results', drop_score=0.5, e2e_algorithm='PGNet', e2e_char_dict_path='./ppocr/utils/ic15_dict.txt', e2e_limit_side_len=768, e2e_limit_type='max', e2e_model_dir=None, e2e_pgnet_mode='fast', e2e_pgnet_score_thresh=0.5, e2e_pgnet_valid_set='totaltext', enable_mkldnn=False, fourier_degree=5, gpu_mem=500, help='==SUPPRESS==', image_dir=None, image_orientation=False, ir_optim=True, kie_algorithm='LayoutXLM', label_list=['0', '180'], lang='en', layout=True, layout_dict_path=None, layout_model_dir=None, layout_nms_threshold=0.5, layout_score_threshold=0.5, max_batch_size=10, max_text_length=25, merge_no_span_structure=True, min_subgraph_size=15, mode='structure', ocr=True, ocr_order_method=None, ocr_version='PP-OCRv3', output='./output', page_num=0, precision='fp32', process_id=0, re_model_dir=None, rec=True, rec_algorithm='CRNN', rec_batch_num=6, rec_char_dict_path='/usr/local/lib/python3.7/dist-packages/paddleocr/ppocr/utils/en_dict.txt', rec_image_inverse=True, rec_image_shape='3, 48, 320', rec_model_dir='/root/.paddleocr/whl/rec/en/en_PP-OCRv3_rec_infer', recovery=False, save_crop_res=False, save_log_path='./log_output/', scales=[8, 16, 32], ser_dict_path='../train_data/XFUND/class_list_xfun.txt', ser_model_dir=None, show_log=True, sr_batch_num=1, sr_image_shape='3, 32, 128', sr_model_dir=None, structure_version='PP-StructureV2', table=True, table_algorithm='TableAttn', table_char_dict_path=None, table_max_len=488, table_model_dir=None, total_process_num=1, type='ocr', use_angle_cls=False, use_dilation=False, use_gpu=False, use_mp=False, use_npu=False, use_onnx=False, use_pdf2docx_api=False, use_pdserving=False, use_space_char=True, use_tensorrt=False, use_visual_backbone=True, use_xpu=False, vis_font_path='./doc/fonts/simfang.ttf', warmup=False)\n"
          ]
        },
        {
          "output_type": "stream",
          "name": "stderr",
          "text": [
            "\n"
          ]
        }
      ],
      "source": [
        "ocr = PaddleOCR(lang='en',rec_algorithm='CRNN')"
      ]
    },
    {
      "cell_type": "code",
      "execution_count": 10,
      "metadata": {
        "id": "hV9wTqbESYSb"
      },
      "outputs": [],
      "source": [
        "# DETECTOR"
      ]
    },
    {
      "cell_type": "code",
      "execution_count": null,
      "metadata": {
        "id": "yO8_d_EeSYSb",
        "outputId": "8e0c4c4d-20aa-4fca-dcdd-49fe591bf2bb"
      },
      "outputs": [
        {
          "name": "stdout",
          "output_type": "stream",
          "text": [
            "/Users/vickykimani/Desktop/school work/1st semester/informatics 2/anpr_system/darknet\n"
          ]
        }
      ],
      "source": [
        "%cd ./darknet"
      ]
    },
    {
      "cell_type": "code",
      "source": [
        "pip install darknet"
      ],
      "metadata": {
        "colab": {
          "base_uri": "https://localhost:8080/"
        },
        "id": "lM9n3tSrYo8L",
        "outputId": "1bfb55be-e9ee-40f4-aa24-452e1a0c99f3"
      },
      "execution_count": 11,
      "outputs": [
        {
          "output_type": "stream",
          "name": "stdout",
          "text": [
            "Looking in indexes: https://pypi.org/simple, https://us-python.pkg.dev/colab-wheels/public/simple/\n",
            "Collecting darknet\n",
            "  Downloading darknet-0.3-py3-none-any.whl (4.6 kB)\n",
            "Installing collected packages: darknet\n",
            "Successfully installed darknet-0.3\n"
          ]
        }
      ]
    },
    {
      "cell_type": "code",
      "execution_count": 13,
      "metadata": {
        "id": "9lirEQwBSYSc"
      },
      "outputs": [],
      "source": [
        "import os\n",
        "import glob\n",
        "import random\n",
        "import time\n",
        "import cv2\n",
        "import numpy as np\n",
        "import darknet\n",
        "import subprocess\n",
        "import uuid\n",
        "import sys\n",
        "from PIL import Image\n",
        "import matplotlib\n",
        "import matplotlib.pyplot as plt"
      ]
    },
    {
      "cell_type": "code",
      "execution_count": 14,
      "metadata": {
        "id": "MJ6wRbLqSYSd"
      },
      "outputs": [],
      "source": [
        "%matplotlib inline"
      ]
    },
    {
      "cell_type": "code",
      "execution_count": 15,
      "metadata": {
        "id": "9L5gf3AzSYSd"
      },
      "outputs": [],
      "source": [
        "# darknet object detector imports"
      ]
    },
    {
      "cell_type": "code",
      "execution_count": null,
      "metadata": {
        "id": "l7DItz-fSYSd",
        "outputId": "7021341c-cc54-4422-c6dc-d4cf955e9f59"
      },
      "outputs": [
        {
          "ename": "OSError",
          "evalue": "dlopen(/Users/vickykimani/Desktop/school work/1st semester/informatics 2/anpr_system/darknet/libdarknet.so, 0x000A): tried: '/Users/vickykimani/Desktop/school work/1st semester/informatics 2/anpr_system/darknet/libdarknet.so' (no such file), '/System/Volumes/Preboot/Cryptexes/OS/Users/vickykimani/Desktop/school work/1st semester/informatics 2/anpr_system/darknet/libdarknet.so' (no such file), '/Users/vickykimani/Desktop/school work/1st semester/informatics 2/anpr_system/darknet/libdarknet.so' (no such file)",
          "output_type": "error",
          "traceback": [
            "\u001b[0;31m---------------------------------------------------------------------------\u001b[0m",
            "\u001b[0;31mOSError\u001b[0m                                   Traceback (most recent call last)",
            "Input \u001b[0;32mIn [32]\u001b[0m, in \u001b[0;36m<cell line: 1>\u001b[0;34m()\u001b[0m\n\u001b[0;32m----> 1\u001b[0m \u001b[38;5;28;01mfrom\u001b[39;00m \u001b[38;5;21;01mdarknet_images\u001b[39;00m \u001b[38;5;28;01mimport\u001b[39;00m load_images\n",
            "File \u001b[0;32m~/Desktop/school work/1st semester/informatics 2/anpr_system/darknet/darknet_images.py:8\u001b[0m, in \u001b[0;36m<module>\u001b[0;34m\u001b[0m\n\u001b[1;32m      6\u001b[0m \u001b[38;5;28;01mimport\u001b[39;00m \u001b[38;5;21;01mcv2\u001b[39;00m\n\u001b[1;32m      7\u001b[0m \u001b[38;5;28;01mimport\u001b[39;00m \u001b[38;5;21;01mnumpy\u001b[39;00m \u001b[38;5;28;01mas\u001b[39;00m \u001b[38;5;21;01mnp\u001b[39;00m\n\u001b[0;32m----> 8\u001b[0m \u001b[38;5;28;01mimport\u001b[39;00m \u001b[38;5;21;01mdarknet\u001b[39;00m\n\u001b[1;32m     11\u001b[0m \u001b[38;5;28;01mdef\u001b[39;00m \u001b[38;5;21mparser\u001b[39m():\n\u001b[1;32m     12\u001b[0m     parser \u001b[38;5;241m=\u001b[39m argparse\u001b[38;5;241m.\u001b[39mArgumentParser(description\u001b[38;5;241m=\u001b[39m\u001b[38;5;124m\"\u001b[39m\u001b[38;5;124mYOLO Object Detection\u001b[39m\u001b[38;5;124m\"\u001b[39m)\n",
            "File \u001b[0;32m~/Desktop/school work/1st semester/informatics 2/anpr_system/darknet/darknet.py:236\u001b[0m, in \u001b[0;36m<module>\u001b[0;34m\u001b[0m\n\u001b[1;32m    234\u001b[0m \u001b[38;5;28;01mif\u001b[39;00m os\u001b[38;5;241m.\u001b[39mname \u001b[38;5;241m==\u001b[39m \u001b[38;5;124m\"\u001b[39m\u001b[38;5;124mposix\u001b[39m\u001b[38;5;124m\"\u001b[39m:\n\u001b[1;32m    235\u001b[0m     cwd \u001b[38;5;241m=\u001b[39m os\u001b[38;5;241m.\u001b[39mpath\u001b[38;5;241m.\u001b[39mdirname(\u001b[38;5;18m__file__\u001b[39m)\n\u001b[0;32m--> 236\u001b[0m     lib \u001b[38;5;241m=\u001b[39m \u001b[43mCDLL\u001b[49m\u001b[43m(\u001b[49m\u001b[43mcwd\u001b[49m\u001b[43m \u001b[49m\u001b[38;5;241;43m+\u001b[39;49m\u001b[43m \u001b[49m\u001b[38;5;124;43m\"\u001b[39;49m\u001b[38;5;124;43m/libdarknet.so\u001b[39;49m\u001b[38;5;124;43m\"\u001b[39;49m\u001b[43m,\u001b[49m\u001b[43m \u001b[49m\u001b[43mRTLD_GLOBAL\u001b[49m\u001b[43m)\u001b[49m\n\u001b[1;32m    237\u001b[0m \u001b[38;5;28;01melif\u001b[39;00m os\u001b[38;5;241m.\u001b[39mname \u001b[38;5;241m==\u001b[39m \u001b[38;5;124m\"\u001b[39m\u001b[38;5;124mnt\u001b[39m\u001b[38;5;124m\"\u001b[39m:\n\u001b[1;32m    238\u001b[0m     cwd \u001b[38;5;241m=\u001b[39m os\u001b[38;5;241m.\u001b[39mpath\u001b[38;5;241m.\u001b[39mdirname(\u001b[38;5;18m__file__\u001b[39m)\n",
            "File \u001b[0;32m/opt/anaconda3/envs/tf/lib/python3.10/ctypes/__init__.py:374\u001b[0m, in \u001b[0;36mCDLL.__init__\u001b[0;34m(self, name, mode, handle, use_errno, use_last_error, winmode)\u001b[0m\n\u001b[1;32m    371\u001b[0m \u001b[38;5;28mself\u001b[39m\u001b[38;5;241m.\u001b[39m_FuncPtr \u001b[38;5;241m=\u001b[39m _FuncPtr\n\u001b[1;32m    373\u001b[0m \u001b[38;5;28;01mif\u001b[39;00m handle \u001b[38;5;129;01mis\u001b[39;00m \u001b[38;5;28;01mNone\u001b[39;00m:\n\u001b[0;32m--> 374\u001b[0m     \u001b[38;5;28mself\u001b[39m\u001b[38;5;241m.\u001b[39m_handle \u001b[38;5;241m=\u001b[39m \u001b[43m_dlopen\u001b[49m\u001b[43m(\u001b[49m\u001b[38;5;28;43mself\u001b[39;49m\u001b[38;5;241;43m.\u001b[39;49m\u001b[43m_name\u001b[49m\u001b[43m,\u001b[49m\u001b[43m \u001b[49m\u001b[43mmode\u001b[49m\u001b[43m)\u001b[49m\n\u001b[1;32m    375\u001b[0m \u001b[38;5;28;01melse\u001b[39;00m:\n\u001b[1;32m    376\u001b[0m     \u001b[38;5;28mself\u001b[39m\u001b[38;5;241m.\u001b[39m_handle \u001b[38;5;241m=\u001b[39m handle\n",
            "\u001b[0;31mOSError\u001b[0m: dlopen(/Users/vickykimani/Desktop/school work/1st semester/informatics 2/anpr_system/darknet/libdarknet.so, 0x000A): tried: '/Users/vickykimani/Desktop/school work/1st semester/informatics 2/anpr_system/darknet/libdarknet.so' (no such file), '/System/Volumes/Preboot/Cryptexes/OS/Users/vickykimani/Desktop/school work/1st semester/informatics 2/anpr_system/darknet/libdarknet.so' (no such file), '/Users/vickykimani/Desktop/school work/1st semester/informatics 2/anpr_system/darknet/libdarknet.so' (no such file)"
          ]
        }
      ],
      "source": [
        "from darknet_images import load_images"
      ]
    },
    {
      "cell_type": "code",
      "execution_count": null,
      "metadata": {
        "id": "0sWKafOrSYSd",
        "outputId": "31c6004b-fcc3-4abb-c3ba-e4d382719c48"
      },
      "outputs": [
        {
          "ename": "OSError",
          "evalue": "dlopen(/Users/vickykimani/Desktop/school work/1st semester/informatics 2/anpr_system/darknet/libdarknet.so, 0x000A): tried: '/Users/vickykimani/Desktop/school work/1st semester/informatics 2/anpr_system/darknet/libdarknet.so' (no such file), '/System/Volumes/Preboot/Cryptexes/OS/Users/vickykimani/Desktop/school work/1st semester/informatics 2/anpr_system/darknet/libdarknet.so' (no such file), '/Users/vickykimani/Desktop/school work/1st semester/informatics 2/anpr_system/darknet/libdarknet.so' (no such file)",
          "output_type": "error",
          "traceback": [
            "\u001b[0;31m---------------------------------------------------------------------------\u001b[0m",
            "\u001b[0;31mOSError\u001b[0m                                   Traceback (most recent call last)",
            "Input \u001b[0;32mIn [33]\u001b[0m, in \u001b[0;36m<cell line: 1>\u001b[0;34m()\u001b[0m\n\u001b[0;32m----> 1\u001b[0m \u001b[38;5;28;01mfrom\u001b[39;00m \u001b[38;5;21;01mdarknet_images\u001b[39;00m \u001b[38;5;28;01mimport\u001b[39;00m image_detection\n",
            "File \u001b[0;32m~/Desktop/school work/1st semester/informatics 2/anpr_system/darknet/darknet_images.py:8\u001b[0m, in \u001b[0;36m<module>\u001b[0;34m\u001b[0m\n\u001b[1;32m      6\u001b[0m \u001b[38;5;28;01mimport\u001b[39;00m \u001b[38;5;21;01mcv2\u001b[39;00m\n\u001b[1;32m      7\u001b[0m \u001b[38;5;28;01mimport\u001b[39;00m \u001b[38;5;21;01mnumpy\u001b[39;00m \u001b[38;5;28;01mas\u001b[39;00m \u001b[38;5;21;01mnp\u001b[39;00m\n\u001b[0;32m----> 8\u001b[0m \u001b[38;5;28;01mimport\u001b[39;00m \u001b[38;5;21;01mdarknet\u001b[39;00m\n\u001b[1;32m     11\u001b[0m \u001b[38;5;28;01mdef\u001b[39;00m \u001b[38;5;21mparser\u001b[39m():\n\u001b[1;32m     12\u001b[0m     parser \u001b[38;5;241m=\u001b[39m argparse\u001b[38;5;241m.\u001b[39mArgumentParser(description\u001b[38;5;241m=\u001b[39m\u001b[38;5;124m\"\u001b[39m\u001b[38;5;124mYOLO Object Detection\u001b[39m\u001b[38;5;124m\"\u001b[39m)\n",
            "File \u001b[0;32m~/Desktop/school work/1st semester/informatics 2/anpr_system/darknet/darknet.py:236\u001b[0m, in \u001b[0;36m<module>\u001b[0;34m\u001b[0m\n\u001b[1;32m    234\u001b[0m \u001b[38;5;28;01mif\u001b[39;00m os\u001b[38;5;241m.\u001b[39mname \u001b[38;5;241m==\u001b[39m \u001b[38;5;124m\"\u001b[39m\u001b[38;5;124mposix\u001b[39m\u001b[38;5;124m\"\u001b[39m:\n\u001b[1;32m    235\u001b[0m     cwd \u001b[38;5;241m=\u001b[39m os\u001b[38;5;241m.\u001b[39mpath\u001b[38;5;241m.\u001b[39mdirname(\u001b[38;5;18m__file__\u001b[39m)\n\u001b[0;32m--> 236\u001b[0m     lib \u001b[38;5;241m=\u001b[39m \u001b[43mCDLL\u001b[49m\u001b[43m(\u001b[49m\u001b[43mcwd\u001b[49m\u001b[43m \u001b[49m\u001b[38;5;241;43m+\u001b[39;49m\u001b[43m \u001b[49m\u001b[38;5;124;43m\"\u001b[39;49m\u001b[38;5;124;43m/libdarknet.so\u001b[39;49m\u001b[38;5;124;43m\"\u001b[39;49m\u001b[43m,\u001b[49m\u001b[43m \u001b[49m\u001b[43mRTLD_GLOBAL\u001b[49m\u001b[43m)\u001b[49m\n\u001b[1;32m    237\u001b[0m \u001b[38;5;28;01melif\u001b[39;00m os\u001b[38;5;241m.\u001b[39mname \u001b[38;5;241m==\u001b[39m \u001b[38;5;124m\"\u001b[39m\u001b[38;5;124mnt\u001b[39m\u001b[38;5;124m\"\u001b[39m:\n\u001b[1;32m    238\u001b[0m     cwd \u001b[38;5;241m=\u001b[39m os\u001b[38;5;241m.\u001b[39mpath\u001b[38;5;241m.\u001b[39mdirname(\u001b[38;5;18m__file__\u001b[39m)\n",
            "File \u001b[0;32m/opt/anaconda3/envs/tf/lib/python3.10/ctypes/__init__.py:374\u001b[0m, in \u001b[0;36mCDLL.__init__\u001b[0;34m(self, name, mode, handle, use_errno, use_last_error, winmode)\u001b[0m\n\u001b[1;32m    371\u001b[0m \u001b[38;5;28mself\u001b[39m\u001b[38;5;241m.\u001b[39m_FuncPtr \u001b[38;5;241m=\u001b[39m _FuncPtr\n\u001b[1;32m    373\u001b[0m \u001b[38;5;28;01mif\u001b[39;00m handle \u001b[38;5;129;01mis\u001b[39;00m \u001b[38;5;28;01mNone\u001b[39;00m:\n\u001b[0;32m--> 374\u001b[0m     \u001b[38;5;28mself\u001b[39m\u001b[38;5;241m.\u001b[39m_handle \u001b[38;5;241m=\u001b[39m \u001b[43m_dlopen\u001b[49m\u001b[43m(\u001b[49m\u001b[38;5;28;43mself\u001b[39;49m\u001b[38;5;241;43m.\u001b[39;49m\u001b[43m_name\u001b[49m\u001b[43m,\u001b[49m\u001b[43m \u001b[49m\u001b[43mmode\u001b[49m\u001b[43m)\u001b[49m\n\u001b[1;32m    375\u001b[0m \u001b[38;5;28;01melse\u001b[39;00m:\n\u001b[1;32m    376\u001b[0m     \u001b[38;5;28mself\u001b[39m\u001b[38;5;241m.\u001b[39m_handle \u001b[38;5;241m=\u001b[39m handle\n",
            "\u001b[0;31mOSError\u001b[0m: dlopen(/Users/vickykimani/Desktop/school work/1st semester/informatics 2/anpr_system/darknet/libdarknet.so, 0x000A): tried: '/Users/vickykimani/Desktop/school work/1st semester/informatics 2/anpr_system/darknet/libdarknet.so' (no such file), '/System/Volumes/Preboot/Cryptexes/OS/Users/vickykimani/Desktop/school work/1st semester/informatics 2/anpr_system/darknet/libdarknet.so' (no such file), '/Users/vickykimani/Desktop/school work/1st semester/informatics 2/anpr_system/darknet/libdarknet.so' (no such file)"
          ]
        }
      ],
      "source": [
        "from darknet_images import image_detection"
      ]
    },
    {
      "cell_type": "code",
      "execution_count": null,
      "metadata": {
        "id": "iPf8jlbpSYSd",
        "outputId": "020cad36-b486-46ec-c240-5853167642e6"
      },
      "outputs": [
        {
          "name": "stdout",
          "output_type": "stream",
          "text": [
            "/Users/vickykimani/Desktop/school work/1st semester/informatics 2/anpr_system\n"
          ]
        }
      ],
      "source": [
        "%cd ../"
      ]
    },
    {
      "cell_type": "code",
      "execution_count": null,
      "metadata": {
        "id": "6AESwYBeSYSd"
      },
      "outputs": [],
      "source": [
        "# add absolute paths according to folder structure\n",
        "# declare important variables\n",
        "# path of config file of YOLOv4\n",
        "# path of obj.data file\n",
        "# batch size of data passed to the detector\n",
        "# path of trained YOLOv4 weights\n",
        "# confidence threshold"
      ]
    },
    {
      "cell_type": "code",
      "execution_count": null,
      "metadata": {
        "id": "lKPP-gBbSYSe"
      },
      "outputs": [],
      "source": [
        "config_file = ''"
      ]
    },
    {
      "cell_type": "code",
      "execution_count": null,
      "metadata": {
        "id": "IZ--ZnuuSYSe"
      },
      "outputs": [],
      "source": [
        "data_file = ''"
      ]
    },
    {
      "cell_type": "code",
      "execution_count": null,
      "metadata": {
        "id": "QSy0ZEHySYSe"
      },
      "outputs": [],
      "source": [
        "batch_size = 1"
      ]
    },
    {
      "cell_type": "code",
      "execution_count": null,
      "metadata": {
        "id": "pH7D2jZlSYSe"
      },
      "outputs": [],
      "source": [
        "weights = ''"
      ]
    },
    {
      "cell_type": "code",
      "execution_count": null,
      "metadata": {
        "id": "dG_ieCtxSYSe"
      },
      "outputs": [],
      "source": [
        "thresh = 0.6"
      ]
    },
    {
      "cell_type": "code",
      "execution_count": null,
      "metadata": {
        "id": "zEpxOslHSYSe"
      },
      "outputs": [],
      "source": [
        "# variables storing colors and fonts"
      ]
    },
    {
      "cell_type": "code",
      "execution_count": null,
      "metadata": {
        "id": "SDk00IHnSYSe"
      },
      "outputs": [],
      "source": [
        "font = cv2.FONT_HERSHEY_SIMPLEX\n",
        "blue_color = (255,0,0)\n",
        "white_color = (255,255,255)\n",
        "black_color = (0,0,0)\n",
        "green_color = (0,255,0)\n",
        "yellow_color = (178, 247, 218)"
      ]
    },
    {
      "cell_type": "code",
      "execution_count": null,
      "metadata": {
        "id": "nEAX8cO6SYSe"
      },
      "outputs": [],
      "source": [
        "# more utility functions"
      ]
    },
    {
      "cell_type": "code",
      "execution_count": null,
      "metadata": {
        "id": "Pm7ZVC_5SYSe"
      },
      "outputs": [],
      "source": [
        "def crop(image, coord):\n",
        "    #cropping is done by -> image[y1:y2, x1:x2]\n",
        "    cr_img = image[int(coord[1]):int(coord[3]), int(coord[0]):int(coord[2])]\n",
        "    return cr_img"
      ]
    },
    {
      "cell_type": "code",
      "execution_count": null,
      "metadata": {
        "id": "O0LkZvBcSYSe"
      },
      "outputs": [],
      "source": [
        "def resize_boundingBox(detections, out_size, in_size):\n",
        "    coord = []\n",
        "    scores = []\n",
        "    \n",
        "    # scaling the bounding boxes to the different size\n",
        "    for det in detections:\n",
        "        points = list(det[2])\n",
        "        conf = det[1]\n",
        "        xmin, ymin, xmax, ymax = darknet.bbox2points(points)\n",
        "        yscale = float(out_size[0]) / in_size[0]\n",
        "        xscale = float(out_size[1]) / in_size[1]\n",
        "        ymin = int(y_scale * ymin)\n",
        "        ymax = int(y_scale * ymax)\n",
        "        xmin = int(x_scale * xmin) if int(x_scale * xmin) > 0 else 0\n",
        "        xmax = int(x_scale * xmax)\n",
        "        final_points = [xmin, ymin, xmax-xmin, ymax-ymin]\n",
        "        scores.append(conf)\n",
        "        coord.append(final_points)\n",
        "    return coord, scores"
      ]
    },
    {
      "cell_type": "code",
      "execution_count": null,
      "metadata": {
        "id": "Xy4OKP8ESYSe"
      },
      "outputs": [],
      "source": [
        "def yolo_det(frame, config_file, data_file, batch_size, weights, threshold, output, network, class_names, class_colors, save = False, out_path = ''):\n",
        "    prev_time = time.time()\n",
        "    \n",
        "    # preprocessing the input image\n",
        "    width = darknet.network_width(network)\n",
        "    height = darknet.network_height(network)\n",
        "    darknet_image = darknet.make_image(width, height, 3)\n",
        "    image_rgb = cv2.cvtColor(frame, cv2.COLOR_BGR2RGB)\n",
        "    image_resized = cv2.resize(image_rgb, (width, height))\n",
        "    \n",
        "    # passing the image to the detector and store the detections\n",
        "    darknet.copy_image_from_bytes(darknet_image, image_resized.tonytes())\n",
        "    detections = darknet.detect_image(network, class_names, darknet_image, thresh=threshold)\n",
        "    darknet.free_image(darknet_image)\n",
        "    \n",
        "    # plotting the detections using darknet in_built functions\n",
        "    image = darknet.draw_boxes(detections, image_resized, class_colors)\n",
        "    print(detections)\n",
        "    if save:\n",
        "        im = cv2.cvtColor(image, cv2.COLOR_RGB2BGR)\n",
        "        file_name = out_path + str(uuid.uuid4()) +'-det.jpg'\n",
        "        cv2.imwrite(os.path.join(output, file_name), im)\n",
        "        \n",
        "    # calculating the time taken and FPS for detection\n",
        "    det_time = time.time() - prev_time\n",
        "    fps = int(1/(time.time() - prev_time))\n",
        "    print(\"Detection time: {}\".format(det_time))\n",
        "    \n",
        "    # resizing predicted bounding box from 416*416 to input image resolution\n",
        "    out_size = frame.shape[:2]\n",
        "    in_size = image_resized.shape[:2]\n",
        "    if detections:\n",
        "        coord, scores = resize_bbox(detections, out_size, in_size)\n",
        "        return coord, scores, det_time\n",
        "    else:\n",
        "        scores = 0\n",
        "        return detections, scores, det_time"
      ]
    },
    {
      "cell_type": "code",
      "execution_count": null,
      "metadata": {
        "id": "Tr3XUqCgSYSf"
      },
      "outputs": [],
      "source": [
        "def get_best_ocr(preds, rec_conf, ocr_res, track_id):\n",
        "    for info in preds:\n",
        "        # check if it is current track id\n",
        "        if info['track_id'] == track_id:\n",
        "            # check if the ocr confidence is max\n",
        "            if info['ocr_conf'] < rec_conf:\n",
        "                info['ocr_conf'] = rec_conf\n",
        "                info['ocr_txt'] = ocr_res\n",
        "            else:\n",
        "                rec_conf = info['ocr_conf']\n",
        "                ocr_res = info['ocr_txt']\n",
        "            break\n",
        "        return preds, rec_conf, ocr_res"
      ]
    },
    {
      "cell_type": "code",
      "execution_count": null,
      "metadata": {
        "id": "3Rv8ftsaSYSf"
      },
      "outputs": [],
      "source": [
        "# function for interpreting images"
      ]
    },
    {
      "cell_type": "code",
      "execution_count": null,
      "metadata": {
        "id": "Z3LJghn2SYSf"
      },
      "outputs": [],
      "source": [
        "def test_img(input, config_file, weights, out_path):\n",
        "    # load darknet network and classes along with the bounding box colors\n",
        "    network, class_names, class_colors = darknet.load_network(\n",
        "            config_file, \n",
        "            data_file, \n",
        "            weights, \n",
        "            batch_size = batch_size\n",
        "        )\n",
        "    \n",
        "    # reading the image and performing YOLOv4 detection\n",
        "    img = cv2.imread(input)\n",
        "    bboxes, scores, det_time = yolo_det(img, config_file, data_file, batch_size, weights, thresh, out_path, network, class_names, class_colors)\n",
        "    \n",
        "    # extracting the number plate and applying optical character recognition (OCR)\n",
        "    for bbox in bboxes:\n",
        "        bbox = [bbox[0], bbox[1], bbox[2]- bbox[0], bbox[3] - bbox[1]]\n",
        "        cr_img = crop(img, bbox)\n",
        "        result = ocr.ocr(cr_img, cls=False, det=False)\n",
        "        ocr_res = result[0][0]\n",
        "        rec_conf = result[0][1]\n",
        "        print(result)\n",
        "        \n",
        "    # plotting the results/predictions using opencv\n",
        "    (label_width,label_height), baseline = cv2.getTextSize(ocr_res, font, 2, 3)\n",
        "    top_left = tuple(map(int,[int(bbox[0]), int(bbox[1])-(label_height+baseline)]))\n",
        "    top_right = tuple(map(int,[int(bbox[0])+label_width, int(bbox[1])]))\n",
        "    org = tuple(map(int,[int(bbox[0]),int(bbox[1])-baseline]))\n",
        "    \n",
        "    cv2.rectangle(img, (int(bbox[0]), int(bbox[1])), (int(bbox[2]), int(bbox[3])), blue_color, 2)\n",
        "    cv2.rectangle(img, top_left, top_right, blue_color,-1)\n",
        "    cv2.putText(img, ocr_res, org, font, 2, white_color,3)\n",
        "    \n",
        "    # writing output img\n",
        "    file_name = os.path.join(out_path, 'out_' + input.split('/')[-1])\n",
        "    cv2.imwrite(file_name, img)\n",
        "    "
      ]
    },
    {
      "cell_type": "code",
      "execution_count": null,
      "metadata": {
        "id": "TpBrr0RwSYSf",
        "outputId": "4fb465b0-88c0-4b82-c34b-30cc17e866b3"
      },
      "outputs": [
        {
          "ename": "NameError",
          "evalue": "name 'config_file' is not defined",
          "output_type": "error",
          "traceback": [
            "\u001b[0;31m---------------------------------------------------------------------------\u001b[0m",
            "\u001b[0;31mNameError\u001b[0m                                 Traceback (most recent call last)",
            "Input \u001b[0;32mIn [5]\u001b[0m, in \u001b[0;36m<cell line: 1>\u001b[0;34m()\u001b[0m\n\u001b[0;32m----> 1\u001b[0m test_img(\u001b[38;5;124m'\u001b[39m\u001b[38;5;124m/content/72b88b2f-33b4-49e6-84ba-32b7df5a181c.jpg\u001b[39m\u001b[38;5;124m'\u001b[39m, \u001b[43mconfig_file\u001b[49m, weights, \u001b[38;5;124m'\u001b[39m\u001b[38;5;124m/content/\u001b[39m\u001b[38;5;124m'\u001b[39m)\n",
            "\u001b[0;31mNameError\u001b[0m: name 'config_file' is not defined"
          ]
        }
      ],
      "source": [
        "test_img('/content/72b88b2f-33b4-49e6-84ba-32b7df5a181c.jpg', config_file, weights, '/content/')"
      ]
    },
    {
      "cell_type": "code",
      "execution_count": null,
      "metadata": {
        "id": "fUeHNZsGSYSf"
      },
      "outputs": [],
      "source": [
        "# function for interpreting videos"
      ]
    },
    {
      "cell_type": "code",
      "execution_count": null,
      "metadata": {
        "id": "MK-Jrm8RSYSf"
      },
      "outputs": [],
      "source": [
        "def test_vid(vid_dir, config_file, weights, out_path):\n",
        "    # declare variables for video processing\n",
        "    cap = cv2.VideoCapture(vid_dir)\n",
        "    codec = cv2.VideoWriter_fourcc(*'VID')\n",
        "    width = int(cap.get(cv2.CAP_PROP_FRAME_WIDTH))\n",
        "    height = int(cap.get(cv2.CAP_PROP_FRAME_HEIGHT))\n",
        "    fps = int(cap.get(cv2.CAP_PROP_FPS))\n",
        "    file_name = os.path.join(out_path, 'out_' + vid_dir.split('/')[-1])\n",
        "    out = cv2.VideoWriter(file_name, codec, fps, (width, height))\n",
        "    \n",
        "    # frame count variable\n",
        "    ct = 0\n",
        "    \n",
        "    # load darknet network and classes and bounding box colors\n",
        "    network, class_names, class_colors = darknet.load_network(\n",
        "            config_file,\n",
        "            data_file,\n",
        "            weights,\n",
        "            batch_size= batch_size\n",
        "        )\n",
        "    \n",
        "    # reading videos frame by frame\n",
        "    while(cap.isOpened()):\n",
        "        ret, img = cap.read()\n",
        "        if ret == True:\n",
        "            print(ct)\n",
        "            \n",
        "            # recording time for calculating frame per second\n",
        "            prev_time = time.time()\n",
        "            \n",
        "            # performing the YOLOv4 detection\n",
        "            bboxes, scores, det_time = yolo_det(img, config_file, data_file, batch_size, weights, thresh, out_path, network, class_names, class_colors)\n",
        "            \n",
        "            # extracting the number plate and applying optical character recogntion\n",
        "            if list(bboxes):\n",
        "                for bbox in bboxes:\n",
        "                    bbox = [bbox[0], bbox[1], bbox[2]-bbox[0], bbox[3], - bbox[1]]\n",
        "                    cr_img = crop(img, bbox)\n",
        "                    \n",
        "                    result = ocr.ocr(cr_img, cls=False, det=False)\n",
        "                    \n",
        "                    print(result)\n",
        "                    ocr_res = result[0][0]\n",
        "                    rec_conf = result[0][1]\n",
        "                    \n",
        "                    # plotting the predictions using Opencv\n",
        "                    txt = ocr_res\n",
        "                    (label_width, label_height), baseline = cv2.getTextSize(ocr_res, font,2,3)\n",
        "                    top_left = tuple(map(int,[int(bbox[0]),int(bbox[1])-(label_height+baseline)]))\n",
        "                    top_right = tuple(map(int,[int(bbox[0])+label_width,int(bbox[1])]))\n",
        "                    org = tuple(map(int,[int(bbox[0]),int(bbox[1])-baseline]))\n",
        "                    \n",
        "                    cv2.rectangle(img, (int(bbox[0]), int(bbox[1])), (int(bbox[2]), int(bbox[3])), blue_color, 2)\n",
        "                    cv2.rectangle(img, top_left, top_right, blue_color, -1)\n",
        "                    cv2.putText(img,text,org,font,2,white_color,3)\n",
        "                    \n",
        "                # calculating time taken and fps for the overall process\n",
        "                tot_time = time.time() - prev_time\n",
        "                fps = 1/tot_time\n",
        "                \n",
        "                # writing information onto the frame and saving it to be processed in a video\n",
        "                cv2.putText(img, 'frame: %d fps: %s' % (ct, fps),\n",
        "                           (0, int(100 * 1)), cv2.FONT_HERSHEY_PLAIN, 5, (0, 0, 255), thickness=2)\n",
        "                out.write(img)\n",
        "                \n",
        "            ct = ct + 1\n",
        "        else:\n",
        "            break       "
      ]
    },
    {
      "cell_type": "code",
      "execution_count": null,
      "metadata": {
        "id": "ZTLM1E4GSYSg",
        "outputId": "eb4cbb4e-064c-4a70-b3f8-7e7d2d28ad84"
      },
      "outputs": [
        {
          "ename": "NameError",
          "evalue": "name 'config_file' is not defined",
          "output_type": "error",
          "traceback": [
            "\u001b[0;31m---------------------------------------------------------------------------\u001b[0m",
            "\u001b[0;31mNameError\u001b[0m                                 Traceback (most recent call last)",
            "Input \u001b[0;32mIn [3]\u001b[0m, in \u001b[0;36m<cell line: 3>\u001b[0;34m()\u001b[0m\n\u001b[1;32m      1\u001b[0m input_dir \u001b[38;5;241m=\u001b[39m \u001b[38;5;124m'\u001b[39m\u001b[38;5;124mPexels Videos 2103099.mp4\u001b[39m\u001b[38;5;124m'\u001b[39m\n\u001b[1;32m      2\u001b[0m out_path \u001b[38;5;241m=\u001b[39m \u001b[38;5;124m'\u001b[39m\u001b[38;5;124m/content/\u001b[39m\u001b[38;5;124m'\u001b[39m\n\u001b[0;32m----> 3\u001b[0m test_vid(input_dir, \u001b[43mconfig_file\u001b[49m, weights, out_path)\n",
            "\u001b[0;31mNameError\u001b[0m: name 'config_file' is not defined"
          ]
        }
      ],
      "source": [
        "input_dir = 'Pexels Videos 2103099.mp4'\n",
        "out_path = '/content/'\n",
        "test_vid(input_dir, config_file, weights, out_path)"
      ]
    },
    {
      "cell_type": "code",
      "execution_count": null,
      "metadata": {
        "id": "D6txTXd2SYSg"
      },
      "outputs": [],
      "source": [
        "# integrating tracker"
      ]
    },
    {
      "cell_type": "code",
      "execution_count": null,
      "metadata": {
        "id": "sxWTemyjSYSg"
      },
      "outputs": [],
      "source": [
        "# using pretrained model"
      ]
    },
    {
      "cell_type": "code",
      "execution_count": null,
      "metadata": {
        "id": "rMZZC4IgSYSg"
      },
      "outputs": [],
      "source": [
        "def tracker_test_vid(vid_dir, config_file, weights, out_path):\n",
        "    # declare variables \n",
        "    cap = cv2.VideoCapture(vid_dir)\n",
        "    codec = cv2.VideoWriter_forucc(*'VID')\n",
        "    width = int(cap.get(cv2.CAP_PROP_FRAME_WIDTH))\n",
        "    height = int(cap.get(cv2.CAP_PROP_FRAME_HEIGHT))\n",
        "    fps = int(cap.get(cv2.CAP_PROP_FPS))\n",
        "    file_name = os.path.join(out_path, 'out_' + vid_dir.split('/')[-1])\n",
        "    \n",
        "    out = cv2.VideoWriter(file_name, codec, fps, (width, height))\n",
        "    \n",
        "    # declaring variables for tracker\n",
        "    max_cosine_distance = 0.4\n",
        "    nn_budget = None\n",
        "    \n",
        "    # initialising tracker\n",
        "    model_filename = './model_data/mars-smalll28.pb'\n",
        "    encoder = gdet.create_box_encoder(model_filename, batch_size=1)\n",
        "    metric = nn_matching.NearestNeighborDistanceMetric(\"cosine\", max_cosine_distance, nn_budget)\n",
        "    tracker = Tracker(metric)\n",
        "    \n",
        "    # adding helper variables\n",
        "    ct = 0\n",
        "    preds = []\n",
        "    total_obj = 0\n",
        "    rec_tot_time = 1\n",
        "    alpha = 0.5\n",
        "    \n",
        "    # loading darknet network and classes along with bbox colors\n",
        "    network, class_names, class_colors = darknet.load_network(\n",
        "            config_file,\n",
        "            data_file,\n",
        "            weights,\n",
        "            batch_size = batch_size\n",
        "    )\n",
        "    \n",
        "    # reading video frame by frame\n",
        "    while(cap.isOpened()):\n",
        "        ret, img = cap.read()\n",
        "        if ret == True:\n",
        "            \n",
        "            h, w = img.shape[:2]\n",
        "            print(ct)\n",
        "            \n",
        "            w_scale = w/1.55\n",
        "            h_scale = h/17\n",
        "            \n",
        "            overlay_img = img.copy()\n",
        "            cv2.rectangle(img, (int(w_scale), 0), (w, int(h_scale*3.4)), (0,0,0), -1)\n",
        "            cv2.addWeighted(img, alpha, overlay_img, 1 - alpha, 0, overlay_img)\n",
        "            \n",
        "            # record time for calculating fps\n",
        "            prev_time = time.time()\n",
        "            \n",
        "            #yolov4 detection\n",
        "            bboxes, scores, det_time = yolo_det(img, config_file, data_file, batch_size, weights, thresh, out_path, network, class_names, class_colors)\n",
        "            \n",
        "            if list(bboxes):\n",
        "                features = encoder(img, bboxes)\n",
        "                detections = [Detection(bbox, score, feature) for bbox, score, feature in zip(bboxes, scores, features)]\n",
        "                tracker.predict()\n",
        "                tracker.update(detections)\n",
        "                track_time = time.time() - prev_time\n",
        "                for track in tracker.tracks:\n",
        "                    if not track.is_confirmed() or track.time_since_update > 1:\n",
        "                        continue\n",
        "                        \n",
        "                    bbox = list(track.to_tlbr())\n",
        "                    \n",
        "                    for i in range(len(bbox)):\n",
        "                        if bbox[i] < 0:\n",
        "                            bbox[i] = 0\n",
        "                            \n",
        "                    cr_img = crop(img, bbox)\n",
        "                    \n",
        "                    rec_pre_time = time.time()\n",
        "                    result = ocr.ocr(cr_img, cls=False, det=False)\n",
        "                    rec_tot_time = time.time() - rec_pre_time\n",
        "                    \n",
        "                    ocr_res = result[0][0]\n",
        "                    print(result)\n",
        "                    rec_conf = result[0][1]\n",
        "                    \n",
        "                    if rec_conf == 'nan':\n",
        "                        rec_conf = 0\n",
        "                        \n",
        "                    output_frame = {\"track_id\":track.track_id, \"ocr_txt\":ocr_res, \"ocr_conf\":rec_conf}\n",
        "                    \n",
        "                    if track.track_id not in list(set(ele['track_id'] for ele in preds)):\n",
        "                        total_obj = total_obj + 1\n",
        "                        preds.append(output_frame)\n",
        "                    else:\n",
        "                        preds, rec_conf, ocr_res = get_best_ocr(preds, rec_conf, ocr_res, track.track_id)\n",
        "                        \n",
        "                    txt = str(track.track_id) + '. ' + ocr_res\n",
        "                    (label_width,label_height), baseline = cv2.getTextSize(txt, font,2,3)\n",
        "                    top_left = tuple(map(int,[int(bbox[0]),int(bbox[1])-(label_height+baseline)]))\n",
        "                    top_right = tuple(map(int,[int(bbox[0])+label_width,int(bbox[1])]))\n",
        "                    org = tuple(map(int,[int(bbox[0]),int(bbox[1])-baseline]))\n",
        "                    \n",
        "                    cv2.rectangle(overlay_img, (int(bbox[0]), int(bbox[1])), (int(bbox[2]), int(bbox[3])), blue_color, 2)\n",
        "                    cv2.rectangle(overlay_img, top_left, top_right, blue_color, -1)\n",
        "                    cv2.putText(overlay_img, txt, org, font, 2, white_color, 3)\n",
        "                    \n",
        "                tot_time = time.time() - prev_time\n",
        "                fps = 1/tot_time\n",
        "                \n",
        "                if w < 2000:\n",
        "                    size = 1\n",
        "                else:\n",
        "                    size = 2\n",
        "                    \n",
        "                (label_width,label_height), baseline = cv2.getTextSize('Frame count:', font, size, 2)\n",
        "                top_left = (int(w_scale) + 10, int(h_scale))\n",
        "                cv2.putText(overlay_img, 'Frame count:', top_left, font, size, green_color, thickness=2)\n",
        "                \n",
        "                \n",
        "                top_left_r1 = (int(w_scale) + 10 + label_width, int(h_scale))\n",
        "                cv2.putText(overlay_img,'%d ' % (ct), top_left_r1, font, size, yellow_color, thickness=2)\n",
        "                \n",
        "                (label_width, label_height), baseline = cv2.getTextSize('Frame count:' + ' ' + str(ct) , font, size, size,2)\n",
        "                top_left_rl = (int(w_scale) + 10 + label_width, int(h_scale))\n",
        "                cv2.putText(overlay_img, 'Total FPS:' , top_left_r1, font, size, green_color, thickness=2)\n",
        "                \n",
        "                (label_width,label_height), baseline = cv2.getTextSize('Frame count:' + ' ' + str(ct) + 'Total FPS:' , font, size,2)\n",
        "                top_left_r1 = (int(w_scale) + 10 + label_widht, int(h_scale))\n",
        "                cv2.putText(overlay_img, '%s' % (int(fps)), top_left_r1, font, size, yellow_color, thickness=2)\n",
        "                \n",
        "                cv2.putText(overlay_img, 'Detection FPS:' ,(top_left[0], int(h_scale*1.7)), font, size, green_color, thickness=2)\n",
        "                (label_width,label_height), baseline = cv2.getTextSize('Detection FPS:', font,size,2)\n",
        "                cv2.putText(overlay_img, '%d' % ((int(1/det_time))),(top_left[0] + label_width, int(h_scale*1.7)), font, size, yellow_color, thickness=2)\n",
        "                \n",
        "                cv2.putText(overlay_img, 'Recognition FPS:',(top_left[0], int(h_scale*2.42)), font, size, green_color, thickness=2)\n",
        "                (label_width,label_height), baseline = cv2.getTextSize('Recognition FPS:', font, size,2)\n",
        "                cv2.putText(overlay_img, '%s' % ((int(1/rec_tot_time))),(top_left[0] + label_width, int(h_scale*2.42)), font, size, yellow_color, thickness=2)\n",
        "                cv2.imwrite('/content/{}.jpg'.format(ct), overlay_img)\n",
        "                out.write(overlay_img)\n",
        "                \n",
        "                #increasing frame count\n",
        "                ct = ct + 1\n",
        "            else:\n",
        "                break"
      ]
    },
    {
      "cell_type": "code",
      "execution_count": null,
      "metadata": {
        "id": "30AE-KXcSYSg"
      },
      "outputs": [],
      "source": [
        "input_dir = 'Pexels videos 2103099.mp4'\n",
        "out_path = '/content/'"
      ]
    },
    {
      "cell_type": "code",
      "execution_count": null,
      "metadata": {
        "id": "T9uEivF6SYSh",
        "outputId": "c44d1162-a1b6-4b65-cc8b-b883c1f3f2c6"
      },
      "outputs": [
        {
          "ename": "NameError",
          "evalue": "name 'config_file' is not defined",
          "output_type": "error",
          "traceback": [
            "\u001b[0;31m---------------------------------------------------------------------------\u001b[0m",
            "\u001b[0;31mNameError\u001b[0m                                 Traceback (most recent call last)",
            "Input \u001b[0;32mIn [3]\u001b[0m, in \u001b[0;36m<cell line: 1>\u001b[0;34m()\u001b[0m\n\u001b[0;32m----> 1\u001b[0m tracker_test_vid(input_dir, \u001b[43mconfig_file\u001b[49m, weights, out_path)\n",
            "\u001b[0;31mNameError\u001b[0m: name 'config_file' is not defined"
          ]
        }
      ],
      "source": [
        "tracker_test_vid(input_dir, config_file, weights, out_path)"
      ]
    },
    {
      "cell_type": "code",
      "execution_count": null,
      "metadata": {
        "id": "nifdswGGSYSh"
      },
      "outputs": [],
      "source": []
    }
  ],
  "metadata": {
    "interpreter": {
      "hash": "aee8b7b246df8f9039afb4144a1f6fd8d2ca17a180786b69acc140d282b71a49"
    },
    "kernelspec": {
      "display_name": "Python 3 (ipykernel)",
      "language": "python",
      "name": "python3"
    },
    "language_info": {
      "codemirror_mode": {
        "name": "ipython",
        "version": 3
      },
      "file_extension": ".py",
      "mimetype": "text/x-python",
      "name": "python",
      "nbconvert_exporter": "python",
      "pygments_lexer": "ipython3",
      "version": "3.10.6"
    },
    "colab": {
      "provenance": [],
      "include_colab_link": true
    }
  },
  "nbformat": 4,
  "nbformat_minor": 0
}